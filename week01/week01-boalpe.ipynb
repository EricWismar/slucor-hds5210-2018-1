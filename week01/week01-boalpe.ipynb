{
 "cells": [
  {
   "cell_type": "markdown",
   "metadata": {},
   "source": [
    "_SLUCOR HDS5210 - Programming for Health Data Science - Spring 2018_\n",
    "\n",
    "Week 1 (Jan 22) Exercises\n",
    "===\n",
    "\n",
    "_Gries Ch 1, 2_"
   ]
  },
  {
   "cell_type": "markdown",
   "metadata": {},
   "source": [
    "#1 Get Setup for Class\n",
    "---\n",
    "\n",
    "There won't be anything to submit for #1, but the log files will show who has and hasn't gotten their accounts configured and will be able to connect to everything.\n",
    "\n",
    "1. Signup for an account at https://education.github.com/pack/join\n",
    "2. Sign-on to https://j2018.slucor.net/hub/login using your new GitHub.com account\n",
    "3. Create a new notebook called \"week01-`username`\" for the assignments below\n"
   ]
  },
  {
   "cell_type": "markdown",
   "metadata": {},
   "source": [
    "Two Rules for every class\n",
    "---\n",
    "\n",
    "1. All of your assignmnet notebooks should be named using the same consistent format: \"week##-username\".  You'll lose points if they aren't name correctly.\n",
    "\n",
    "2. Clearly label each problem in your notebook either by adding a markdown cell for documentation or including a comment at the top of the code cell."
   ]
  },
  {
   "cell_type": "markdown",
   "metadata": {},
   "source": [
    "#2 Processing in Python\n",
    "---\n",
    "\n",
    "In the first cell of your notebook, use a comment block to explain how Python evaluates the following expression when `x` has a value of 3.\n",
    "\n",
    "```\n",
    "x += x - x\n",
    "```"
   ]
  },
  {
   "cell_type": "markdown",
   "metadata": {},
   "source": [
    "**Solution**\n",
    "\n",
    "First, Python evaluates the right-hand side of the assignment by substituting `x` with a value of `3`.  The operation `x - x` is evaluated as `3 - 3`, which has a value of `0`.\n",
    "\n",
    "Next, Python performs the `+=` (assign with addition) operator.  Since `x` currently equals `3` and `x - x` previously evaluated to `0`, this is the same as saying `x = x + 0`.\n",
    "\n",
    "Python evaluates that as `x = 3 + 0` and therefoe assigns the value of `3` to `x`... which is no different than what it was."
   ]
  },
  {
   "cell_type": "markdown",
   "metadata": {},
   "source": [
    "#3 Average Heartrate\n",
    "---\n",
    "\n",
    "In the next cell of your homework notebook, compute the floating point average of the following numbers, using basic +, -, \\*, / arithmetic and assign that to a variable named `average_heartrate`.  Print that result to teh notebook's output.  Don't use lists or the built-in average function, yet.\n",
    "```\n",
    "98, 87, 92, 90, 90, 91\n",
    "```\n"
   ]
  },
  {
   "cell_type": "markdown",
   "metadata": {},
   "source": [
    "**Solution**"
   ]
  },
  {
   "cell_type": "code",
   "execution_count": 2,
   "metadata": {},
   "outputs": [
    {
     "name": "stdout",
     "output_type": "stream",
     "text": [
      "91.33333333333333\n"
     ]
    }
   ],
   "source": [
    "average_heartrate = (98 + 87 + 92 + 90 + 90 + 91) / 6\n",
    "print(average_heartrate)"
   ]
  },
  {
   "cell_type": "markdown",
   "metadata": {},
   "source": [
    "#4 BMI\n",
    "---\n",
    "Create variables with teh corresponding values from the list below, and use the variables to compute the corresponding body mass index (BMI).  You can use any meaning variable names you like.  When you compute the BMI, assign a variable to it, and then print the result to the notebook's output.\n",
    "\n",
    "* Weght in kilograms is 90.7\n",
    "* Height in centimeters in 182\n",
    "\n",
    "Note that a simple BMI calculation is weight in kilograms divided by the square of height in meters.\n",
    "\n",
    "\n",
    "Also note that BMI should not be considered a universal measure of health or fitness.  A _health_ BMI can vary greatly depending on many other fitness conditions and body types."
   ]
  },
  {
   "cell_type": "markdown",
   "metadata": {},
   "source": [
    "**Solution**"
   ]
  },
  {
   "cell_type": "code",
   "execution_count": 4,
   "metadata": {},
   "outputs": [
    {
     "name": "stdout",
     "output_type": "stream",
     "text": [
      "27.38195870064002\n"
     ]
    }
   ],
   "source": [
    "weight = 90.7\n",
    "height = 182\n",
    "height_m = height/100\n",
    "bmi = weight / (height_m ** 2)\n",
    "print(bmi)"
   ]
  },
  {
   "cell_type": "markdown",
   "metadata": {},
   "source": [
    "#5 Weight Loss\n",
    "---\n",
    "\n",
    "Assuming that someone doesn't change height over time, what is the approximate number of days it will take for someone to get from the BMI you found in #4 above to a BMI of 24.9 (typically regarded as being in a _healthy_ range) while losing weight at a rate of 0.75 kg per week.\n",
    "\n",
    "As needed, use variables and multiple calculation steps to make your thought process visible in the code.  For instance, rather than using the notebook as a calculator, use variables for intermediate answers.\n",
    "\n",
    "Make sure that your final answer appears in the notebook's output."
   ]
  },
  {
   "cell_type": "markdown",
   "metadata": {},
   "source": [
    "**Solution**"
   ]
  },
  {
   "cell_type": "code",
   "execution_count": 8,
   "metadata": {},
   "outputs": [
    {
     "name": "stdout",
     "output_type": "stream",
     "text": [
      "82.47876\n"
     ]
    }
   ],
   "source": [
    "# We can use desired BMI and previously known height to calculate the desired weight.\n",
    "desired_bmi = 24.9\n",
    "desired_weight = desired_bmi * (height_m ** 2)\n",
    "print(desired_weight)"
   ]
  },
  {
   "cell_type": "code",
   "execution_count": 9,
   "metadata": {},
   "outputs": [
    {
     "name": "stdout",
     "output_type": "stream",
     "text": [
      "10.961653333333345\n"
     ]
    }
   ],
   "source": [
    "# To find out how many weeks it will take, we can figure out the difference in weight\n",
    "# and desired weight, and divide by the loss per week.\n",
    "kg_per_wk = 0.75\n",
    "wks = (weight - desired_weight) / kg_per_wk\n",
    "print(wks)"
   ]
  },
  {
   "cell_type": "code",
   "execution_count": null,
   "metadata": {},
   "outputs": [],
   "source": []
  }
 ],
 "metadata": {
  "kernelspec": {
   "display_name": "Python 3",
   "language": "python",
   "name": "python3"
  },
  "language_info": {
   "codemirror_mode": {
    "name": "ipython",
    "version": 3
   },
   "file_extension": ".py",
   "mimetype": "text/x-python",
   "name": "python",
   "nbconvert_exporter": "python",
   "pygments_lexer": "ipython3",
   "version": "3.5.2"
  }
 },
 "nbformat": 4,
 "nbformat_minor": 2
}
