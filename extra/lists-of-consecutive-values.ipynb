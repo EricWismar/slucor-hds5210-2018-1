{
 "cells": [
  {
   "cell_type": "markdown",
   "metadata": {},
   "source": [
    "Question\n",
    "---\n",
    "\n",
    "Given a list of non-repetitive positive integer list \n",
    "```\n",
    "L = [1, 9, 3, 10, 4, 8, 20, 2, 21, 30]\n",
    "```\n",
    "\n",
    "output all consecutive subsequences \n",
    "```\n",
    "[[1, 2, 3, 4], [8, 9, 10], [20, 21], [30]]\n",
    "```"
   ]
  },
  {
   "cell_type": "markdown",
   "metadata": {},
   "source": [
    "Solution Strategy\n",
    "---\n",
    "\n",
    "First, pre-sort the given list (`L`).\n",
    "\n",
    "Initialize both your final  resulting list (`R`) as well as the first list of consecutive elements (`C`).\n",
    "\n",
    "Then, loop through the sorted input list one item at a time.  \n",
    "* If this is the first item, then add it to `C`\n",
    "* Else if this is one more than the last element in `C`, then append to `C`\n",
    "* Otherwise, append `C` to `R` and start a new `C` with just the current element\n",
    "\n",
    "Append the last consecutive list `C` to our output `R`.\n",
    "\n",
    "Then return `R`"
   ]
  },
  {
   "cell_type": "code",
   "execution_count": 40,
   "metadata": {},
   "outputs": [],
   "source": [
    "import logging\n",
    "def consecutive_lists(L):\n",
    "    L.sort()\n",
    "    \n",
    "    R = []  # Final resulting list of lists\n",
    "    C = []  # First set of consecutive numbers\n",
    "    \n",
    "    for i in range(0,len(L)):\n",
    "        if i == 0:\n",
    "            logging.debug(\"L[{:d}] has value of {}\".format(i,L[i]))\n",
    "            logging.debug(\"  Adding first element to our empty internal list\")\n",
    "            C.append(L[i])\n",
    "        else:\n",
    "            logging.debug(\"L[{:d}] has value of {}\".format(i,L[i]))\n",
    "            if L[i] == (C[-1] + 1):\n",
    "                logging.debug(\"  {} == {} + 1\".format(i,L[i],C[-1]))\n",
    "                logging.debug(\"  Appending {} to list {}\".format(L[i], C))\n",
    "                C.append(L[i])\n",
    "            else:\n",
    "                logging.debug(\"  {} != {} + 1\".format(i,L[i],C[-1]))\n",
    "                logging.debug(\"  Finishing current list {} and starting new list with {}\".format(C, L[i]))\n",
    "                R.append(C)\n",
    "                C = [L[i]]\n",
    "                \n",
    "    R.append(C)\n",
    "    return R"
   ]
  },
  {
   "cell_type": "code",
   "execution_count": 41,
   "metadata": {},
   "outputs": [],
   "source": [
    "import logging\n",
    "import imp\n",
    "imp.reload(logging)\n",
    "logging.basicConfig(level=logging.DEBUG)"
   ]
  },
  {
   "cell_type": "code",
   "execution_count": 42,
   "metadata": {},
   "outputs": [
    {
     "name": "stderr",
     "output_type": "stream",
     "text": [
      "DEBUG:root:L[0] has value of 1\n",
      "DEBUG:root:  Adding first element to our empty internal list\n",
      "DEBUG:root:L[1] has value of 2\n",
      "DEBUG:root:  1 == 2 + 1\n",
      "DEBUG:root:  Appending 2 to list [1]\n",
      "DEBUG:root:L[2] has value of 3\n",
      "DEBUG:root:  2 == 3 + 1\n",
      "DEBUG:root:  Appending 3 to list [1, 2]\n",
      "DEBUG:root:L[3] has value of 4\n",
      "DEBUG:root:  3 == 4 + 1\n",
      "DEBUG:root:  Appending 4 to list [1, 2, 3]\n",
      "DEBUG:root:L[4] has value of 8\n",
      "DEBUG:root:  4 != 8 + 1\n",
      "DEBUG:root:  Finishing current list [1, 2, 3, 4] and starting new list with 8\n",
      "DEBUG:root:L[5] has value of 9\n",
      "DEBUG:root:  5 == 9 + 1\n",
      "DEBUG:root:  Appending 9 to list [8]\n",
      "DEBUG:root:L[6] has value of 10\n",
      "DEBUG:root:  6 == 10 + 1\n",
      "DEBUG:root:  Appending 10 to list [8, 9]\n",
      "DEBUG:root:L[7] has value of 20\n",
      "DEBUG:root:  7 != 20 + 1\n",
      "DEBUG:root:  Finishing current list [8, 9, 10] and starting new list with 20\n",
      "DEBUG:root:L[8] has value of 21\n",
      "DEBUG:root:  8 == 21 + 1\n",
      "DEBUG:root:  Appending 21 to list [20]\n",
      "DEBUG:root:L[9] has value of 30\n",
      "DEBUG:root:  9 != 30 + 1\n",
      "DEBUG:root:  Finishing current list [20, 21] and starting new list with 30\n"
     ]
    },
    {
     "data": {
      "text/plain": [
       "[[1, 2, 3, 4], [8, 9, 10], [20, 21], [30]]"
      ]
     },
     "execution_count": 42,
     "metadata": {},
     "output_type": "execute_result"
    }
   ],
   "source": [
    "consecutive_lists([1, 9, 3, 10, 4, 8, 20, 2, 21, 30])"
   ]
  },
  {
   "cell_type": "code",
   "execution_count": null,
   "metadata": {},
   "outputs": [],
   "source": []
  }
 ],
 "metadata": {
  "kernelspec": {
   "display_name": "Python 3",
   "language": "python",
   "name": "python3"
  },
  "language_info": {
   "codemirror_mode": {
    "name": "ipython",
    "version": 3
   },
   "file_extension": ".py",
   "mimetype": "text/x-python",
   "name": "python",
   "nbconvert_exporter": "python",
   "pygments_lexer": "ipython3",
   "version": "3.5.2"
  }
 },
 "nbformat": 4,
 "nbformat_minor": 2
}
