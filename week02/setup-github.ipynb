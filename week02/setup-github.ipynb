{
 "cells": [
  {
   "cell_type": "markdown",
   "metadata": {},
   "source": [
    "Welcome to HDS5210\n",
    "===\n",
    "\n",
    "To help develop some good programming habits during this class, one thing we will do is use GitHub.com to manage weekly assignments. Once you've created a GitHub.com account, you can follow the instructions below to get a current copy of the course materials and exercises.\n",
    "\n",
    "Generate SSH Key\n",
    "---\n",
    "\n",
    "GitHub.com uses a protocol called SSH (Secure SHell) to manage communications between client computers and its services. The SSH protocol uses a private/public key pair to encrypt communications and verify the authenticity of users. For that protocol to work, GitHub.com has to know a public key, whose private key is configured on the computer that will be running git commands, in this case, our Jupyter server. You can also do commenads like this on your own laptop if you want to access the class files on your local machine rather than only through the web interface."
   ]
  },
  {
   "cell_type": "code",
   "execution_count": 1,
   "metadata": {},
   "outputs": [
    {
     "name": "stdout",
     "output_type": "stream",
     "text": [
      "ssh-rsa AAAAB3NzaC1yc2EAAAADAQABAAABAQC4rqxtjAsKG+edHmRVFffmZrKrbvJCuSg7HWsdr6BRBZfi8VC8JiCodHcE3688vrcvU/woejX416kPJx8ytfP0MaqMJIOaQllZL0XKHjKip6v3zkG4G5yumhExMDgmn6i3E0XeliTSOP9PDJOZyJAZvOK/dY5gXskpBnFo3ROnWTzRlVivI8GzEJCUw6AbRK+GeI7W7kqUNeI2jg99dsCj2O0Beq77Y2mVvMqjVsUNGFXEa4C/3fivtff3MeIKysqeCPlcYdyIHrK7NBEqWV+cNjdhzZxFQynxbTSzIRUSefCg2bNhSQR+V43NY2ADXwHBvveErMsdDDjSLvXNpAbn paulboal@ip-172-31-48-213\n"
     ]
    }
   ],
   "source": [
    "%%bash\n",
    "cd ~\n",
    "rm -rf .ssh\n",
    "ssh-keygen -t rsa -N \"\" -f ~/.ssh/id_rsa -q\n",
    "cd ~/.ssh\n",
    "cat id_rsa.pub"
   ]
  },
  {
   "cell_type": "markdown",
   "metadata": {},
   "source": [
    "Add SSH Key to GitHub.com\n",
    "---\n",
    "\n",
    "Take the value you get from above and add it as an SSH key in GitHub.com.\n",
    "\n",
    "* Login to https://GitHub.com\n",
    "* Click your profile image in the upper-right corner and choose `Settings`\n",
    "* Choose SSH and GPG Keys from the left-hand menu\n",
    "* Click New SSH Key in the upper-right corner\n",
    "* Use a title of something like SLUCOR and then paste the text from above into the key text box.\n",
    "* Click Add SSH Key"
   ]
  },
  {
   "cell_type": "markdown",
   "metadata": {},
   "source": [
    "Configure some git settings\n",
    "---\n",
    "\n",
    "Set some basic Git settings like email and name.\n",
    "\n",
    "Replace my example user name and email address with yours."
   ]
  },
  {
   "cell_type": "code",
   "execution_count": 2,
   "metadata": {},
   "outputs": [],
   "source": [
    "%%bash\n",
    "git config --global user.email \"boalpe@slu.edu\"\n",
    "git config --global user.name \"Paul Boal\""
   ]
  },
  {
   "cell_type": "markdown",
   "metadata": {},
   "source": [
    "Clone the class repository\n",
    "---\n",
    "\n",
    "Some terms for understanding git and github.\n",
    "**repository** - A \"project\" or an area where you can control access and manage a related set of files.  Typically you'll have one project per repository, but that may not be the case on much larger projects.\n",
    "\n",
    "**clone** - Get a brand new copy of an existing repository.\n",
    "\n",
    "**branch** - A way to split off from a single starting version of project code, make separate and potentially independent changes, and then merge those changes made in isolation back together.\n",
    "\n",
    "**chekcout** - Switch from one branch of code to another.\n",
    "\n",
    "**commit** - Take all the file edits you've made and snapshot the code at this point.  Now, you can return to that code at any point in time in the future.\n",
    "\n",
    "**push** - Take the set of changes you've made and synchronize them with the github server.  Now other users that you authorize can see the changes you've made.\n",
    "\n",
    "**pull** - Ask github for any changes that other people may have made since the last time you synchronized, and try to merge them into your local code automatically."
   ]
  },
  {
   "cell_type": "code",
   "execution_count": 10,
   "metadata": {},
   "outputs": [
    {
     "name": "stdout",
     "output_type": "stream",
     "text": [
      "total 28\n",
      "-rw-r--r-- 1 paulboal paulboal  1066 Jan 24 05:43 LICENSE\n",
      "-rw-r--r-- 1 paulboal paulboal   522 Jan 24 05:43 README.md\n",
      "-rw-r--r-- 1 paulboal paulboal 10486 Jan 24 05:43 SYLLABUS.md\n",
      "drwxr-xr-x 3 paulboal paulboal  4096 Jan 24 05:43 week00\n",
      "drwxr-xr-x 2 paulboal paulboal  4096 Jan 24 05:43 week01\n"
     ]
    },
    {
     "name": "stderr",
     "output_type": "stream",
     "text": [
      "Cloning into 'slucor-hds5210-2018-1'...\n"
     ]
    }
   ],
   "source": [
    "%%bash\n",
    "cd ~\n",
    "rm -rf slucor-hds5210-2018-1\n",
    "echo -e \"Host github.com\\n\\tStrictHostKeyChecking no\\n\" >> ~/.ssh/config\n",
    "git clone git@github.com:paulboal/slucor-hds5210-2018-1.git\n",
    "ls -l slucor-hds5210-2018-1"
   ]
  },
  {
   "cell_type": "code",
   "execution_count": 12,
   "metadata": {},
   "outputs": [
    {
     "name": "stdout",
     "output_type": "stream",
     "text": [
      "Already up-to-date.\n"
     ]
    }
   ],
   "source": [
    "%%bash\n",
    "cd ~/slucor-hds5210-2018-1\n",
    "git pull"
   ]
  },
  {
   "cell_type": "code",
   "execution_count": null,
   "metadata": {},
   "outputs": [],
   "source": []
  }
 ],
 "metadata": {
  "kernelspec": {
   "display_name": "Python 3",
   "language": "python",
   "name": "python3"
  },
  "language_info": {
   "codemirror_mode": {
    "name": "ipython",
    "version": 3
   },
   "file_extension": ".py",
   "mimetype": "text/x-python",
   "name": "python",
   "nbconvert_exporter": "python",
   "pygments_lexer": "ipython3",
   "version": "3.5.2"
  }
 },
 "nbformat": 4,
 "nbformat_minor": 2
}
