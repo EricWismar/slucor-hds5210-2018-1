{
 "cells": [
  {
   "cell_type": "markdown",
   "metadata": {},
   "source": [
    "_SLUCOR HDS5210 - Programming for Health Data Science - 2018 Spring_\n",
    "\n",
    "Week 2 (January 29) Exercises\n",
    "===\n",
    "References:\n",
    "* http://www.tldp.org/LDP/Bash-Beginners-Guide/html/Bash-Beginners-Guide.html\n",
    "* https://en.wikipedia.org/wiki/Unix_philosophy\n",
    "* http://datascienceatthecommandline.com/\n",
    "* http://datascienceatthecommandline.com/#tools"
   ]
  },
  {
   "cell_type": "markdown",
   "metadata": {},
   "source": [
    "#1 - Git setup\n",
    "---\n",
    "Make sure that you've followed the instructions from class to setup the Juypter environment can access your GitHub.com account.\n",
    "\n",
    "https://github.com/paulboal/slucor-hds5210-2018-1/blob/master/week02/setup-github.ipynb\n"
   ]
  },
  {
   "cell_type": "markdown",
   "metadata": {},
   "source": [
    "#2 - Create a GitHub repository\n",
    "---\n",
    "\n",
    "Starting at http://github.com follow these instructions to create a new repository:\n",
    "\n",
    "1. Click the green `New repository` button on the right side of the screen most of the way down.\n",
    "2. Name your repository `hds5210`\n",
    "3. Make it a private repository _if that option is available_\n",
    "4. Check _Initialize this repository with a README_\n",
    "5. Click `Create repository`\n",
    "\n",
    "If you were able to create a private repository, follow these additional steps.\n",
    "1. Click `Settings` in the upper-right\n",
    "2. Click `Collaborators` on the left\n",
    "3. Add `paulboal` to your list of collaborators\n"
   ]
  },
  {
   "cell_type": "markdown",
   "metadata": {},
   "source": [
    "\n",
    "#3 - Clone this repository and add a new .ipynb file\n",
    "---\n",
    "Go into Jupyter and follow these instructions to clone this repository and then create a new notebook inside of it.  Use your github name instead of \"paulboal\".\n",
    "\n",
    "```\n",
    "%%bash\n",
    "cd ~\n",
    "git clone git@github.com:paulboal/hds5210.git\n",
    "```\n",
    "\n",
    "5. Back in Jupyter, choose `File->Open`\n",
    "6. Navigate into your new project directory\n",
    "7. Click `New` and select `Python 3`\n",
    "8. Click `Untitled` at the top to give the notebook name: \"week02-`username`\"\n",
    "Do all the rest of these exercises within that new notebook you created.\n"
   ]
  },
  {
   "cell_type": "markdown",
   "metadata": {},
   "source": [
    "\n",
    "#4 - Python Exercise\n",
    "---\n",
    "In that new notebook, solve the following problem:\n",
    "\n",
    "According to http://health.costhelper.com/tonsil-removal.html, the average cost of a tonsillectomy is \\$5,442 for someone paying out of pocket without insurance.  The out of pocket cost for someone with a typical insurance plan is about $2,000.  If 2% of 10 to 14 year old kids in Missouri get their tonsils removed this year, and only 50% of those families are covered by insurance, what is the total out of pocket cost for tonsillectomies for Missouri families for this year.  \n",
    "\n",
    "Use https://suburbanstats.org/population/how-many-people-live-in-missouri as your source for the number of 10 to 14 year olds in Missouri.\n",
    "\n",
    "As usual, show your work and thought process through readable code and comments as needed.\n"
   ]
  },
  {
   "cell_type": "code",
   "execution_count": null,
   "metadata": {},
   "outputs": [],
   "source": []
  },
  {
   "cell_type": "markdown",
   "metadata": {},
   "source": [
    "\n",
    "#5 - Commit and push your work to github\n",
    "---\n",
    "\n",
    "1. Make sure you notebook changes above are saved.\n",
    "2. Follow the commands below using your own github username\n",
    "```\n",
    "%%bash\n",
    "cd ~/hds5210/\n",
    "git add week02-paulboal.ipynb\n",
    "git commit -a -m \"Adding homework\"\n",
    "git push\n",
    "```\n"
   ]
  },
  {
   "cell_type": "code",
   "execution_count": null,
   "metadata": {},
   "outputs": [],
   "source": []
  }
 ],
 "metadata": {
  "kernelspec": {
   "display_name": "Python 3",
   "language": "python",
   "name": "python3"
  },
  "language_info": {
   "codemirror_mode": {
    "name": "ipython",
    "version": 3
   },
   "file_extension": ".py",
   "mimetype": "text/x-python",
   "name": "python",
   "nbconvert_exporter": "python",
   "pygments_lexer": "ipython3",
   "version": "3.5.2"
  }
 },
 "nbformat": 4,
 "nbformat_minor": 2
}
