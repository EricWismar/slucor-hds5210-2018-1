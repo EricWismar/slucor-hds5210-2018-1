{
 "cells": [
  {
   "cell_type": "markdown",
   "metadata": {},
   "source": [
    "_HDS5210 Programming for Health Data Scientists_\n",
    "\n",
    "# Week 7 - Reading / Writing files\n",
    "\n",
    "This week, we're talking about reading and writing files to disk on the Jupyter server.  Note that if you want to use Jupyter to process your own files, all you have to do is do `File -> Open` and then click `Upload`.\n",
    "\n",
    "For our exercises, we're going to use simple text file formats, but you should take a look at claim data file formats (https://www.ihs.gov/hipaa/835_837/newsletter4/) and HL7 clinical file formats (http://hl7api.sourceforge.net/hapi-testpanel/index.html) to see what kinds of files you may run across."
   ]
  },
  {
   "cell_type": "markdown",
   "metadata": {},
   "source": [
    "## 1 - Reading simple text files\n",
    "\n",
    "For this section, we'll be using a file stored on the server in `/data/aco_year1.csv`.  If you want to see what the file looks like, you can see a layout on the CMS website: https://data.cms.gov/ACO/Medicare-Shared-Savings-Program-Accountable-Care-O/yuq5-65xt\n"
   ]
  },
  {
   "cell_type": "markdown",
   "metadata": {},
   "source": [
    "There's a bash command called `head` that will print the first 10 lines of any file.  So, let's use that to take a peak at what this file looks like on disk."
   ]
  },
  {
   "cell_type": "code",
   "execution_count": 1,
   "metadata": {},
   "outputs": [
    {
     "name": "stdout",
     "output_type": "stream",
     "text": [
      "\"ACO Name (LBN or DBA, if applicable) \",States Where Beneficiaries Reside ,Agreement Start Date,Track,Participate in Advance Payment Model ,Total Assigned Beneficiaries,Total Benchmark Expenditures,Total Expenditures,Total Benchmark Expenditures Minus Total Assigned Beneficiary Expenditures,Total Benchmark Expenditures Minus Total Assigned Beneficiary Expenditures as % of Total Benchmark,\"Generated Savings/Losses1,2\",\"Earned Shared Savings Payments/Owe Losses3,4\",Successfully Reported Quality5,ACO-1,ACO-2,ACO-3,ACO-4,ACO-5,ACO-6,ACO-7,ACO-8^,ACO-9^,ACO-10^,ACO-11,ACO-12,ACO-13,ACO-14,ACO-15,ACO-16,ACO-17,ACO-18,ACO-19,ACO-20,ACO-21,DM Comp-osite,ACO-22,ACO-23,ACO-24,ACO-25,ACO-26,ACO-27^,ACO-28,ACO-29,ACO-30,ACO-31,CAD Comp-osite,ACO-32,ACO-33\n",
      "\"A.M. Beajow, M.D. Internal Medicine Associates ACO, P.C\",Nevada,01/01/2013,Track1 ,No ,5921,$70912015,$67555873,$3356142,4.7%,$3356142,$1644510,Yes,75.6,93.09,92.18,82.91,58.06,76.36,71.33,14.88,0.67,1.14,75,72.5,1.24,25.83,22.4,31.19,64.08,0,39.41,38.12,75.48,17.76,60.28,50,58.18,53.04,28.21,32.94,61.25,13.08,27.36,,37.5,52.31,29.74\n",
      "AAMC Collaborative Care Network,Maryland,01/01/2013,Track1 ,No ,10485,$92961659,$96240231,$-3278573,-3.5%,,,Yes,84.67,94.39,93.32,83.13,59.23,71.51,73.72,15.1,1.12,1.8,82.5,97.74,68.86,71.26,66.9,69.21,82.89,57.58,74.94,63.59,63.12,29.25,72.88,59.91,70.05,87.5,65.35,17.22,68.61,74.52,93.33,88.89,67.31,90.31,40.66\n",
      "\"Accountable Care Clinical Services, PC\",\"Iowa, Pennsylvania, Connecticut, Massachusetts, California\",01/01/2013,Track1 ,No ,19637,$211247324,$200721155,$10526169,5%,$10526169,$5157823,Yes,82.78,93.55,92.02,84.84,59.5,76.38,72.12,15.08,1.47,1.31,62.76,46.4,19.15,59.57,57.06,50.65,84.48,13.18,61.69,55.06,58.75,24.17,73.96,54.17,67.5,73.13,81.1,18.75,66.45,55.14,82.72,75,69.78,77.44,77.59\n",
      "\"Accountable Care Coalition of Caldwell County, LLC\",North Carolina,04/01/2012,Track1 ,No ,5915,$70881173,$71400316,$-519143,-0.7%,,,Yes,80.56,92.18,91.69,89.35,51.92,74.85,69.99,14.26,0.81,0.8,47.37,59.34,9.32,45.02,35.92,41.97,59.23,3.41,51.71,63.66,77.14,2.6,57.14,43.9,57.92,13.51,72.54,35.32,50.61,32.11,71.32,75,48.17,54.09,66.31\n",
      "\"Accountable Care Coalition of Central Georgia, LLC.\",Georgia,01/01/2013,Track1 ,No ,10589,$106323535,$107639420,$-1315885,-1.2%,,,Yes,83.09,92.72,92.24,86.74,52.24,67.97,68.83,15.37,1.55,1.39,55.56,24.49,15.1,33.4,21.86,39.72,64.93,5.2,48.25,36.34,81.23,0.79,37.89,23.16,55.79,10.79,73.38,57.11,55.88,20.22,53.01,79.55,28.12,34.84,57.56\n",
      "\"Accountable Care Coalition of Coastal Georgia, LLC\",\"South Carolina, Georgia\",04/01/2012,Track1 ,No ,10475,$146133176,$146775276,$-642100,-0.4%,,,Yes,76.9,92.89,91.88,86.64,55.2,74.24,69.77,14.17,1.02,1.04,90.32,25.4,27.52,48.09,48.53,51.59,84.54,16.01,58.03,68.69,89.69,4.11,64.01,58.21,68.36,13.04,62.84,28.26,71.33,50.48,75.6,80.77,52.66,66.67,50.27\n",
      "\"Accountable Care Coalition of DeKalb, LLC.\",Georgia,01/01/2013,Track2 ,No ,18446,$154953182,$151981618,$2971564,1.9%,,,Yes,84.51,93.94,92.4,84.02,57.15,70.73,72.17,14.75,1.18,1.47,52.38,45.6,10.27,41.74,29.77,48.39,74.42,4.65,49.55,47.72,92.06,1.25,59.25,42.2,62.99,7.07,65.93,35.14,62.69,30.72,64.33,85.86,39.65,47.39,67.08\n",
      "\"Accountable Care Coalition of Eastern North Carolina, LLC\",North Carolina,04/01/2012,Track1 ,No ,10205,$118613931,$126553616,$-7939686,-6.7%,,,Yes,82.16,92.8,91.13,86.06,55.33,75.84,72.11,14.6,0.59,1.03,37.04,52.46,7.12,52.89,37.35,40.54,52.23,3,53.87,52.63,83.96,1.46,56.59,42.44,53.66,9.76,70.73,33.66,57.67,35.29,55.88,61.9,43.65,55.8,50\n",
      "\"Accountable Care Coalition of Georgia, LLC.\",Georgia,01/01/2013,Track1 ,No ,10569,$86425295,$84646537,$1778758,2.1%,,,Yes,73.86,92.98,89.1,84.68,55.67,72.98,70.3,14.96,1.96,1.27,,63.25,16.74,29.66,29.69,46.63,78.05,34.05,39.89,56.26,83.61,3.13,55.53,37.02,58.65,20.67,68.47,33.89,56.59,34.69,71.43,82.14,48.13,56.74,67.47\n",
      "  221  1625 71572 /data/aco_year1.csv\n"
     ]
    }
   ],
   "source": [
    "%%bash\n",
    "head /data/aco_year1.csv \n",
    "wc /data/aco_year1.csv"
   ]
  },
  {
   "cell_type": "markdown",
   "metadata": {},
   "source": [
    "Now, we'll use Pythong to print out the first line of the file."
   ]
  },
  {
   "cell_type": "code",
   "execution_count": 2,
   "metadata": {},
   "outputs": [
    {
     "name": "stdout",
     "output_type": "stream",
     "text": [
      "\"ACO Name (LBN or DBA, if applicable) \",States Where Beneficiaries Reside ,Agreement Start Date,Track,Participate in Advance Payment Model ,Total Assigned Beneficiaries,Total Benchmark Expenditures,Total Expenditures,Total Benchmark Expenditures Minus Total Assigned Beneficiary Expenditures,Total Benchmark Expenditures Minus Total Assigned Beneficiary Expenditures as % of Total Benchmark,\"Generated Savings/Losses1,2\",\"Earned Shared Savings Payments/Owe Losses3,4\",Successfully Reported Quality5,ACO-1,ACO-2,ACO-3,ACO-4,ACO-5,ACO-6,ACO-7,ACO-8^,ACO-9^,ACO-10^,ACO-11,ACO-12,ACO-13,ACO-14,ACO-15,ACO-16,ACO-17,ACO-18,ACO-19,ACO-20,ACO-21,DM Comp-osite,ACO-22,ACO-23,ACO-24,ACO-25,ACO-26,ACO-27^,ACO-28,ACO-29,ACO-30,ACO-31,CAD Comp-osite,ACO-32,ACO-33\n",
      "\n",
      "\"A.M. Beajow, M.D. Internal Medicine Associates ACO, P.C\",Nevada,01/01/2013,Track1 ,No ,5921,$70912015,$67555873,$3356142,4.7%,$3356142,$1644510,Yes,75.6,93.09,92.18,82.91,58.06,76.36,71.33,14.88,0.67,1.14,75,72.5,1.24,25.83,22.4,31.19,64.08,0,39.41,38.12,75.48,17.76,60.28,50,58.18,53.04,28.21,32.94,61.25,13.08,27.36,,37.5,52.31,29.74\n",
      "\n"
     ]
    }
   ],
   "source": [
    "with open('/data/aco_year1.csv') as aco:\n",
    "    print(aco.readline())\n",
    "    print(aco.readline())"
   ]
  },
  {
   "cell_type": "markdown",
   "metadata": {},
   "source": [
    "We can also use a loop in python to print out the first ten lines of the file, like `head`"
   ]
  },
  {
   "cell_type": "code",
   "execution_count": 3,
   "metadata": {},
   "outputs": [
    {
     "name": "stdout",
     "output_type": "stream",
     "text": [
      "\"ACO Name (LBN or DBA, if applicable) \",States Where Beneficiaries Reside ,Agreement Start Date,Track,Participate in Advance Payment Model ,Total Assigned Beneficiaries,Total Benchmark Expenditures,Total Expenditures,Total Benchmark Expenditures Minus Total Assigned Beneficiary Expenditures,Total Benchmark Expenditures Minus Total Assigned Beneficiary Expenditures as % of Total Benchmark,\"Generated Savings/Losses1,2\",\"Earned Shared Savings Payments/Owe Losses3,4\",Successfully Reported Quality5,ACO-1,ACO-2,ACO-3,ACO-4,ACO-5,ACO-6,ACO-7,ACO-8^,ACO-9^,ACO-10^,ACO-11,ACO-12,ACO-13,ACO-14,ACO-15,ACO-16,ACO-17,ACO-18,ACO-19,ACO-20,ACO-21,DM Comp-osite,ACO-22,ACO-23,ACO-24,ACO-25,ACO-26,ACO-27^,ACO-28,ACO-29,ACO-30,ACO-31,CAD Comp-osite,ACO-32,ACO-33\n",
      "\n",
      "\"A.M. Beajow, M.D. Internal Medicine Associates ACO, P.C\",Nevada,01/01/2013,Track1 ,No ,5921,$70912015,$67555873,$3356142,4.7%,$3356142,$1644510,Yes,75.6,93.09,92.18,82.91,58.06,76.36,71.33,14.88,0.67,1.14,75,72.5,1.24,25.83,22.4,31.19,64.08,0,39.41,38.12,75.48,17.76,60.28,50,58.18,53.04,28.21,32.94,61.25,13.08,27.36,,37.5,52.31,29.74\n",
      "\n",
      "AAMC Collaborative Care Network,Maryland,01/01/2013,Track1 ,No ,10485,$92961659,$96240231,$-3278573,-3.5%,,,Yes,84.67,94.39,93.32,83.13,59.23,71.51,73.72,15.1,1.12,1.8,82.5,97.74,68.86,71.26,66.9,69.21,82.89,57.58,74.94,63.59,63.12,29.25,72.88,59.91,70.05,87.5,65.35,17.22,68.61,74.52,93.33,88.89,67.31,90.31,40.66\n",
      "\n",
      "\"Accountable Care Clinical Services, PC\",\"Iowa, Pennsylvania, Connecticut, Massachusetts, California\",01/01/2013,Track1 ,No ,19637,$211247324,$200721155,$10526169,5%,$10526169,$5157823,Yes,82.78,93.55,92.02,84.84,59.5,76.38,72.12,15.08,1.47,1.31,62.76,46.4,19.15,59.57,57.06,50.65,84.48,13.18,61.69,55.06,58.75,24.17,73.96,54.17,67.5,73.13,81.1,18.75,66.45,55.14,82.72,75,69.78,77.44,77.59\n",
      "\n",
      "\"Accountable Care Coalition of Caldwell County, LLC\",North Carolina,04/01/2012,Track1 ,No ,5915,$70881173,$71400316,$-519143,-0.7%,,,Yes,80.56,92.18,91.69,89.35,51.92,74.85,69.99,14.26,0.81,0.8,47.37,59.34,9.32,45.02,35.92,41.97,59.23,3.41,51.71,63.66,77.14,2.6,57.14,43.9,57.92,13.51,72.54,35.32,50.61,32.11,71.32,75,48.17,54.09,66.31\n",
      "\n",
      "\"Accountable Care Coalition of Central Georgia, LLC.\",Georgia,01/01/2013,Track1 ,No ,10589,$106323535,$107639420,$-1315885,-1.2%,,,Yes,83.09,92.72,92.24,86.74,52.24,67.97,68.83,15.37,1.55,1.39,55.56,24.49,15.1,33.4,21.86,39.72,64.93,5.2,48.25,36.34,81.23,0.79,37.89,23.16,55.79,10.79,73.38,57.11,55.88,20.22,53.01,79.55,28.12,34.84,57.56\n",
      "\n",
      "\"Accountable Care Coalition of Coastal Georgia, LLC\",\"South Carolina, Georgia\",04/01/2012,Track1 ,No ,10475,$146133176,$146775276,$-642100,-0.4%,,,Yes,76.9,92.89,91.88,86.64,55.2,74.24,69.77,14.17,1.02,1.04,90.32,25.4,27.52,48.09,48.53,51.59,84.54,16.01,58.03,68.69,89.69,4.11,64.01,58.21,68.36,13.04,62.84,28.26,71.33,50.48,75.6,80.77,52.66,66.67,50.27\n",
      "\n",
      "\"Accountable Care Coalition of DeKalb, LLC.\",Georgia,01/01/2013,Track2 ,No ,18446,$154953182,$151981618,$2971564,1.9%,,,Yes,84.51,93.94,92.4,84.02,57.15,70.73,72.17,14.75,1.18,1.47,52.38,45.6,10.27,41.74,29.77,48.39,74.42,4.65,49.55,47.72,92.06,1.25,59.25,42.2,62.99,7.07,65.93,35.14,62.69,30.72,64.33,85.86,39.65,47.39,67.08\n",
      "\n",
      "\"Accountable Care Coalition of Eastern North Carolina, LLC\",North Carolina,04/01/2012,Track1 ,No ,10205,$118613931,$126553616,$-7939686,-6.7%,,,Yes,82.16,92.8,91.13,86.06,55.33,75.84,72.11,14.6,0.59,1.03,37.04,52.46,7.12,52.89,37.35,40.54,52.23,3,53.87,52.63,83.96,1.46,56.59,42.44,53.66,9.76,70.73,33.66,57.67,35.29,55.88,61.9,43.65,55.8,50\n",
      "\n",
      "\"Accountable Care Coalition of Georgia, LLC.\",Georgia,01/01/2013,Track1 ,No ,10569,$86425295,$84646537,$1778758,2.1%,,,Yes,73.86,92.98,89.1,84.68,55.67,72.98,70.3,14.96,1.96,1.27,,63.25,16.74,29.66,29.69,46.63,78.05,34.05,39.89,56.26,83.61,3.13,55.53,37.02,58.65,20.67,68.47,33.89,56.59,34.69,71.43,82.14,48.13,56.74,67.47\n",
      "\n"
     ]
    }
   ],
   "source": [
    "with open('/data/aco_year1.csv') as aco:\n",
    "    for i in range(10):\n",
    "        print(aco.readline())"
   ]
  },
  {
   "cell_type": "markdown",
   "metadata": {},
   "source": [
    "## 2 - CSV Files with quoted field values\n",
    "\n",
    "This isn't mentioned in the book yet, but Python has a special module for reading and writing CSV files that all for the delimiter to appear inside of a quoted field.  Documentation on this module is here: https://docs.python.org/3/library/csv.html#"
   ]
  },
  {
   "cell_type": "code",
   "execution_count": 4,
   "metadata": {},
   "outputs": [
    {
     "name": "stdout",
     "output_type": "stream",
     "text": [
      "['ACO Name (LBN or DBA, if applicable) ', 'States Where Beneficiaries Reside ', 'Agreement Start Date', 'Track', 'Participate in Advance Payment Model ', 'Total Assigned Beneficiaries', 'Total Benchmark Expenditures', 'Total Expenditures', 'Total Benchmark Expenditures Minus Total Assigned Beneficiary Expenditures', 'Total Benchmark Expenditures Minus Total Assigned Beneficiary Expenditures as % of Total Benchmark', 'Generated Savings/Losses1,2', 'Earned Shared Savings Payments/Owe Losses3,4', 'Successfully Reported Quality5', 'ACO-1', 'ACO-2', 'ACO-3', 'ACO-4', 'ACO-5', 'ACO-6', 'ACO-7', 'ACO-8^', 'ACO-9^', 'ACO-10^', 'ACO-11', 'ACO-12', 'ACO-13', 'ACO-14', 'ACO-15', 'ACO-16', 'ACO-17', 'ACO-18', 'ACO-19', 'ACO-20', 'ACO-21', 'DM Comp-osite', 'ACO-22', 'ACO-23', 'ACO-24', 'ACO-25', 'ACO-26', 'ACO-27^', 'ACO-28', 'ACO-29', 'ACO-30', 'ACO-31', 'CAD Comp-osite', 'ACO-32', 'ACO-33']\n"
     ]
    }
   ],
   "source": [
    "import csv\n",
    "with open('/data/aco_year1.csv') as aco:\n",
    "    r = csv.reader(aco)\n",
    "    for row in r:\n",
    "        print(row)\n",
    "        break"
   ]
  },
  {
   "cell_type": "code",
   "execution_count": 5,
   "metadata": {},
   "outputs": [
    {
     "name": "stdout",
     "output_type": "stream",
     "text": [
      "['ACO Name (LBN or DBA, if applicable) ', 'States Where Beneficiaries Reside ', 'Agreement Start Date', 'Track', 'Participate in Advance Payment Model ', 'Total Assigned Beneficiaries', 'Total Benchmark Expenditures', 'Total Expenditures', 'Total Benchmark Expenditures Minus Total Assigned Beneficiary Expenditures', 'Total Benchmark Expenditures Minus Total Assigned Beneficiary Expenditures as % of Total Benchmark', 'Generated Savings/Losses1,2', 'Earned Shared Savings Payments/Owe Losses3,4', 'Successfully Reported Quality5', 'ACO-1', 'ACO-2', 'ACO-3', 'ACO-4', 'ACO-5', 'ACO-6', 'ACO-7', 'ACO-8^', 'ACO-9^', 'ACO-10^', 'ACO-11', 'ACO-12', 'ACO-13', 'ACO-14', 'ACO-15', 'ACO-16', 'ACO-17', 'ACO-18', 'ACO-19', 'ACO-20', 'ACO-21', 'DM Comp-osite', 'ACO-22', 'ACO-23', 'ACO-24', 'ACO-25', 'ACO-26', 'ACO-27^', 'ACO-28', 'ACO-29', 'ACO-30', 'ACO-31', 'CAD Comp-osite', 'ACO-32', 'ACO-33']\n",
      "['A.M. Beajow, M.D. Internal Medicine Associates ACO, P.C', 'Nevada', '01/01/2013', 'Track1 ', 'No ', '5921', '$70912015', '$67555873', '$3356142', '4.7%', '$3356142', '$1644510', 'Yes', '75.6', '93.09', '92.18', '82.91', '58.06', '76.36', '71.33', '14.88', '0.67', '1.14', '75', '72.5', '1.24', '25.83', '22.4', '31.19', '64.08', '0', '39.41', '38.12', '75.48', '17.76', '60.28', '50', '58.18', '53.04', '28.21', '32.94', '61.25', '13.08', '27.36', '', '37.5', '52.31', '29.74']\n",
      "['AAMC Collaborative Care Network', 'Maryland', '01/01/2013', 'Track1 ', 'No ', '10485', '$92961659', '$96240231', '$-3278573', '-3.5%', '', '', 'Yes', '84.67', '94.39', '93.32', '83.13', '59.23', '71.51', '73.72', '15.1', '1.12', '1.8', '82.5', '97.74', '68.86', '71.26', '66.9', '69.21', '82.89', '57.58', '74.94', '63.59', '63.12', '29.25', '72.88', '59.91', '70.05', '87.5', '65.35', '17.22', '68.61', '74.52', '93.33', '88.89', '67.31', '90.31', '40.66']\n",
      "['Accountable Care Clinical Services, PC', 'Iowa, Pennsylvania, Connecticut, Massachusetts, California', '01/01/2013', 'Track1 ', 'No ', '19637', '$211247324', '$200721155', '$10526169', '5%', '$10526169', '$5157823', 'Yes', '82.78', '93.55', '92.02', '84.84', '59.5', '76.38', '72.12', '15.08', '1.47', '1.31', '62.76', '46.4', '19.15', '59.57', '57.06', '50.65', '84.48', '13.18', '61.69', '55.06', '58.75', '24.17', '73.96', '54.17', '67.5', '73.13', '81.1', '18.75', '66.45', '55.14', '82.72', '75', '69.78', '77.44', '77.59']\n",
      "['Accountable Care Coalition of Caldwell County, LLC', 'North Carolina', '04/01/2012', 'Track1 ', 'No ', '5915', '$70881173', '$71400316', '$-519143', '-0.7%', '', '', 'Yes', '80.56', '92.18', '91.69', '89.35', '51.92', '74.85', '69.99', '14.26', '0.81', '0.8', '47.37', '59.34', '9.32', '45.02', '35.92', '41.97', '59.23', '3.41', '51.71', '63.66', '77.14', '2.6', '57.14', '43.9', '57.92', '13.51', '72.54', '35.32', '50.61', '32.11', '71.32', '75', '48.17', '54.09', '66.31']\n"
     ]
    }
   ],
   "source": [
    "import csv\n",
    "with open('/data/aco_year1.csv') as aco:\n",
    "    r = csv.reader(aco)\n",
    "    count = 0\n",
    "    for row in r:\n",
    "        print(row)\n",
    "        count += 1\n",
    "        if count >= 5:\n",
    "            break"
   ]
  },
  {
   "cell_type": "code",
   "execution_count": 6,
   "metadata": {},
   "outputs": [
    {
     "name": "stdout",
     "output_type": "stream",
     "text": [
      "['ACO Name (LBN or DBA, if applicable) ', 'States Where Beneficiaries Reside ', 'Agreement Start Date', 'Track', 'Participate in Advance Payment Model ', 'Total Assigned Beneficiaries', 'Total Benchmark Expenditures', 'Total Expenditures', 'Total Benchmark Expenditures Minus Total Assigned Beneficiary Expenditures', 'Total Benchmark Expenditures Minus Total Assigned Beneficiary Expenditures as % of Total Benchmark', 'Generated Savings/Losses1,2', 'Earned Shared Savings Payments/Owe Losses3,4', 'Successfully Reported Quality5', 'ACO-1', 'ACO-2', 'ACO-3', 'ACO-4', 'ACO-5', 'ACO-6', 'ACO-7', 'ACO-8^', 'ACO-9^', 'ACO-10^', 'ACO-11', 'ACO-12', 'ACO-13', 'ACO-14', 'ACO-15', 'ACO-16', 'ACO-17', 'ACO-18', 'ACO-19', 'ACO-20', 'ACO-21', 'DM Comp-osite', 'ACO-22', 'ACO-23', 'ACO-24', 'ACO-25', 'ACO-26', 'ACO-27^', 'ACO-28', 'ACO-29', 'ACO-30', 'ACO-31', 'CAD Comp-osite', 'ACO-32', 'ACO-33']\n",
      "Total assigned is in column 6\n",
      "Total assigned: 3,675,263\n"
     ]
    }
   ],
   "source": [
    "import csv\n",
    "with open('/data/aco_year1.csv') as aco:\n",
    "    reader = csv.reader(aco)\n",
    "    for row in reader:\n",
    "        print(row)\n",
    "        break\n",
    "        \n",
    "    assigned_pos = row.index('Total Assigned Beneficiaries')\n",
    "    print('Total assigned is in column {:d}'.format(assigned_pos+1))\n",
    "    \n",
    "    total_assigned = 0\n",
    "    for row in reader:\n",
    "        total_assigned = total_assigned + int(row[assigned_pos])\n",
    "        \n",
    "    print('Total assigned: {:,d}'.format(total_assigned))\n",
    "        "
   ]
  },
  {
   "cell_type": "code",
   "execution_count": 7,
   "metadata": {},
   "outputs": [
    {
     "name": "stdout",
     "output_type": "stream",
     "text": [
      "[[3946, 'Akira Health, Inc.'], [4946, 'BAROMA Health Partners'], [5072, 'The Premier HealthCare Network LLC'], [5113, 'Yuma Connected Community'], [5286, 'MPS ACO Physicians, LLC'], [5338, 'Commonwealth Primary Care ACO'], [5507, 'National ACO, LLC'], [5548, 'Accountable Care Coalition of North Central Florida, LLC.'], [5568, 'Rio Grande Valley Health Alliance, LLC'], [5574, 'Physicians Accountable Care Organization LLC']]\n"
     ]
    }
   ],
   "source": [
    "import csv\n",
    "\n",
    "acos = []\n",
    "with open('/data/aco_year1.csv') as aco:\n",
    "    reader = csv.reader(aco)\n",
    "    for row in reader:\n",
    "#        print(row)\n",
    "        break\n",
    "        \n",
    "    assigned_pos = row.index('Total Assigned Beneficiaries')\n",
    "#    print('Total assigned is in column {:d}'.format(assigned_pos+1))\n",
    "\n",
    "    for row in reader:\n",
    "        acos.append([int(row[assigned_pos]), row[0]])\n",
    "\n",
    "acos.sort()\n",
    "print(acos[0:10])\n",
    "        \n",
    "        "
   ]
  },
  {
   "cell_type": "markdown",
   "metadata": {
    "collapsed": true
   },
   "source": [
    "## 3 - Reading multi-line records\n",
    "\n",
    "Imagine, though, if you had a file whose record structures aren't quite so nice and rectangular, like a database table or spreadsheet.  Image if you had something with multiple lines per record (this file is in /data/med_list.txt):\n",
    "\n",
    "```\n",
    "PATIENT:Boal,Paul\n",
    "MEDICATION:Ibuprofen,200mg\n",
    "MEDICATION:Vallium,95mg\n",
    "END\n",
    "PATIENT:Westhus,Eric\n",
    "MEDICATION:Acetominaphen,200mg\n",
    "MEDICATION:Flintstones Chewable Morphine,100mg\n",
    "MEDICATION:Zolpidem,10mg\n",
    "END\n",
    "```\n",
    "\n",
    "You might want to read this into a list structure in Python that looks something like this:\n",
    "```\n",
    "[['Boal', 'Paul', ['Ibuprofen','Vallium']],\n",
    " ['Westhus', 'Eric', ['Acetominaphen','Finstones Chewable Morphine','Zolpidem']]\n",
    "```\n",
    "\n",
    "In this case, we'll want to read the file one row at a time and decide what to do based on the contents of each line."
   ]
  },
  {
   "cell_type": "code",
   "execution_count": 8,
   "metadata": {},
   "outputs": [
    {
     "name": "stdout",
     "output_type": "stream",
     "text": [
      "[['Boal', 'Paul', ['Ibuprofen', 'Vallium']], ['Westhus', 'Eric', ['Acetominaphen', 'Flintstones Chewable Morphine', 'Zolpidem']]]\n"
     ]
    }
   ],
   "source": [
    "med_list = []\n",
    "\n",
    "with open('/data/med_list.txt') as meds:\n",
    "    patient = []\n",
    "    for row in meds:\n",
    "        item = row.strip().split(':')     # We strip the newline and split on :\n",
    "        if item[0] == 'PATIENT':\n",
    "            patient = item[1].split(',')  # This just sets patient to be the last name, first name\n",
    "            patient.append([])            # This adds an empty list on to the end so we can add meds\n",
    "        elif item[0] == 'MEDICATION':\n",
    "            med = item[1].split(',')[0]\n",
    "            patient[2].append(med)        # Add the medication name to the end of our list\n",
    "        elif item[0] == 'END':\n",
    "            med_list.append(patient)      # Add that whole entry we have onto our main list\n",
    "        else:\n",
    "            pass\n",
    "#        print(patient)\n",
    "\n",
    "\n",
    "print(med_list)"
   ]
  },
  {
   "cell_type": "markdown",
   "metadata": {},
   "source": [
    "## 4 - Writing to Files\n",
    "\n",
    "In this last piece, we're going to talk through how to write data into an output file in a structured format.  For instance, looking at the previous example, let's try to put together a pipe-delimited output like this:\n",
    "\n",
    "```\n",
    "Boal|Paul|Ibuprofen,Vallium\n",
    "Westhus|Eric|Acetominaphen,Fintstones Chewable Morphine,Zolpidem\n",
    "```\n"
   ]
  },
  {
   "cell_type": "code",
   "execution_count": 9,
   "metadata": {},
   "outputs": [],
   "source": [
    "with open('med_list.txt','w') as output:\n",
    "    for items in med_list:\n",
    "        out = \"{:s}|{:s}|{:s}\\n\".format(items[0],items[1],\",\".join(items[2]))\n",
    "        output.write(out)"
   ]
  },
  {
   "cell_type": "code",
   "execution_count": 10,
   "metadata": {},
   "outputs": [
    {
     "name": "stdout",
     "output_type": "stream",
     "text": [
      "Boal|Paul|Ibuprofen,Vallium\n",
      "Westhus|Eric|Acetominaphen,Flintstones Chewable Morphine,Zolpidem\n"
     ]
    }
   ],
   "source": [
    "%%bash\n",
    "cat med_list.txt"
   ]
  },
  {
   "cell_type": "markdown",
   "metadata": {
    "collapsed": true
   },
   "source": [
    "5 - Introducing Pandas\n",
    "---\n",
    "\n",
    "Pandas is a great all-purpose Python package for working with data, especially getting data outof and into files.  The Pandas methods for reading and writing files can be found here:\n",
    "\n",
    "https://pandas.pydata.org/pandas-docs/stable/io.html\n",
    "\n",
    "What we get back from Pandas is something called a `dataframe` which is somewhat similar to data frames in R.  We aren't going to delve into Pandas right now, but you can find more reference information about how to acces parts of a data frame here:\n",
    "\n",
    "https://pandas.pydata.org/pandas-docs/stable/indexing.html\n"
   ]
  },
  {
   "cell_type": "code",
   "execution_count": 11,
   "metadata": {},
   "outputs": [],
   "source": [
    "import pandas as pd"
   ]
  },
  {
   "cell_type": "code",
   "execution_count": 12,
   "metadata": {},
   "outputs": [],
   "source": [
    "csv = pd.read_csv('/data/aco_year1.csv')"
   ]
  },
  {
   "cell_type": "code",
   "execution_count": 13,
   "metadata": {},
   "outputs": [
    {
     "data": {
      "text/plain": [
       "220"
      ]
     },
     "execution_count": 13,
     "metadata": {},
     "output_type": "execute_result"
    }
   ],
   "source": [
    "len(csv)"
   ]
  },
  {
   "cell_type": "code",
   "execution_count": 14,
   "metadata": {},
   "outputs": [],
   "source": [
    "csv.to_excel('aco_year1.xlsx')"
   ]
  },
  {
   "cell_type": "code",
   "execution_count": 15,
   "metadata": {},
   "outputs": [],
   "source": [
    "xls = pd.read_excel('aco_year1.xlsx')"
   ]
  },
  {
   "cell_type": "code",
   "execution_count": 16,
   "metadata": {},
   "outputs": [
    {
     "data": {
      "text/html": [
       "<div>\n",
       "<style scoped>\n",
       "    .dataframe tbody tr th:only-of-type {\n",
       "        vertical-align: middle;\n",
       "    }\n",
       "\n",
       "    .dataframe tbody tr th {\n",
       "        vertical-align: top;\n",
       "    }\n",
       "\n",
       "    .dataframe thead th {\n",
       "        text-align: right;\n",
       "    }\n",
       "</style>\n",
       "<table border=\"1\" class=\"dataframe\">\n",
       "  <thead>\n",
       "    <tr style=\"text-align: right;\">\n",
       "      <th></th>\n",
       "      <th>ACO Name (LBN or DBA, if applicable)</th>\n",
       "      <th>States Where Beneficiaries Reside</th>\n",
       "      <th>Agreement Start Date</th>\n",
       "      <th>Track</th>\n",
       "      <th>Participate in Advance Payment Model</th>\n",
       "      <th>Total Assigned Beneficiaries</th>\n",
       "      <th>Total Benchmark Expenditures</th>\n",
       "      <th>Total Expenditures</th>\n",
       "      <th>Total Benchmark Expenditures Minus Total Assigned Beneficiary Expenditures</th>\n",
       "      <th>Total Benchmark Expenditures Minus Total Assigned Beneficiary Expenditures as % of Total Benchmark</th>\n",
       "      <th>...</th>\n",
       "      <th>ACO-25</th>\n",
       "      <th>ACO-26</th>\n",
       "      <th>ACO-27^</th>\n",
       "      <th>ACO-28</th>\n",
       "      <th>ACO-29</th>\n",
       "      <th>ACO-30</th>\n",
       "      <th>ACO-31</th>\n",
       "      <th>CAD Comp-osite</th>\n",
       "      <th>ACO-32</th>\n",
       "      <th>ACO-33</th>\n",
       "    </tr>\n",
       "  </thead>\n",
       "  <tbody>\n",
       "    <tr>\n",
       "      <th>0</th>\n",
       "      <td>A.M. Beajow, M.D. Internal Medicine Associates...</td>\n",
       "      <td>Nevada</td>\n",
       "      <td>01/01/2013</td>\n",
       "      <td>Track1</td>\n",
       "      <td>No</td>\n",
       "      <td>5921</td>\n",
       "      <td>$70912015</td>\n",
       "      <td>$67555873</td>\n",
       "      <td>$3356142</td>\n",
       "      <td>4.7%</td>\n",
       "      <td>...</td>\n",
       "      <td>53.04</td>\n",
       "      <td>28.21</td>\n",
       "      <td>32.94</td>\n",
       "      <td>61.25</td>\n",
       "      <td>13.08</td>\n",
       "      <td>27.36</td>\n",
       "      <td>NaN</td>\n",
       "      <td>37.50</td>\n",
       "      <td>52.31</td>\n",
       "      <td>29.74</td>\n",
       "    </tr>\n",
       "    <tr>\n",
       "      <th>1</th>\n",
       "      <td>AAMC Collaborative Care Network</td>\n",
       "      <td>Maryland</td>\n",
       "      <td>01/01/2013</td>\n",
       "      <td>Track1</td>\n",
       "      <td>No</td>\n",
       "      <td>10485</td>\n",
       "      <td>$92961659</td>\n",
       "      <td>$96240231</td>\n",
       "      <td>$-3278573</td>\n",
       "      <td>-3.5%</td>\n",
       "      <td>...</td>\n",
       "      <td>87.50</td>\n",
       "      <td>65.35</td>\n",
       "      <td>17.22</td>\n",
       "      <td>68.61</td>\n",
       "      <td>74.52</td>\n",
       "      <td>93.33</td>\n",
       "      <td>88.89</td>\n",
       "      <td>67.31</td>\n",
       "      <td>90.31</td>\n",
       "      <td>40.66</td>\n",
       "    </tr>\n",
       "    <tr>\n",
       "      <th>2</th>\n",
       "      <td>Accountable Care Clinical Services, PC</td>\n",
       "      <td>Iowa, Pennsylvania, Connecticut, Massachusetts...</td>\n",
       "      <td>01/01/2013</td>\n",
       "      <td>Track1</td>\n",
       "      <td>No</td>\n",
       "      <td>19637</td>\n",
       "      <td>$211247324</td>\n",
       "      <td>$200721155</td>\n",
       "      <td>$10526169</td>\n",
       "      <td>5%</td>\n",
       "      <td>...</td>\n",
       "      <td>73.13</td>\n",
       "      <td>81.10</td>\n",
       "      <td>18.75</td>\n",
       "      <td>66.45</td>\n",
       "      <td>55.14</td>\n",
       "      <td>82.72</td>\n",
       "      <td>75.00</td>\n",
       "      <td>69.78</td>\n",
       "      <td>77.44</td>\n",
       "      <td>77.59</td>\n",
       "    </tr>\n",
       "    <tr>\n",
       "      <th>3</th>\n",
       "      <td>Accountable Care Coalition of Caldwell County,...</td>\n",
       "      <td>North Carolina</td>\n",
       "      <td>04/01/2012</td>\n",
       "      <td>Track1</td>\n",
       "      <td>No</td>\n",
       "      <td>5915</td>\n",
       "      <td>$70881173</td>\n",
       "      <td>$71400316</td>\n",
       "      <td>$-519143</td>\n",
       "      <td>-0.7%</td>\n",
       "      <td>...</td>\n",
       "      <td>13.51</td>\n",
       "      <td>72.54</td>\n",
       "      <td>35.32</td>\n",
       "      <td>50.61</td>\n",
       "      <td>32.11</td>\n",
       "      <td>71.32</td>\n",
       "      <td>75.00</td>\n",
       "      <td>48.17</td>\n",
       "      <td>54.09</td>\n",
       "      <td>66.31</td>\n",
       "    </tr>\n",
       "    <tr>\n",
       "      <th>4</th>\n",
       "      <td>Accountable Care Coalition of Central Georgia,...</td>\n",
       "      <td>Georgia</td>\n",
       "      <td>01/01/2013</td>\n",
       "      <td>Track1</td>\n",
       "      <td>No</td>\n",
       "      <td>10589</td>\n",
       "      <td>$106323535</td>\n",
       "      <td>$107639420</td>\n",
       "      <td>$-1315885</td>\n",
       "      <td>-1.2%</td>\n",
       "      <td>...</td>\n",
       "      <td>10.79</td>\n",
       "      <td>73.38</td>\n",
       "      <td>57.11</td>\n",
       "      <td>55.88</td>\n",
       "      <td>20.22</td>\n",
       "      <td>53.01</td>\n",
       "      <td>79.55</td>\n",
       "      <td>28.12</td>\n",
       "      <td>34.84</td>\n",
       "      <td>57.56</td>\n",
       "    </tr>\n",
       "  </tbody>\n",
       "</table>\n",
       "<p>5 rows × 48 columns</p>\n",
       "</div>"
      ],
      "text/plain": [
       "               ACO Name (LBN or DBA, if applicable)   \\\n",
       "0  A.M. Beajow, M.D. Internal Medicine Associates...   \n",
       "1                    AAMC Collaborative Care Network   \n",
       "2             Accountable Care Clinical Services, PC   \n",
       "3  Accountable Care Coalition of Caldwell County,...   \n",
       "4  Accountable Care Coalition of Central Georgia,...   \n",
       "\n",
       "                  States Where Beneficiaries Reside  Agreement Start Date  \\\n",
       "0                                             Nevada           01/01/2013   \n",
       "1                                           Maryland           01/01/2013   \n",
       "2  Iowa, Pennsylvania, Connecticut, Massachusetts...           01/01/2013   \n",
       "3                                     North Carolina           04/01/2012   \n",
       "4                                            Georgia           01/01/2013   \n",
       "\n",
       "     Track Participate in Advance Payment Model   \\\n",
       "0  Track1                                    No    \n",
       "1  Track1                                    No    \n",
       "2  Track1                                    No    \n",
       "3  Track1                                    No    \n",
       "4  Track1                                    No    \n",
       "\n",
       "   Total Assigned Beneficiaries Total Benchmark Expenditures  \\\n",
       "0                          5921                    $70912015   \n",
       "1                         10485                    $92961659   \n",
       "2                         19637                   $211247324   \n",
       "3                          5915                    $70881173   \n",
       "4                         10589                   $106323535   \n",
       "\n",
       "  Total Expenditures  \\\n",
       "0          $67555873   \n",
       "1          $96240231   \n",
       "2         $200721155   \n",
       "3          $71400316   \n",
       "4         $107639420   \n",
       "\n",
       "  Total Benchmark Expenditures Minus Total Assigned Beneficiary Expenditures  \\\n",
       "0                                           $3356142                           \n",
       "1                                          $-3278573                           \n",
       "2                                          $10526169                           \n",
       "3                                           $-519143                           \n",
       "4                                          $-1315885                           \n",
       "\n",
       "  Total Benchmark Expenditures Minus Total Assigned Beneficiary Expenditures as % of Total Benchmark  \\\n",
       "0                                               4.7%                                                   \n",
       "1                                              -3.5%                                                   \n",
       "2                                                 5%                                                   \n",
       "3                                              -0.7%                                                   \n",
       "4                                              -1.2%                                                   \n",
       "\n",
       "    ...   ACO-25 ACO-26 ACO-27^  ACO-28  ACO-29  ACO-30  ACO-31  \\\n",
       "0   ...    53.04  28.21   32.94   61.25   13.08   27.36     NaN   \n",
       "1   ...    87.50  65.35   17.22   68.61   74.52   93.33   88.89   \n",
       "2   ...    73.13  81.10   18.75   66.45   55.14   82.72   75.00   \n",
       "3   ...    13.51  72.54   35.32   50.61   32.11   71.32   75.00   \n",
       "4   ...    10.79  73.38   57.11   55.88   20.22   53.01   79.55   \n",
       "\n",
       "   CAD Comp-osite  ACO-32  ACO-33  \n",
       "0           37.50   52.31   29.74  \n",
       "1           67.31   90.31   40.66  \n",
       "2           69.78   77.44   77.59  \n",
       "3           48.17   54.09   66.31  \n",
       "4           28.12   34.84   57.56  \n",
       "\n",
       "[5 rows x 48 columns]"
      ]
     },
     "execution_count": 16,
     "metadata": {},
     "output_type": "execute_result"
    }
   ],
   "source": [
    "xls.head()"
   ]
  },
  {
   "cell_type": "code",
   "execution_count": 17,
   "metadata": {},
   "outputs": [
    {
     "data": {
      "text/plain": [
       "array(['Track1 ', 'Track2 '], dtype=object)"
      ]
     },
     "execution_count": 17,
     "metadata": {},
     "output_type": "execute_result"
    }
   ],
   "source": [
    "xls['Track'].unique()"
   ]
  },
  {
   "cell_type": "code",
   "execution_count": 18,
   "metadata": {},
   "outputs": [
    {
     "data": {
      "text/plain": [
       "ACO Name (LBN or DBA, if applicable)                                                                  A.M. Beajow, M.D. Internal Medicine Associates...\n",
       "States Where Beneficiaries Reside                                                                                                                Nevada\n",
       "Agreement Start Date                                                                                                                         01/01/2013\n",
       "Track                                                                                                                                           Track1 \n",
       "Participate in Advance Payment Model                                                                                                                No \n",
       "Total Assigned Beneficiaries                                                                                                                       5921\n",
       "Total Benchmark Expenditures                                                                                                                  $70912015\n",
       "Total Expenditures                                                                                                                            $67555873\n",
       "Total Benchmark Expenditures Minus Total Assigned Beneficiary Expenditures                                                                     $3356142\n",
       "Total Benchmark Expenditures Minus Total Assigned Beneficiary Expenditures as % of Total Benchmark                                                 4.7%\n",
       "Generated Savings/Losses1,2                                                                                                                    $3356142\n",
       "Earned Shared Savings Payments/Owe Losses3,4                                                                                                   $1644510\n",
       "Successfully Reported Quality5                                                                                                                      Yes\n",
       "ACO-1                                                                                                                                              75.6\n",
       "ACO-2                                                                                                                                             93.09\n",
       "ACO-3                                                                                                                                             92.18\n",
       "ACO-4                                                                                                                                             82.91\n",
       "ACO-5                                                                                                                                             58.06\n",
       "ACO-6                                                                                                                                             76.36\n",
       "ACO-7                                                                                                                                             71.33\n",
       "ACO-8^                                                                                                                                            14.88\n",
       "ACO-9^                                                                                                                                             0.67\n",
       "ACO-10^                                                                                                                                            1.14\n",
       "ACO-11                                                                                                                                               75\n",
       "ACO-12                                                                                                                                             72.5\n",
       "ACO-13                                                                                                                                             1.24\n",
       "ACO-14                                                                                                                                            25.83\n",
       "ACO-15                                                                                                                                             22.4\n",
       "ACO-16                                                                                                                                            31.19\n",
       "ACO-17                                                                                                                                            64.08\n",
       "ACO-18                                                                                                                                                0\n",
       "ACO-19                                                                                                                                            39.41\n",
       "ACO-20                                                                                                                                            38.12\n",
       "ACO-21                                                                                                                                            75.48\n",
       "DM Comp-osite                                                                                                                                     17.76\n",
       "ACO-22                                                                                                                                            60.28\n",
       "ACO-23                                                                                                                                               50\n",
       "ACO-24                                                                                                                                            58.18\n",
       "ACO-25                                                                                                                                            53.04\n",
       "ACO-26                                                                                                                                            28.21\n",
       "ACO-27^                                                                                                                                           32.94\n",
       "ACO-28                                                                                                                                            61.25\n",
       "ACO-29                                                                                                                                            13.08\n",
       "ACO-30                                                                                                                                            27.36\n",
       "ACO-31                                                                                                                                              NaN\n",
       "CAD Comp-osite                                                                                                                                     37.5\n",
       "ACO-32                                                                                                                                            52.31\n",
       "ACO-33                                                                                                                                            29.74\n",
       "Name: 0, dtype: object"
      ]
     },
     "execution_count": 18,
     "metadata": {},
     "output_type": "execute_result"
    }
   ],
   "source": [
    "xls.loc[0]"
   ]
  },
  {
   "cell_type": "markdown",
   "metadata": {},
   "source": [
    "6 - Reading HTML w/ Pandas\n",
    "---\n",
    "\n",
    "Pandas has a read_html() method that will parse HTML, find HTML tables, and convert that data into data frames.\n",
    "\n",
    "https://pandas.pydata.org/pandas-docs/stable/io.html"
   ]
  },
  {
   "cell_type": "code",
   "execution_count": 19,
   "metadata": {},
   "outputs": [],
   "source": [
    "import pandas as pd\n",
    "tbls = pd.read_html('https://pandas.pydata.org/pandas-docs/stable/io.html')"
   ]
  },
  {
   "cell_type": "code",
   "execution_count": 20,
   "metadata": {},
   "outputs": [
    {
     "data": {
      "text/plain": [
       "12"
      ]
     },
     "execution_count": 20,
     "metadata": {},
     "output_type": "execute_result"
    }
   ],
   "source": [
    "len(tbls)"
   ]
  },
  {
   "cell_type": "code",
   "execution_count": 21,
   "metadata": {},
   "outputs": [
    {
     "data": {
      "text/html": [
       "<div>\n",
       "<style scoped>\n",
       "    .dataframe tbody tr th:only-of-type {\n",
       "        vertical-align: middle;\n",
       "    }\n",
       "\n",
       "    .dataframe tbody tr th {\n",
       "        vertical-align: top;\n",
       "    }\n",
       "\n",
       "    .dataframe thead th {\n",
       "        text-align: right;\n",
       "    }\n",
       "</style>\n",
       "<table border=\"1\" class=\"dataframe\">\n",
       "  <thead>\n",
       "    <tr style=\"text-align: right;\">\n",
       "      <th></th>\n",
       "      <th>Format Type</th>\n",
       "      <th>Data Description</th>\n",
       "      <th>Reader</th>\n",
       "      <th>Writer</th>\n",
       "    </tr>\n",
       "  </thead>\n",
       "  <tbody>\n",
       "    <tr>\n",
       "      <th>0</th>\n",
       "      <td>text</td>\n",
       "      <td>CSV</td>\n",
       "      <td>read_csv</td>\n",
       "      <td>to_csv</td>\n",
       "    </tr>\n",
       "    <tr>\n",
       "      <th>1</th>\n",
       "      <td>text</td>\n",
       "      <td>JSON</td>\n",
       "      <td>read_json</td>\n",
       "      <td>to_json</td>\n",
       "    </tr>\n",
       "    <tr>\n",
       "      <th>2</th>\n",
       "      <td>text</td>\n",
       "      <td>HTML</td>\n",
       "      <td>read_html</td>\n",
       "      <td>to_html</td>\n",
       "    </tr>\n",
       "    <tr>\n",
       "      <th>3</th>\n",
       "      <td>text</td>\n",
       "      <td>Local clipboard</td>\n",
       "      <td>read_clipboard</td>\n",
       "      <td>to_clipboard</td>\n",
       "    </tr>\n",
       "    <tr>\n",
       "      <th>4</th>\n",
       "      <td>binary</td>\n",
       "      <td>MS Excel</td>\n",
       "      <td>read_excel</td>\n",
       "      <td>to_excel</td>\n",
       "    </tr>\n",
       "    <tr>\n",
       "      <th>5</th>\n",
       "      <td>binary</td>\n",
       "      <td>HDF5 Format</td>\n",
       "      <td>read_hdf</td>\n",
       "      <td>to_hdf</td>\n",
       "    </tr>\n",
       "    <tr>\n",
       "      <th>6</th>\n",
       "      <td>binary</td>\n",
       "      <td>Feather Format</td>\n",
       "      <td>read_feather</td>\n",
       "      <td>to_feather</td>\n",
       "    </tr>\n",
       "    <tr>\n",
       "      <th>7</th>\n",
       "      <td>binary</td>\n",
       "      <td>Parquet Format</td>\n",
       "      <td>read_parquet</td>\n",
       "      <td>to_parquet</td>\n",
       "    </tr>\n",
       "    <tr>\n",
       "      <th>8</th>\n",
       "      <td>binary</td>\n",
       "      <td>Msgpack</td>\n",
       "      <td>read_msgpack</td>\n",
       "      <td>to_msgpack</td>\n",
       "    </tr>\n",
       "    <tr>\n",
       "      <th>9</th>\n",
       "      <td>binary</td>\n",
       "      <td>Stata</td>\n",
       "      <td>read_stata</td>\n",
       "      <td>to_stata</td>\n",
       "    </tr>\n",
       "    <tr>\n",
       "      <th>10</th>\n",
       "      <td>binary</td>\n",
       "      <td>SAS</td>\n",
       "      <td>read_sas</td>\n",
       "      <td>NaN</td>\n",
       "    </tr>\n",
       "    <tr>\n",
       "      <th>11</th>\n",
       "      <td>binary</td>\n",
       "      <td>Python Pickle Format</td>\n",
       "      <td>read_pickle</td>\n",
       "      <td>to_pickle</td>\n",
       "    </tr>\n",
       "    <tr>\n",
       "      <th>12</th>\n",
       "      <td>SQL</td>\n",
       "      <td>SQL</td>\n",
       "      <td>read_sql</td>\n",
       "      <td>to_sql</td>\n",
       "    </tr>\n",
       "    <tr>\n",
       "      <th>13</th>\n",
       "      <td>SQL</td>\n",
       "      <td>Google Big Query</td>\n",
       "      <td>read_gbq</td>\n",
       "      <td>to_gbq</td>\n",
       "    </tr>\n",
       "  </tbody>\n",
       "</table>\n",
       "</div>"
      ],
      "text/plain": [
       "   Format Type      Data Description          Reader        Writer\n",
       "0         text                   CSV        read_csv        to_csv\n",
       "1         text                  JSON       read_json       to_json\n",
       "2         text                  HTML       read_html       to_html\n",
       "3         text       Local clipboard  read_clipboard  to_clipboard\n",
       "4       binary              MS Excel      read_excel      to_excel\n",
       "5       binary           HDF5 Format        read_hdf        to_hdf\n",
       "6       binary        Feather Format    read_feather    to_feather\n",
       "7       binary        Parquet Format    read_parquet    to_parquet\n",
       "8       binary               Msgpack    read_msgpack    to_msgpack\n",
       "9       binary                 Stata      read_stata      to_stata\n",
       "10      binary                   SAS        read_sas           NaN\n",
       "11      binary  Python Pickle Format     read_pickle     to_pickle\n",
       "12         SQL                   SQL        read_sql        to_sql\n",
       "13         SQL      Google Big Query        read_gbq        to_gbq"
      ]
     },
     "execution_count": 21,
     "metadata": {},
     "output_type": "execute_result"
    }
   ],
   "source": [
    "tbls[0]"
   ]
  },
  {
   "cell_type": "code",
   "execution_count": 22,
   "metadata": {},
   "outputs": [
    {
     "data": {
      "text/html": [
       "<div>\n",
       "<style scoped>\n",
       "    .dataframe tbody tr th:only-of-type {\n",
       "        vertical-align: middle;\n",
       "    }\n",
       "\n",
       "    .dataframe tbody tr th {\n",
       "        vertical-align: top;\n",
       "    }\n",
       "\n",
       "    .dataframe thead th {\n",
       "        text-align: right;\n",
       "    }\n",
       "</style>\n",
       "<table border=\"1\" class=\"dataframe\">\n",
       "  <thead>\n",
       "    <tr style=\"text-align: right;\">\n",
       "      <th></th>\n",
       "      <th>0</th>\n",
       "      <th>1</th>\n",
       "    </tr>\n",
       "  </thead>\n",
       "  <tbody>\n",
       "    <tr>\n",
       "      <th>0</th>\n",
       "      <td>split</td>\n",
       "      <td>dict like {index -&gt; [index], columns -&gt; [colum...</td>\n",
       "    </tr>\n",
       "    <tr>\n",
       "      <th>1</th>\n",
       "      <td>records</td>\n",
       "      <td>list like [{column -&gt; value}, ... , {column -&gt;...</td>\n",
       "    </tr>\n",
       "    <tr>\n",
       "      <th>2</th>\n",
       "      <td>index</td>\n",
       "      <td>dict like {index -&gt; {column -&gt; value}}</td>\n",
       "    </tr>\n",
       "    <tr>\n",
       "      <th>3</th>\n",
       "      <td>columns</td>\n",
       "      <td>dict like {column -&gt; {index -&gt; value}}</td>\n",
       "    </tr>\n",
       "    <tr>\n",
       "      <th>4</th>\n",
       "      <td>values</td>\n",
       "      <td>just the values array</td>\n",
       "    </tr>\n",
       "  </tbody>\n",
       "</table>\n",
       "</div>"
      ],
      "text/plain": [
       "         0                                                  1\n",
       "0    split  dict like {index -> [index], columns -> [colum...\n",
       "1  records  list like [{column -> value}, ... , {column ->...\n",
       "2    index             dict like {index -> {column -> value}}\n",
       "3  columns             dict like {column -> {index -> value}}\n",
       "4   values                              just the values array"
      ]
     },
     "execution_count": 22,
     "metadata": {},
     "output_type": "execute_result"
    }
   ],
   "source": [
    "tbls[1]"
   ]
  },
  {
   "cell_type": "code",
   "execution_count": null,
   "metadata": {},
   "outputs": [],
   "source": []
  }
 ],
 "metadata": {
  "kernelspec": {
   "display_name": "Python 3",
   "language": "python",
   "name": "python3"
  },
  "language_info": {
   "codemirror_mode": {
    "name": "ipython",
    "version": 3
   },
   "file_extension": ".py",
   "mimetype": "text/x-python",
   "name": "python",
   "nbconvert_exporter": "python",
   "pygments_lexer": "ipython3",
   "version": "3.5.2"
  }
 },
 "nbformat": 4,
 "nbformat_minor": 1
}
