{
 "cells": [
  {
   "cell_type": "markdown",
   "metadata": {
    "collapsed": true
   },
   "source": [
    "_HDS5210 - Programming for Health Data Scientists_\n",
    "\n",
    "# Week 9 - Data Structures - XML\n",
    "\n",
    "XML is the abbreviation for eXtensible Markup Language.\n",
    "\n",
    "In this part of the lecture, we'll be working on reading / processing / writing XML.  You can see the sample file that we'll be working with here: https://www.hl7.org/fhir/patient-example-f201-roel.xml.html\n",
    "\n",
    "The Python manual for the xml module can be found here: https://docs.python.org/3.6/library/xml.html"
   ]
  },
  {
   "cell_type": "markdown",
   "metadata": {},
   "source": [
    " <id value=\"f201\"/>\n",
    " same as\n",
    " <id value=\"f201\"></id>"
   ]
  },
  {
   "cell_type": "code",
   "execution_count": 1,
   "metadata": {},
   "outputs": [],
   "source": [
    "import xml.etree.ElementTree as xml"
   ]
  },
  {
   "cell_type": "code",
   "execution_count": 15,
   "metadata": {},
   "outputs": [],
   "source": [
    "x = \"\"\"<?xml version=\"1.0\"?>\n",
    "<start a=\"1\" b=\"2\">My Value</start>\n",
    "\"\"\""
   ]
  },
  {
   "cell_type": "code",
   "execution_count": 16,
   "metadata": {},
   "outputs": [
    {
     "data": {
      "text/plain": [
       "'<?xml version=\"1.0\"?>\\n<start a=\"1\" b=\"2\">My Value</start>\\n'"
      ]
     },
     "execution_count": 16,
     "metadata": {},
     "output_type": "execute_result"
    }
   ],
   "source": [
    "x"
   ]
  },
  {
   "cell_type": "code",
   "execution_count": 17,
   "metadata": {},
   "outputs": [],
   "source": [
    "root = xml.fromstring(x)"
   ]
  },
  {
   "cell_type": "code",
   "execution_count": 18,
   "metadata": {},
   "outputs": [
    {
     "data": {
      "text/plain": [
       "'start'"
      ]
     },
     "execution_count": 18,
     "metadata": {},
     "output_type": "execute_result"
    }
   ],
   "source": [
    "root.tag"
   ]
  },
  {
   "cell_type": "code",
   "execution_count": 19,
   "metadata": {},
   "outputs": [
    {
     "data": {
      "text/plain": [
       "{'a': '1', 'b': '2'}"
      ]
     },
     "execution_count": 19,
     "metadata": {},
     "output_type": "execute_result"
    }
   ],
   "source": [
    "root.attrib"
   ]
  },
  {
   "cell_type": "code",
   "execution_count": 20,
   "metadata": {},
   "outputs": [
    {
     "data": {
      "text/plain": [
       "'My Value'"
      ]
     },
     "execution_count": 20,
     "metadata": {},
     "output_type": "execute_result"
    }
   ],
   "source": [
    "root.text"
   ]
  },
  {
   "cell_type": "code",
   "execution_count": 22,
   "metadata": {},
   "outputs": [],
   "source": [
    "hds5210 = \"\"\"<?xml version=\"1.0\"?>\n",
    "<class name=\"hds5210\" >\n",
    "This class is about programming in Python.\n",
    "    <instructor>Paul Boal</instructor>\n",
    "    <instructor>Eric Westhus</instructor>\n",
    "</class>\n",
    "\"\"\""
   ]
  },
  {
   "cell_type": "code",
   "execution_count": 23,
   "metadata": {},
   "outputs": [],
   "source": [
    "c = xml.fromstring(hds5210)"
   ]
  },
  {
   "cell_type": "code",
   "execution_count": 24,
   "metadata": {},
   "outputs": [
    {
     "data": {
      "text/plain": [
       "'\\nThis class is about programming in Python.\\n    '"
      ]
     },
     "execution_count": 24,
     "metadata": {},
     "output_type": "execute_result"
    }
   ],
   "source": [
    "c.text"
   ]
  },
  {
   "cell_type": "code",
   "execution_count": 25,
   "metadata": {},
   "outputs": [
    {
     "data": {
      "text/plain": [
       "'class'"
      ]
     },
     "execution_count": 25,
     "metadata": {},
     "output_type": "execute_result"
    }
   ],
   "source": [
    "c.tag"
   ]
  },
  {
   "cell_type": "code",
   "execution_count": 26,
   "metadata": {},
   "outputs": [
    {
     "data": {
      "text/plain": [
       "{'name': 'hds5210'}"
      ]
     },
     "execution_count": 26,
     "metadata": {},
     "output_type": "execute_result"
    }
   ],
   "source": [
    "c.attrib"
   ]
  },
  {
   "cell_type": "code",
   "execution_count": 27,
   "metadata": {},
   "outputs": [
    {
     "name": "stdout",
     "output_type": "stream",
     "text": [
      "instructor Paul Boal\n",
      "instructor Eric Westhus\n"
     ]
    }
   ],
   "source": [
    "for child in c:\n",
    "    print(child.tag, child.text)"
   ]
  },
  {
   "cell_type": "code",
   "execution_count": 28,
   "metadata": {},
   "outputs": [
    {
     "data": {
      "text/plain": [
       "2"
      ]
     },
     "execution_count": 28,
     "metadata": {},
     "output_type": "execute_result"
    }
   ],
   "source": [
    "len(c)"
   ]
  },
  {
   "cell_type": "markdown",
   "metadata": {},
   "source": [
    "## Parsing an XML file\n",
    "\n",
    "In `/data/patient-example-f201-roel.xml` we have an XML version of another sample of FHIR.\n"
   ]
  },
  {
   "cell_type": "code",
   "execution_count": 29,
   "metadata": {},
   "outputs": [
    {
     "name": "stdout",
     "output_type": "stream",
     "text": [
      "<Patient xmlns=\"http://hl7.org/fhir\">\n",
      "  <id value=\"f201\"/> \n",
      "  <text> <status value=\"generated\"/> <div xmlns=\"http://www.w3.org/1999/xhtml\"><p> <b> Generated Narrative with Details</b> </p> <p> <b> id</b> : f201</p> <p> <b> identifier</b> : BSN = 123456789 (OFFICIAL), BSN = 123456789 (OFFICIAL)</p> <p> <b> active</b> : true</p> <p> <b> name</b> : Roel(OFFICIAL)</p> <p> <b> telecom</b> : ph: +31612345678(MOBILE), ph: +31201234567(HOME)</p> <p> <b> gender</b> : male</p> <p> <b> birthDate</b> : 13/03/1960</p> <p> <b> deceased</b> : false</p> <p> <b> address</b> : Bos en Lommerplein 280 Amsterdam 1055RW NLD (HOME)</p> <p> <b> maritalStatus</b> : Legally married <span> (Details : {SNOMED CT code '36629006' = 'Legal marriage', given as 'Legally married'};\n",
      "           {http://hl7.org/fhir/v3/MaritalStatus code 'M' = 'Married)</span> </p> <p> <b> multipleBirth</b> : false</p> <p> <b> photo</b> : </p> <h3> Contacts</h3> <table> <tr> <td> -</td> <td> <b> Relationship</b> </td> <td> <b> Name</b> </td> <td> <b> Telecom</b> </td> </tr> <tr> <td> *</td> <td> Wife <span> (Details : {SNOMED CT code '127850001' = 'Wife', given as 'Wife'}; {http://hl7.org/fhir/v2/0131\n",
      "               code 'N' = 'Next-of-Kin; {http://hl7.org/fhir/v3/RoleCode code 'WIFE' = 'wife)</span> </td> <td> Ariadne Bor-Jansma</td> <td> ph: +31201234567(HOME)</td> </tr> </table> <h3> Communications</h3> <table> <tr> <td> -</td> <td> <b> Language</b> </td> <td> <b> Preferred</b> </td> </tr> <tr> <td> *</td> <td> Dutch <span> (Details : {urn:ietf:bcp:47 code 'nl-NL' = 'Dutch (Region=Netherlands)', given as 'Dutch'})</span> </td> <td> true</td> </tr> </table> <p> <b> managingOrganization</b> : <a> AUMC</a> </p> </div> </text> <identifier> \n",
      "  <!--    The identifier for the person as this patient (fictive)    -->\n",
      "    <use value=\"official\"/> \n",
      "    <type> \n",
      "      <text value=\"BSN\"/> \n",
      "    </type> \n",
      "    <system value=\"urn:oid:2.16.840.1.113883.2.4.6.3\"/> \n",
      "    <value value=\"123456789\"/> \n",
      "  </identifier> \n",
      "<!--    Demographics    -->\n",
      "  <identifier> \n",
      "  <!--    The identifier for this individual    -->\n",
      "    <use value=\"official\"/> \n",
      "    <type> \n",
      "      <text value=\"BSN\"/> \n",
      "    </type> \n",
      "    <system value=\"urn:oid:2.16.840.1.113883.2.4.6.3\"/> \n",
      "    <value value=\"123456789\"/> \n",
      "  </identifier> \n",
      "<!--    Indicates that the patient is not part of a multiple birth     -->\n",
      "  <active value=\"true\"/> \n",
      "  <name> \n",
      "  <!--    The name associated with the individual (fictive)    -->\n",
      "    <use value=\"official\"/> \n",
      "    <text value=\"Roel\"/> \n",
      "    <family value=\"Bor\"/> \n",
      "    <given value=\"Roelof Olaf\"/> \n",
      "    <prefix value=\"Drs.\"/> \n",
      "    <suffix value=\"PDEng.\"/> \n",
      "  </name> \n",
      "  <telecom> \n",
      "  <!--    The mobile contact detail for the individual    -->\n",
      "    <system value=\"phone\"/> \n",
      "    <value value=\"+31612345678\"/> \n",
      "    <use value=\"mobile\"/> \n",
      "  </telecom> \n",
      "  <telecom> \n",
      "  <!--    The home contact detail for the individual    -->\n",
      "    <system value=\"phone\"/> \n",
      "    <value value=\"+31201234567\"/> \n",
      "    <use value=\"home\"/> \n",
      "  </telecom> \n",
      "  <gender value=\"male\"/> \n",
      "  <birthDate value=\"1960-03-13\"/> \n",
      "<!--    The date and time of birth for the individual     -->\n",
      "  <deceasedBoolean value=\"false\"/> \n",
      "<!--    Indicates that the individual is not deceased    -->\n",
      "  <address> \n",
      "  <!--    Home address for the individual    -->\n",
      "    <use value=\"home\"/> \n",
      "    <line value=\"Bos en Lommerplein 280\"/> \n",
      "    <city value=\"Amsterdam\"/> \n",
      "    <postalCode value=\"1055RW\"/> \n",
      "    <country value=\"NLD\"/> \n",
      "  <!--    ISO 3166 3 letter code    -->\n",
      "  </address> \n",
      "  <maritalStatus> \n",
      "  <!--    Marital status of the person    -->\n",
      "    <coding> \n",
      "      <system value=\"http://snomed.info/sct\"/> \n",
      "      <code value=\"36629006\"/> \n",
      "      <display value=\"Legally married\"/> \n",
      "    </coding> \n",
      "    <coding> \n",
      "      <system value=\"http://hl7.org/fhir/v3/MaritalStatus\"/> \n",
      "      <code value=\"M\"/> \n",
      "    </coding> \n",
      "  </maritalStatus> \n",
      "  <multipleBirthBoolean value=\"false\"/> \n",
      "  <photo> \n",
      "    <contentType value=\"image/jpeg\"/> \n",
      "    <url value=\"Binary/f006\"/> \n",
      "  </photo> \n",
      "  <contact> \n",
      "  <!--    Contact of the patient    -->\n",
      "    <relationship> \n",
      "    <!--    Indicates that the contact is the patient's wife    -->\n",
      "      <coding> \n",
      "        <system value=\"http://snomed.info/sct\"/> \n",
      "        <code value=\"127850001\"/> \n",
      "        <display value=\"Wife\"/> \n",
      "      </coding> \n",
      "      <coding> \n",
      "        <system value=\"http://hl7.org/fhir/v2/0131\"/> \n",
      "        <code value=\"N\"/> \n",
      "      </coding> \n",
      "      <coding> \n",
      "        <system value=\"http://hl7.org/fhir/v3/RoleCode\"/> \n",
      "        <code value=\"WIFE\"/> \n",
      "      </coding>     \n",
      "    </relationship> \n",
      "    <name> \n",
      "    <!--    The name of the contact    -->\n",
      "      <use value=\"usual\"/> \n",
      "      <text value=\"Ariadne Bor-Jansma\"/> \n",
      "    </name> \n",
      "    <telecom> \n",
      "    <!--    The home contact detail    -->\n",
      "      <system value=\"phone\"/> \n",
      "      <value value=\"+31201234567\"/> \n",
      "      <use value=\"home\"/> \n",
      "    </telecom> \n",
      "  </contact> \n",
      "  <communication> \n",
      "    <language> \n",
      "      <coding> \n",
      "        <system value=\"urn:ietf:bcp:47\"/> \n",
      "        <code value=\"nl-NL\"/> \n",
      "        <display value=\"Dutch\"/> \n",
      "      </coding> \n",
      "    </language> \n",
      "    <preferred value=\"true\"/> \n",
      "  </communication> \n",
      "  <managingOrganization> \n",
      "    <reference value=\"Organization/f201\"/> \n",
      "    <display value=\"AUMC\"/> \n",
      "  </managingOrganization> \n",
      "</Patient> \n"
     ]
    }
   ],
   "source": [
    "%%bash\n",
    "cat /data/patient-example-f201-roel.xml"
   ]
  },
  {
   "cell_type": "code",
   "execution_count": 31,
   "metadata": {},
   "outputs": [],
   "source": [
    "tree = xml.parse('/data/patient-example-f201-roel.xml')\n",
    "root = tree.getroot()"
   ]
  },
  {
   "cell_type": "markdown",
   "metadata": {},
   "source": [
    "Each element in a XML tree has a `tag`, a dictionary of attributes (`attr`), a body of `text`, and zero or more `child` elements."
   ]
  },
  {
   "cell_type": "code",
   "execution_count": 33,
   "metadata": {},
   "outputs": [
    {
     "data": {
      "text/plain": [
       "'{http://hl7.org/fhir}Patient'"
      ]
     },
     "execution_count": 33,
     "metadata": {},
     "output_type": "execute_result"
    }
   ],
   "source": [
    "root.tag"
   ]
  },
  {
   "cell_type": "code",
   "execution_count": 34,
   "metadata": {},
   "outputs": [
    {
     "data": {
      "text/plain": [
       "{}"
      ]
     },
     "execution_count": 34,
     "metadata": {},
     "output_type": "execute_result"
    }
   ],
   "source": [
    "root.attrib"
   ]
  },
  {
   "cell_type": "code",
   "execution_count": 35,
   "metadata": {},
   "outputs": [
    {
     "data": {
      "text/plain": [
       "'\\n  '"
      ]
     },
     "execution_count": 35,
     "metadata": {},
     "output_type": "execute_result"
    }
   ],
   "source": [
    "root.text"
   ]
  },
  {
   "cell_type": "markdown",
   "metadata": {},
   "source": [
    "We can loop through the children..."
   ]
  },
  {
   "cell_type": "code",
   "execution_count": 37,
   "metadata": {},
   "outputs": [
    {
     "name": "stdout",
     "output_type": "stream",
     "text": [
      "{http://hl7.org/fhir}id                                      f201            0\n",
      "{http://hl7.org/fhir}text                                    None            2\n",
      "{http://hl7.org/fhir}identifier                              None            4\n",
      "{http://hl7.org/fhir}identifier                              None            4\n",
      "{http://hl7.org/fhir}active                                  true            0\n",
      "{http://hl7.org/fhir}name                                    None            6\n",
      "{http://hl7.org/fhir}telecom                                 None            3\n",
      "{http://hl7.org/fhir}telecom                                 None            3\n",
      "{http://hl7.org/fhir}gender                                  male            0\n",
      "{http://hl7.org/fhir}birthDate                               1960-03-13      0\n",
      "{http://hl7.org/fhir}deceasedBoolean                         false           0\n",
      "{http://hl7.org/fhir}address                                 None            5\n",
      "{http://hl7.org/fhir}maritalStatus                           None            2\n",
      "{http://hl7.org/fhir}multipleBirthBoolean                    false           0\n",
      "{http://hl7.org/fhir}photo                                   None            2\n",
      "{http://hl7.org/fhir}contact                                 None            3\n",
      "{http://hl7.org/fhir}communication                           None            2\n",
      "{http://hl7.org/fhir}managingOrganization                    None            2\n"
     ]
    }
   ],
   "source": [
    "for child in root:\n",
    "    print(\"{:60s} {:15s} {:d}\".format(child.tag, str(child.attrib.get('value')), len(child)))"
   ]
  },
  {
   "cell_type": "markdown",
   "metadata": {},
   "source": [
    "Or using specific search criteria, we can search for descendents that match certain tag or attribute criteria."
   ]
  },
  {
   "cell_type": "code",
   "execution_count": 38,
   "metadata": {},
   "outputs": [],
   "source": [
    "ns = { 'fhir': 'http://hl7.org/fhir' }\n",
    "xml.register_namespace('fhir','http://hl7.org/fhir')"
   ]
  },
  {
   "cell_type": "code",
   "execution_count": 39,
   "metadata": {},
   "outputs": [
    {
     "name": "stdout",
     "output_type": "stream",
     "text": [
      "{} 3\n",
      "{} 3\n"
     ]
    }
   ],
   "source": [
    "for id in root.findall('fhir:telecom', ns):\n",
    "    print(id.attrib, len(id))"
   ]
  },
  {
   "cell_type": "code",
   "execution_count": 40,
   "metadata": {},
   "outputs": [
    {
     "name": "stdout",
     "output_type": "stream",
     "text": [
      "{http://hl7.org/fhir}use --> official\n",
      "{http://hl7.org/fhir}text --> Roel\n",
      "{http://hl7.org/fhir}family --> Bor\n",
      "{http://hl7.org/fhir}given --> Roelof Olaf\n",
      "{http://hl7.org/fhir}prefix --> Drs.\n",
      "{http://hl7.org/fhir}suffix --> PDEng.\n"
     ]
    }
   ],
   "source": [
    "for nm in root.findall('fhir:name', ns):\n",
    "    for a in nm:\n",
    "        print(\"{:s} --> {:s}\".format(str(a.tag), str(a.attrib[\"value\"])))"
   ]
  },
  {
   "cell_type": "code",
   "execution_count": 41,
   "metadata": {},
   "outputs": [
    {
     "name": "stdout",
     "output_type": "stream",
     "text": [
      "b'<fhir:name xmlns:fhir=\"http://hl7.org/fhir\"> \\n  \\n    <fhir:use value=\"official\" /> \\n    <fhir:text value=\"Roel\" /> \\n    <fhir:family value=\"Bor\" /> \\n    <fhir:given value=\"Roelof Olaf\" /> \\n    <fhir:prefix value=\"Drs.\" /> \\n    <fhir:suffix value=\"PDEng.\" /> \\n  </fhir:name> \\n  '\n"
     ]
    }
   ],
   "source": [
    "for nm in root.findall('{http://hl7.org/fhir}name'):\n",
    "    print(xml.tostring(nm))"
   ]
  },
  {
   "cell_type": "code",
   "execution_count": null,
   "metadata": {},
   "outputs": [],
   "source": []
  }
 ],
 "metadata": {
  "kernelspec": {
   "display_name": "Python 3",
   "language": "python",
   "name": "python3"
  },
  "language_info": {
   "codemirror_mode": {
    "name": "ipython",
    "version": 3
   },
   "file_extension": ".py",
   "mimetype": "text/x-python",
   "name": "python",
   "nbconvert_exporter": "python",
   "pygments_lexer": "ipython3",
   "version": "3.5.2"
  },
  "varInspector": {
   "cols": {
    "lenName": 16,
    "lenType": 16,
    "lenVar": 40
   },
   "kernels_config": {
    "python": {
     "delete_cmd_postfix": "",
     "delete_cmd_prefix": "del ",
     "library": "var_list.py",
     "varRefreshCmd": "print(var_dic_list())"
    },
    "r": {
     "delete_cmd_postfix": ") ",
     "delete_cmd_prefix": "rm(",
     "library": "var_list.r",
     "varRefreshCmd": "cat(var_dic_list()) "
    }
   },
   "types_to_exclude": [
    "module",
    "function",
    "builtin_function_or_method",
    "instance",
    "_Feature"
   ],
   "window_display": false
  }
 },
 "nbformat": 4,
 "nbformat_minor": 1
}
