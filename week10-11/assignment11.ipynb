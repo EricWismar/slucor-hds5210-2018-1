{
 "cells": [
  {
   "cell_type": "markdown",
   "metadata": {},
   "source": [
    "# Week 11 - More Algorithms\n",
    "\n",
    "For this assignment, we're going to do some more work on thinking about and understanding algorithms.\n"
   ]
  },
  {
   "cell_type": "markdown",
   "metadata": {},
   "source": [
    "1 - Linear verus Binary search \n",
    "---\n",
    "\n",
    "Below are functions that implement binary search and linear search in Python as well as some code that runs timing tests using the `%%timeit` magic word.  Review the code below and then answer a few questions about the code and the timing."
   ]
  },
  {
   "cell_type": "code",
   "execution_count": 29,
   "metadata": {},
   "outputs": [],
   "source": [
    "#------------------------------------------------------------------------\n",
    "# This is binary search function\n",
    "# a = the presorted list to search within\n",
    "# b = the value to search for\n",
    "#------------------------------------------------------------------------\n",
    "from bisect import bisect_left\n",
    "def bin_search(a, x):\n",
    "    i = bisect_left(a, x)\n",
    "    if i != len(a) and a[i] == x:\n",
    "        return i\n",
    "    else:\n",
    "        return -1\n",
    "    \n",
    "#------------------------------------------------------------------------\n",
    "# This is a linear search function that doesn't cause an exception\n",
    "#------------------------------------------------------------------------\n",
    "def lin_search(a, x):\n",
    "    try:\n",
    "        return a.index(x)\n",
    "    except:\n",
    "        return -1\n",
    "\n",
    "#------------------------------------------------------------------------\n",
    "# Create and sort a list of 1000 random numbers between 0 and 1000\n",
    "#------------------------------------------------------------------------\n",
    "import random\n",
    "def generate_list(size):\n",
    "    vals = []\n",
    "    for i in range(size):\n",
    "        vals.append(random.randrange(0,size))\n",
    "    return vals\n",
    "\n",
    "vals = generate_list(1000)\n",
    "vals.sort()"
   ]
  },
  {
   "cell_type": "markdown",
   "metadata": {},
   "source": [
    "**Binary Search Timing**"
   ]
  },
  {
   "cell_type": "code",
   "execution_count": 30,
   "metadata": {},
   "outputs": [
    {
     "name": "stdout",
     "output_type": "stream",
     "text": [
      "1.92 µs ± 0 ns per loop (mean ± std. dev. of 1 run, 10000 loops each)\n"
     ]
    }
   ],
   "source": [
    "%%timeit -n 10000 -r 1\n",
    "bin_search(vals, random.randrange(0,size))"
   ]
  },
  {
   "cell_type": "markdown",
   "metadata": {},
   "source": [
    "**Linear Search Timing**"
   ]
  },
  {
   "cell_type": "code",
   "execution_count": 31,
   "metadata": {},
   "outputs": [
    {
     "name": "stdout",
     "output_type": "stream",
     "text": [
      "12.9 µs ± 0 ns per loop (mean ± std. dev. of 1 run, 10000 loops each)\n"
     ]
    }
   ],
   "source": [
    "%%timeit -n 10000 -r 1\n",
    "lin_search(vals, random.randrange(0,size))"
   ]
  },
  {
   "cell_type": "markdown",
   "metadata": {},
   "source": [
    "---\n",
    "\n",
    "**Q1: Given the pre-sorted list of random numbers, which algorithm performs faster: linear search or binary search?**\n",
    "\n",
    "\n",
    "**Q2: According to the timing tests above, how much faster (on average) is the faster algorithm?**\n",
    "\n",
    "\n",
    "**Q3: Explain why the faster algorithm performs faster than the slower one?**\n",
    "\n",
    "\n",
    "---"
   ]
  },
  {
   "cell_type": "markdown",
   "metadata": {},
   "source": [
    "2 - Data that isn't presorted\n",
    "---\n",
    "\n",
    "Often, your data won't come to you presorted, so you can't just use binary search.  However, you can create a sorted copy of your input data as shown above (line 31 of the code for question 1).\n",
    "\n",
    "Sorting the data requires some one-time overhead."
   ]
  },
  {
   "cell_type": "markdown",
   "metadata": {},
   "source": [
    "---\n",
    "\n",
    "**Q1: Explain when it would be worthwhile to take the extra time to presort the data.**\n",
    "\n",
    "\n",
    "**Q2: Explain when it would not be worthwile to take the time to presort the data.**\n",
    "\n",
    "\n",
    "---"
   ]
  },
  {
   "cell_type": "markdown",
   "metadata": {},
   "source": [
    "# 3 - Timing multiple steps\n",
    "\n",
    "In this section, we're going to setup some code to time a scenario where you might need to search the same list multiple times.  In this case, a \"sort once then binary search multiple times\" approach might or might not be better than a simple linear search.  We're going to see if we can determine which.\n",
    "\n",
    "Our two variables will be:\n",
    "```\n",
    "v_count = Number of values to be searched\n",
    "s_count = Number of times to search\n",
    "```"
   ]
  },
  {
   "cell_type": "code",
   "execution_count": 92,
   "metadata": {},
   "outputs": [],
   "source": [
    "# NOTE that running this code may take a few minutes.  \n",
    "# It is going to run more than 9000 performance tests for various scenarios.\n",
    "\n",
    "import time\n",
    "v_counts = list(range(100,10000,100))\n",
    "s_counts = list(range(1,1000,10))\n",
    "\n",
    "results = [] # Store (v_count, s_count, lin_search_time, sort_time, bin_search_time)\n",
    "\n",
    "# Run the test loop for each of our possible value-counts and search-counts\n",
    "for v_count in v_counts:\n",
    "    \n",
    "    # First, generate the list of that many values\n",
    "    vals_unsorted = generate_list(v_count)\n",
    "    \n",
    "    # Record how long to sort the list\n",
    "    start = time.perf_counter()\n",
    "    vals_sorted = sorted(vals_unsorted)\n",
    "    end = time.perf_counter()\n",
    "    sort_time = (end - start) * 1000\n",
    "\n",
    "    for s_count in s_counts:\n",
    "        # Now do s_count number of linear searches\n",
    "        start = time.perf_counter()\n",
    "        for i in range(s_count):\n",
    "            lin_search(vals_unsorted, random.randrange(0,v_count+1))\n",
    "        end = time.perf_counter()\n",
    "        lin_search_time = (end - start)*1000\n",
    "\n",
    "        # Now do s_count number of binary searches\n",
    "        start = time.perf_counter()\n",
    "        for i in range(s_count):\n",
    "            bin_search(vals_sorted, random.randrange(0,v_count+1))\n",
    "        end = time.perf_counter()\n",
    "        bin_search_time = (end - start)*1000\n",
    "        \n",
    "        results.append((v_count, s_count, lin_search_time, sort_time, bin_search_time))\n",
    "    \n"
   ]
  },
  {
   "cell_type": "code",
   "execution_count": 93,
   "metadata": {},
   "outputs": [],
   "source": [
    "import pandas as pd\n",
    "data = pd.DataFrame(results, columns=[\"v_count\",\"s_count\",\"lin_search_time\",\"sort_time\",\"bin_search_time\"])\n",
    "data['bin_search'] = data['sort_time'] + data['bin_search_time']"
   ]
  },
  {
   "cell_type": "code",
   "execution_count": 94,
   "metadata": {},
   "outputs": [
    {
     "data": {
      "text/plain": [
       "<matplotlib.axes._subplots.AxesSubplot at 0x7f2d0a6ce898>"
      ]
     },
     "execution_count": 94,
     "metadata": {},
     "output_type": "execute_result"
    },
    {
     "data": {
      "image/png": "[encoded data removed]",
      "text/plain": [
       "<matplotlib.figure.Figure at 0x7f2d0a6856d8>"
      ]
     },
     "metadata": {},
     "output_type": "display_data"
    }
   ],
   "source": [
    "ax = data.loc[data['bin_search'] < data['lin_search_time']].plot.scatter(x='s_count',y='v_count',color='DarkBlue',label='Binary Faster')\n",
    "ax = data.loc[data['bin_search'] > data['lin_search_time']].plot.scatter(x='s_count',y='v_count',color='Pink',label='Linear Faster', ax=ax)\n",
    "ax"
   ]
  },
  {
   "cell_type": "markdown",
   "metadata": {},
   "source": [
    "---\n",
    "\n",
    "**Q1: If we had 8000 values in our input list and had to do 800 searches, would it be faster to do linear or binary search?**\n",
    "\n",
    "**Q2: Describe what the graph above is telling us about performance of \"sort and binary search\" versus \"linear search\".**\n",
    "\n",
    "---"
   ]
  },
  {
   "cell_type": "markdown",
   "metadata": {},
   "source": [
    "# 4 - Binary versus Linear\n",
    "\n",
    "Given a scenario where you are going to need to do a fixed number of search (e.g. 401), we can look at how performance of linear search and binary search with a presort step compare in their scalability relative to the number of values in the list.  Consider the chart below and answer the following questions."
   ]
  },
  {
   "cell_type": "code",
   "execution_count": 100,
   "metadata": {},
   "outputs": [
    {
     "name": "stderr",
     "output_type": "stream",
     "text": [
      "/usr/local/lib/python3.5/dist-packages/pandas/plotting/_core.py:1716: UserWarning: Pandas doesn't allow columns to be created via a new attribute name - see https://pandas.pydata.org/pandas-docs/stable/indexing.html#attribute-access\n",
      "  series.name = label\n"
     ]
    },
    {
     "data": {
      "text/plain": [
       "<matplotlib.axes._subplots.AxesSubplot at 0x7f2d0a4e3550>"
      ]
     },
     "execution_count": 100,
     "metadata": {},
     "output_type": "execute_result"
    },
    {
     "data": {
      "image/png": "[encoded data removed]",
      "text/plain": [
       "<matplotlib.figure.Figure at 0x7f2d0a4279b0>"
      ]
     },
     "metadata": {},
     "output_type": "display_data"
    }
   ],
   "source": [
    "data.loc[data['s_count']==401].plot(x='v_count',y=['sort_time','bin_search','lin_search_time'],color=['LightBlue','DarkBlue','Pink'])\n"
   ]
  },
  {
   "cell_type": "markdown",
   "metadata": {},
   "source": [
    "---\n",
    "\n",
    "**Q1: How would you describe the relationship between linear search and the number of values in the input list?**\n",
    "\n",
    "\n",
    "**Q2: When doing a binary search, which activity (the sort or the remaining search time) dominates the time it takes to do the entire search process?**\n",
    "\n",
    "---\n",
    "\n"
   ]
  },
  {
   "cell_type": "code",
   "execution_count": null,
   "metadata": {},
   "outputs": [],
   "source": []
  }
 ],
 "metadata": {
  "kernelspec": {
   "display_name": "Python 3",
   "language": "python",
   "name": "python3"
  },
  "language_info": {
   "codemirror_mode": {
    "name": "ipython",
    "version": 3
   },
   "file_extension": ".py",
   "mimetype": "text/x-python",
   "name": "python",
   "nbconvert_exporter": "python",
   "pygments_lexer": "ipython3",
   "version": "3.5.2"
  },
  "varInspector": {
   "cols": {
    "lenName": 16,
    "lenType": 16,
    "lenVar": 40
   },
   "kernels_config": {
    "python": {
     "delete_cmd_postfix": "",
     "delete_cmd_prefix": "del ",
     "library": "var_list.py",
     "varRefreshCmd": "print(var_dic_list())"
    },
    "r": {
     "delete_cmd_postfix": ") ",
     "delete_cmd_prefix": "rm(",
     "library": "var_list.r",
     "varRefreshCmd": "cat(var_dic_list()) "
    }
   },
   "types_to_exclude": [
    "module",
    "function",
    "builtin_function_or_method",
    "instance",
    "_Feature"
   ],
   "window_display": false
  }
 },
 "nbformat": 4,
 "nbformat_minor": 2
}
