{
 "cells": [
  {
   "cell_type": "markdown",
   "metadata": {},
   "source": [
    "# Week 3 - Functions\n",
    "\n",
    "The main objective for this part of the lecture is to develop an understanding of:\n",
    "\n",
    "* What is a function?\n",
    "* How can functions be used?\n",
    "* Why is using functions a good idea?"
   ]
  },
  {
   "cell_type": "markdown",
   "metadata": {},
   "source": [
    "## Build-In Functions"
   ]
  },
  {
   "cell_type": "code",
   "execution_count": 1,
   "metadata": {},
   "outputs": [
    {
     "name": "stdout",
     "output_type": "stream",
     "text": [
      "Help on built-in function pow in module builtins:\n",
      "\n",
      "pow(...)\n",
      "    pow(x, y[, z]) -> number\n",
      "    \n",
      "    With two arguments, equivalent to x**y.  With three arguments,\n",
      "    equivalent to (x**y) % z, but may be more efficient (e.g. for ints).\n",
      "\n"
     ]
    }
   ],
   "source": [
    "help(pow)"
   ]
  },
  {
   "cell_type": "code",
   "execution_count": 2,
   "metadata": {},
   "outputs": [
    {
     "data": {
      "text/plain": [
       "27"
      ]
     },
     "execution_count": 2,
     "metadata": {},
     "output_type": "execute_result"
    }
   ],
   "source": [
    "pow(3, 3)"
   ]
  },
  {
   "cell_type": "code",
   "execution_count": 5,
   "metadata": {},
   "outputs": [
    {
     "data": {
      "text/plain": [
       "140080494394568"
      ]
     },
     "execution_count": 5,
     "metadata": {},
     "output_type": "execute_result"
    }
   ],
   "source": [
    "id(pow)"
   ]
  },
  {
   "cell_type": "code",
   "execution_count": 7,
   "metadata": {},
   "outputs": [
    {
     "data": {
      "text/plain": [
       "140080492179648"
      ]
     },
     "execution_count": 7,
     "metadata": {},
     "output_type": "execute_result"
    }
   ],
   "source": [
    "id(3)"
   ]
  },
  {
   "cell_type": "markdown",
   "metadata": {},
   "source": [
    "## Creating our own functions"
   ]
  },
  {
   "cell_type": "code",
   "execution_count": 13,
   "metadata": {},
   "outputs": [],
   "source": [
    "def BMI ( weight_kg, height_cm ):\n",
    "    height_m = height_cm / 100\n",
    "    bmi = weight_kg / (height_m ** 2)\n",
    "    return bmi"
   ]
  },
  {
   "cell_type": "code",
   "execution_count": 11,
   "metadata": {
    "collapsed": true
   },
   "outputs": [],
   "source": [
    "power=2"
   ]
  },
  {
   "cell_type": "code",
   "execution_count": 12,
   "metadata": {},
   "outputs": [
    {
     "data": {
      "text/plain": [
       "27.38195870064002"
      ]
     },
     "execution_count": 12,
     "metadata": {},
     "output_type": "execute_result"
    }
   ],
   "source": [
    "BMI (90.7, 182)"
   ]
  },
  {
   "cell_type": "code",
   "execution_count": 6,
   "metadata": {},
   "outputs": [],
   "source": [
    "height_m = 98"
   ]
  },
  {
   "cell_type": "code",
   "execution_count": 7,
   "metadata": {},
   "outputs": [
    {
     "data": {
      "text/plain": [
       "98"
      ]
     },
     "execution_count": 7,
     "metadata": {},
     "output_type": "execute_result"
    }
   ],
   "source": [
    "height_m"
   ]
  },
  {
   "cell_type": "markdown",
   "metadata": {},
   "source": [
    "## Adding documentation"
   ]
  },
  {
   "cell_type": "code",
   "execution_count": 14,
   "metadata": {
    "collapsed": true
   },
   "outputs": [],
   "source": [
    "def BMI ( weight_kg, height_cm ):\n",
    "    \"\"\" (float, float) -> float\n",
    "    \n",
    "    Returns the BMI calculated by dividing weight in kilograms by the square of the height in meters squared.\n",
    "    \n",
    "    >>> BMI (90.7, 182)\n",
    "    27.38195870064002\n",
    "    \"\"\"\n",
    "    height_m = height_cm / 100\n",
    "    bmi = weight_kg / (height_m ** 2)\n",
    "    return bmi"
   ]
  },
  {
   "cell_type": "code",
   "execution_count": 15,
   "metadata": {},
   "outputs": [
    {
     "name": "stdout",
     "output_type": "stream",
     "text": [
      "Help on function BMI in module __main__:\n",
      "\n",
      "BMI(weight_kg, height_cm)\n",
      "    (float, float) -> float\n",
      "    \n",
      "    Returns the BMI calculated by dividing weight in kilograms by the square of the height in meters squared.\n",
      "    \n",
      "    >>> BMI (90.7, 182)\n",
      "    27.38195870064002\n",
      "\n"
     ]
    }
   ],
   "source": [
    "help(BMI)"
   ]
  },
  {
   "cell_type": "code",
   "execution_count": 17,
   "metadata": {
    "collapsed": true
   },
   "outputs": [],
   "source": [
    "def doSometing(a):\n",
    "    \"\"\" (string) -> string\n",
    "    This function does something great!\n",
    "    \n",
    "    >>> doSomething(a)\n",
    "    Magic!!!\n",
    "    \"\"\"\n",
    "    return 'Magic!!!'"
   ]
  },
  {
   "cell_type": "markdown",
   "metadata": {},
   "source": [
    "## Another function\n",
    "Let's right a new function that calculates the drip rate for an IV drip as in the following example:\n",
    "\n",
    "Imagine that you have a 1,000 mL IV bag and need to infuse 125 mg of ABC at a rate of 5 mg per hour.  Assuming you use entire bag to deliver the dose of ABC, what should the drip rate be (mL per hour) in order to deliver the entire IV bag."
   ]
  },
  {
   "cell_type": "code",
   "execution_count": 29,
   "metadata": {
    "collapsed": true
   },
   "outputs": [],
   "source": [
    "def drip_rate ( med_dose, med_per_time, bag_size ):\n",
    "    \"\"\" (int, int, int) -> float\n",
    "    Returns the drip rate using the units of volume from bag_size and the unit of time from the med_per_time parameter.\n",
    "    \n",
    "    >>> drip_rate ( 10, 1, 10 )\n",
    "    1.0\n",
    "    \"\"\"\n",
    "    time = med_dose / med_per_time\n",
    "    drip_rate = bag_size / time\n",
    "    return drip_rate "
   ]
  },
  {
   "cell_type": "code",
   "execution_count": 31,
   "metadata": {},
   "outputs": [
    {
     "name": "stdout",
     "output_type": "stream",
     "text": [
      "Help on function drip_rate in module __main__:\n",
      "\n",
      "drip_rate(med_dose, med_per_time, bag_size)\n",
      "    (int, int, int) -> float\n",
      "    Returns the drip rate using the units of volume from bag_size and the unit of time from the med_per_time parameter.\n",
      "    \n",
      "    >>> drip_rate ( 10, 1, 10 )\n",
      "    1.0\n",
      "\n"
     ]
    }
   ],
   "source": [
    "help(drip_rate)"
   ]
  },
  {
   "cell_type": "code",
   "execution_count": 22,
   "metadata": {},
   "outputs": [
    {
     "data": {
      "text/plain": [
       "40.0"
      ]
     },
     "execution_count": 22,
     "metadata": {},
     "output_type": "execute_result"
    }
   ],
   "source": [
    "drip_rate ( 125, 5, 1000 )"
   ]
  },
  {
   "cell_type": "code",
   "execution_count": 30,
   "metadata": {},
   "outputs": [
    {
     "data": {
      "text/plain": [
       "1.0"
      ]
     },
     "execution_count": 30,
     "metadata": {},
     "output_type": "execute_result"
    }
   ],
   "source": [
    "drip_rate ( 10, 1, 10 )"
   ]
  },
  {
   "cell_type": "code",
   "execution_count": 24,
   "metadata": {},
   "outputs": [
    {
     "data": {
      "text/plain": [
       "40.0"
      ]
     },
     "execution_count": 24,
     "metadata": {},
     "output_type": "execute_result"
    }
   ],
   "source": [
    "drip_rate ( med_per_time = 5, med_dose = 125, bag_size = 1000 )"
   ]
  },
  {
   "cell_type": "code",
   "execution_count": 25,
   "metadata": {
    "collapsed": true
   },
   "outputs": [],
   "source": [
    "l = [[125,5,1000],[10,1,10]]"
   ]
  },
  {
   "cell_type": "code",
   "execution_count": 28,
   "metadata": {},
   "outputs": [
    {
     "name": "stdout",
     "output_type": "stream",
     "text": [
      "40.0\n",
      "1.0\n"
     ]
    }
   ],
   "source": [
    "for item in l:\n",
    "    print(drip_rate(item[0],item[1],item[2]))"
   ]
  }
 ],
 "metadata": {
  "kernelspec": {
   "display_name": "Python 3",
   "language": "python",
   "name": "python3"
  },
  "language_info": {
   "codemirror_mode": {
    "name": "ipython",
    "version": 3
   },
   "file_extension": ".py",
   "mimetype": "text/x-python",
   "name": "python",
   "nbconvert_exporter": "python",
   "pygments_lexer": "ipython3",
   "version": "3.5.2"
  }
 },
 "nbformat": 4,
 "nbformat_minor": 1
}
