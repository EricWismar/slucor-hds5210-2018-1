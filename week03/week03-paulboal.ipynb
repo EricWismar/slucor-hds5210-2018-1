{
 "cells": [
  {
   "cell_type": "markdown",
   "metadata": {},
   "source": [
    "_SLUCOR HDS5210 - Programming for Health Data Science - 2018 Spring_\n",
    "\n",
    "Week 3 (February 5) Exercises\n",
    "===\n",
    "\n",
    "Before starting, be sure that you have completed the GitHub setup from week 2 and have your hds5210 repository setup from the homework last assignments.  You'll continue to use the same Git project / repository to submit your assignments."
   ]
  },
  {
   "cell_type": "markdown",
   "metadata": {},
   "source": [
    "#1 - Creating Functions\n",
    "---\n",
    "\n",
    "Write a function called `navy_bmi` like the BMI one we did in class, that uses the US Navy calculator for BMI for men.  You can find the formula below.  Note that the **formula assumes all measurements are in cm**.\n",
    "\n",
    "![navy_bmi](navy_bmi_formula.png \"Navy BMI\")\n",
    "\n",
    "Your function will need to take in parameters for `waist_inches`, `neck_inches`, and `height_inches`, **all in inches**.  Test your function using the following values to make sure you get the right answer.\n",
    "\n",
    "```\n",
    "navy_bmi(36.5, 16, 72)\n",
    "\n",
    "19.499313827566784\n",
    "```\n",
    "\n",
    "You'll need to import that **math** module first to be able to use the **log** function.  You may also want to review the help documentation on **log** to make sure you use it correctly."
   ]
  },
  {
   "cell_type": "code",
   "execution_count": 1,
   "metadata": {},
   "outputs": [],
   "source": [
    "import math\n",
    "def navy_bmi(waist, neck, height):\n",
    "    waist_cm = waist * 2.54\n",
    "    neck_cm = neck * 2.54\n",
    "    height_cm = height * 2.54\n",
    "    bmi = 86.010 * math.log(waist_cm - neck_cm,10) - 70.041 * math.log(height_cm,10) + 30.30\n",
    "    return bmi\n"
   ]
  },
  {
   "cell_type": "code",
   "execution_count": 2,
   "metadata": {},
   "outputs": [
    {
     "data": {
      "text/plain": [
       "19.499313827566784"
      ]
     },
     "execution_count": 2,
     "metadata": {},
     "output_type": "execute_result"
    }
   ],
   "source": [
    "navy_bmi(36.5, 16, 72)"
   ]
  },
  {
   "cell_type": "markdown",
   "metadata": {},
   "source": [
    "#2 - Understanding Functions\n",
    "---\n",
    "\n",
    "Try to reason through this set of instruction and determine what the output will be.  Check your understanding by running the code in Jupyter.  Then explain why the output is what it is.\n",
    "\n",
    "```\n",
    "temp = 103\n",
    "\n",
    "def calculate_target (temp):\n",
    "    temp -= 4\n",
    "    return temp\n",
    "\n",
    "calculate_target (temp)\n",
    "\n",
    "print(\"The current value of temp is \" + str(temp))\n",
    "```\n"
   ]
  },
  {
   "cell_type": "markdown",
   "metadata": {},
   "source": [
    "Solution\n",
    "---\n",
    "\n",
    "1. The program-level variable `temp` is set to `103`\n",
    "2. We have a function that uses a local variable also named `temp` to do a calculation\n",
    "3. When we use the `calculate_target` function and pass it the program-level variable `temp`, the function does its work and returns a value, but our program doesn't assign that return value to a variable. Nothing has changed at the program-level.\n",
    "4. We print out the value of the program-level variable `temp`... which never changed"
   ]
  },
  {
   "cell_type": "markdown",
   "metadata": {},
   "source": [
    "#3 - Parsing Dosage Amounts and Units\n",
    "---\n",
    "\n",
    "Create a function that will take as input an infusion dosage value and unit in the format `# volume/time` such as `45 mg/hr` or `0.2 L/hr`, and return just the numeric part of the dosage.  It should return the numeric part as a floating point decimal number so that calculations can easily be done with the number.\n",
    "\n",
    "Demonstrate that your function works correctly using each of these tests:\n",
    "```\n",
    "1.0 L/hr\n",
    "10 mg/hr\n",
    "0.75 g/day\n",
    "```"
   ]
  },
  {
   "cell_type": "markdown",
   "metadata": {},
   "source": [
    "Solution Option 1, using `find`\n",
    "---"
   ]
  },
  {
   "cell_type": "code",
   "execution_count": 3,
   "metadata": {},
   "outputs": [],
   "source": [
    "def parse_rate1(rate):\n",
    "    \"\"\" (str) -> float\n",
    "    Given a string that's in the format '# volume/time' \n",
    "    extract the numeric part and return it as a number\n",
    "    \n",
    "    >>> parse_rate1('1.0 L/hr')\n",
    "    1.0\n",
    "    \n",
    "    >>> parse_rate1('10 mg/hr')\n",
    "    10.0\n",
    "    \n",
    "    >>> parse_rate1('0.75 g/day')\n",
    "    0.75\n",
    "    \"\"\"\n",
    "    space_pos = rate.find(' ')    # The space is our separator between number part and units\n",
    "    num_part = rate[:space_pos]   # Take everything up to that space\n",
    "    return float(num_part)        # Return the float version"
   ]
  },
  {
   "cell_type": "code",
   "execution_count": 4,
   "metadata": {},
   "outputs": [
    {
     "name": "stdout",
     "output_type": "stream",
     "text": [
      "Finding tests in NoName\n",
      "Trying:\n",
      "    parse_rate1('1.0 L/hr')\n",
      "Expecting:\n",
      "    1.0\n",
      "ok\n",
      "Trying:\n",
      "    parse_rate1('10 mg/hr')\n",
      "Expecting:\n",
      "    10.0\n",
      "ok\n",
      "Trying:\n",
      "    parse_rate1('0.75 g/day')\n",
      "Expecting:\n",
      "    0.75\n",
      "ok\n"
     ]
    }
   ],
   "source": [
    "import doctest\n",
    "doctest.run_docstring_examples(parse_rate1,globals(),verbose=True)"
   ]
  },
  {
   "cell_type": "markdown",
   "metadata": {},
   "source": [
    "Solution Option 2 - using `split`\n",
    "---"
   ]
  },
  {
   "cell_type": "code",
   "execution_count": 5,
   "metadata": {},
   "outputs": [],
   "source": [
    "def parse_rate2(rate):\n",
    "    \"\"\" (str) -> float\n",
    "    Given a string that's in the format '# volume/time' \n",
    "    extract the numeric part and return it as a number\n",
    "    \n",
    "    >>> parse_rate2('1.0 L/hr')\n",
    "    1.0\n",
    "    \n",
    "    >>> parse_rate2('10 mg/hr')\n",
    "    10.0\n",
    "    \n",
    "    >>> parse_rate2('0.75 g/day')\n",
    "    0.75\n",
    "    \"\"\"\n",
    "    parts = rate.split(' ')   # Split our string into parts based using space as a separator\n",
    "    return float(parts[0])    # The number part will be the 0-index of the parts array"
   ]
  },
  {
   "cell_type": "code",
   "execution_count": 6,
   "metadata": {},
   "outputs": [
    {
     "name": "stdout",
     "output_type": "stream",
     "text": [
      "Finding tests in NoName\n",
      "Trying:\n",
      "    parse_rate2('1.0 L/hr')\n",
      "Expecting:\n",
      "    1.0\n",
      "ok\n",
      "Trying:\n",
      "    parse_rate2('10 mg/hr')\n",
      "Expecting:\n",
      "    10.0\n",
      "ok\n",
      "Trying:\n",
      "    parse_rate2('0.75 g/day')\n",
      "Expecting:\n",
      "    0.75\n",
      "ok\n"
     ]
    }
   ],
   "source": [
    "import doctest\n",
    "doctest.run_docstring_examples(parse_rate2,globals(),verbose=True)"
   ]
  },
  {
   "cell_type": "markdown",
   "metadata": {},
   "source": [
    "#4 - Parsing and Rewriting a String\n",
    "---\n",
    "\n",
    "Create another function or collection of functions that will take a string in the format `drug # volumne/time` such as `Asprin 20 mg/hr`, and return a string in the format `In one hr, the patient will have received 20 mg of Asprin.  Doubling the dosage to 40 mg would be dangerous!`. Be sure that you reuse the other functions you've created in this assignment if possible.\n",
    "\n",
    "Demonstrate that your function works correctly using these tests:\n",
    "\n",
    "```\n",
    "Asprin 20 mg/hr\n",
    "Amoxicillin 300 mg/day\n",
    "```"
   ]
  },
  {
   "cell_type": "markdown",
   "metadata": {},
   "source": [
    "Solution Option 1 - Using `find`\n",
    "---"
   ]
  },
  {
   "cell_type": "code",
   "execution_count": 7,
   "metadata": {},
   "outputs": [],
   "source": [
    "def parse_drug1(drug):\n",
    "    \"\"\" (str) -> str\n",
    "    Given a string in the format 'drug # volume/time` return a sentence that describes the amount\n",
    "    of drug a person will receive in that unit of time.\n",
    "    \n",
    "    >>> parse_drug1('Asprin 20 mg/hr')\n",
    "    'In one hr, the patient will have received 20 mg of Asprin.  Doubling the dosage to 40 mg would be dangerous!'\n",
    "    \n",
    "    >>> parse_drug1('Amoxicillin 300 mg/day')\n",
    "    'In one day, the patient will have received 300 mg of Amoxicillin.  Doubling the dosage to 600 mg would be dangerous!'\n",
    "    \"\"\"\n",
    "    # Find the first and second spaces\n",
    "    first_space = drug.find(' ')\n",
    "    second_space = drug.find(' ', first_space + 1)\n",
    "    \n",
    "    # Parse out the three main pieces\n",
    "    name = drug[:first_space]\n",
    "    amount = int(drug[first_space + 1:second_space])\n",
    "    units = drug[second_space + 1:]\n",
    "    \n",
    "    # Parse the units into numerator / denominator\n",
    "    unit_sep_pos = units.find('/')\n",
    "    volume = units[:unit_sep_pos]\n",
    "    time = units[unit_sep_pos + 1:]\n",
    "    \n",
    "    statement = \"In one {}, the patient will have received {} {} of {}.\".format(time, amount, volume, name)\n",
    "    statement += \"  Doubling the dosage to {} {} would be dangerous!\".format(amount*2, volume)\n",
    "    return statement"
   ]
  },
  {
   "cell_type": "code",
   "execution_count": 8,
   "metadata": {},
   "outputs": [
    {
     "name": "stdout",
     "output_type": "stream",
     "text": [
      "Finding tests in NoName\n",
      "Trying:\n",
      "    parse_drug1('Asprin 20 mg/hr')\n",
      "Expecting:\n",
      "    'In one hr, the patient will have received 20 mg of Asprin.  Doubling the dosage to 40 mg would be dangerous!'\n",
      "ok\n",
      "Trying:\n",
      "    parse_drug1('Amoxicillin 300 mg/day')\n",
      "Expecting:\n",
      "    'In one day, the patient will have received 300 mg of Amoxicillin.  Doubling the dosage to 600 mg would be dangerous!'\n",
      "ok\n"
     ]
    }
   ],
   "source": [
    "import doctest\n",
    "doctest.run_docstring_examples(parse_drug1,globals(),verbose=True)"
   ]
  },
  {
   "cell_type": "markdown",
   "metadata": {},
   "source": [
    "Solution Option 2 - Using `split`\n",
    "---"
   ]
  },
  {
   "cell_type": "code",
   "execution_count": 9,
   "metadata": {},
   "outputs": [],
   "source": [
    "def parse_drug2(drug):\n",
    "    \"\"\" (str) -> str\n",
    "    Given a string in the format 'drug # volume/time` return a sentence that describes the amount\n",
    "    of drug a person will receive in that unit of time.\n",
    "    \n",
    "    >>> parse_drug2('Asprin 20 mg/hr')\n",
    "    'In one hr, the patient will have received 20 mg of Asprin.  Doubling the dosage to 40 mg would be dangerous!'\n",
    "    \n",
    "    >>> parse_drug2('Amoxicillin 300 mg/day')\n",
    "    'In one day, the patient will have received 300 mg of Amoxicillin.  Doubling the dosage to 600 mg would be dangerous!'\n",
    "    \"\"\"\n",
    "    # Split the input using space\n",
    "    drug_parts = drug.split(' ')\n",
    "    name = drug_parts[0]\n",
    "    amount = int(drug_parts[1])\n",
    "    units = drug_parts[2]\n",
    "    \n",
    "    # Parse the units into numerator / denominator\n",
    "    unit_parts = units.split('/')\n",
    "    volume = unit_parts[0]\n",
    "    time = unit_parts[1]\n",
    "    \n",
    "    statement = \"In one {}, the patient will have received {} {} of {}.\".format(time, amount, volume, name)\n",
    "    statement += \"  Doubling the dosage to {} {} would be dangerous!\".format(amount*2, volume)\n",
    "    return statement"
   ]
  },
  {
   "cell_type": "code",
   "execution_count": 10,
   "metadata": {},
   "outputs": [
    {
     "name": "stdout",
     "output_type": "stream",
     "text": [
      "Finding tests in NoName\n",
      "Trying:\n",
      "    parse_drug2('Asprin 20 mg/hr')\n",
      "Expecting:\n",
      "    'In one hr, the patient will have received 20 mg of Asprin.  Doubling the dosage to 40 mg would be dangerous!'\n",
      "ok\n",
      "Trying:\n",
      "    parse_drug2('Amoxicillin 300 mg/day')\n",
      "Expecting:\n",
      "    'In one day, the patient will have received 300 mg of Amoxicillin.  Doubling the dosage to 600 mg would be dangerous!'\n",
      "ok\n"
     ]
    }
   ],
   "source": [
    "import doctest\n",
    "doctest.run_docstring_examples(parse_drug2,globals(),verbose=True)"
   ]
  },
  {
   "cell_type": "markdown",
   "metadata": {},
   "source": [
    "#5 - (Stretch Assignment)\n",
    "---\n",
    "\n",
    "If you complete the other assignments above easily, I offer you this additional assignment for extra credit.  If you do not finish #5 it will not count against your grade on this assignment.  If you do complete it correctly, you'll be entered into a prize drawing for for something right before the end of the final.\n",
    "\n",
    "Imagine a family tree with the following general structure:\n",
    "\n",
    "```person ( mother + father )```\n",
    "\n",
    "An example would use actual names for the various roles:\n",
    "\n",
    "```Paul Boal ( Carol Boal + James Boal )```\n",
    "\n",
    "The structure can also include information about the mother and father embedded within the text, too.\n",
    "\n",
    "```person ( mother (mother's moth + mother's father) + father (father's mother + father's father))```\n",
    "\n",
    "An example would be:\n",
    "\n",
    "```Paul Boal ( Carol Boal ( Dorothy Greenfield + Howard Greenfield ) + James Boal ( Velma Boal + Harold Boal ))```\n",
    "\n",
    "This kind of structure can be arbitrarily deep.  The spaces don't matter. The only important punctuation are the parentheses to enclose `( mother + father )` and the plus sign to separate `mother + father`.  Note that mother always comes first, followed by the plus sign, and then the father.\n",
    "\n",
    "Write a recursive function that can find an arbitrarily deep request using a phrase like `mother's mother` or `father's mother's mother` to identify the person to lookup.  Your function should take the family tree and the request as parameters, and should return the name of the person in that position.\n",
    "\n",
    "In our example above: `father's father` would return `Harold Boal`\n"
   ]
  },
  {
   "cell_type": "markdown",
   "metadata": {},
   "source": [
    "Solution Description\n",
    "---\n",
    "\n",
    "We're going to use a recursive function to do this."
   ]
  },
  {
   "cell_type": "code",
   "execution_count": 11,
   "metadata": {},
   "outputs": [],
   "source": [
    "import logging\n",
    "\n",
    "def get_side(whole, part):\n",
    "    \"\"\" (str, int) -> str\n",
    "    >>> get_side('a + b',1)\n",
    "    'a'\n",
    "    \n",
    "    >>> get_side('a + b',2)\n",
    "    'b'\n",
    "    \n",
    "    >>> get_side('( a + b ) + ( c + d )',1)\n",
    "    '( a + b )'\n",
    "\n",
    "    >>> get_side('junk ( a + b ) + ( c + d )',1)\n",
    "    'junk ( a + b )'\n",
    "    \n",
    "    >>> get_side(' Carol Boal ( Dorothy Greenfield + Howard Greenfield ) + James Boal ( Velma Boal + Harold Boal )',1)\n",
    "    'Carol Boal ( Dorothy Greenfield + Howard Greenfield )'\n",
    "    \"\"\"\n",
    "    \n",
    "    logging.debug(\"Getting side {} from '{}'\".format(part,whole))\n",
    "    depth = 0\n",
    "    pos = -1\n",
    "    for i in range(0,len(whole)):\n",
    "        if whole[i] == '(':\n",
    "            depth += 1\n",
    "        if whole[i] == ')':\n",
    "            depth -= 1\n",
    "        if depth == 0 and whole[i] == '+':\n",
    "            pos = i\n",
    "    \n",
    "    if part == 1:\n",
    "        return whole[:pos].strip()\n",
    "    else:\n",
    "        return whole[pos+1:].strip()"
   ]
  },
  {
   "cell_type": "code",
   "execution_count": 12,
   "metadata": {},
   "outputs": [
    {
     "name": "stdout",
     "output_type": "stream",
     "text": [
      "Finding tests in NoName\n",
      "Trying:\n",
      "    get_side('a + b',1)\n",
      "Expecting:\n",
      "    'a'\n",
      "ok\n",
      "Trying:\n",
      "    get_side('a + b',2)\n",
      "Expecting:\n",
      "    'b'\n",
      "ok\n",
      "Trying:\n",
      "    get_side('( a + b ) + ( c + d )',1)\n",
      "Expecting:\n",
      "    '( a + b )'\n",
      "ok\n",
      "Trying:\n",
      "    get_side('junk ( a + b ) + ( c + d )',1)\n",
      "Expecting:\n",
      "    'junk ( a + b )'\n",
      "ok\n",
      "Trying:\n",
      "    get_side(' Carol Boal ( Dorothy Greenfield + Howard Greenfield ) + James Boal ( Velma Boal + Harold Boal )',1)\n",
      "Expecting:\n",
      "    'Carol Boal ( Dorothy Greenfield + Howard Greenfield )'\n",
      "ok\n"
     ]
    }
   ],
   "source": [
    "import doctest\n",
    "doctest.run_docstring_examples(get_side,globals(),verbose=True)"
   ]
  },
  {
   "cell_type": "code",
   "execution_count": 13,
   "metadata": {},
   "outputs": [],
   "source": [
    "def get_descendant(geneology, query):\n",
    "    \"\"\"\n",
    "    >>> get_descendant('Paul Boal ( Carol Boal + James Boal )', 'mother')\n",
    "    'Carol Boal'\n",
    "\n",
    "    >>> get_descendant('Paul Boal ( Carol Boal + James Boal )', 'father')\n",
    "    'James Boal'\n",
    "    \n",
    "    >>> history = 'Paul Boal ( Carol Boal ( Dorothy Greenfield + Howard Greenfield ) + James Boal ( Velma Boal + Harold Boal ))'\n",
    "    >>> get_descendant(history, \"mother's mother\")\n",
    "    'Dorothy Greenfield'\n",
    "    \n",
    "    >>> get_descendant(history, \"mother's father\")\n",
    "    'Howard Greenfield'\n",
    "    \n",
    "    >>> get_descendant(history, \"father's mother\")\n",
    "    'Velma Boal'\n",
    "    \n",
    "    >>> get_descendant(history, \"father's father\")\n",
    "    'Harold Boal'\n",
    "    \n",
    "    \"\"\"\n",
    "    \n",
    "    parents_pos = geneology.find('(')\n",
    "    parents = geneology[parents_pos+1:-1]\n",
    "    logging.debug(\"Parents are: {}\".format(parents))\n",
    "    \n",
    "    parent_split = parents.find('+')\n",
    "    mother = parents[:parent_split]\n",
    "    father = parents[parent_split + 1:]\n",
    "    \n",
    "    if query == 'mother':\n",
    "        return mother.strip()\n",
    "    elif query == 'father':\n",
    "        return father.strip()\n",
    "    else:\n",
    "        query_pos = query.find(' ')\n",
    "        first_query = query[:query_pos]\n",
    "        remaining_query = query[query_pos+1:]\n",
    "        logging.debug(\"Query is: {}\".format(first_query))\n",
    "        if first_query == \"mother's\":\n",
    "            parent = get_side(parents, 1)\n",
    "        elif first_query == \"father's\":\n",
    "            parent = get_side(parents, 2)\n",
    "        else:\n",
    "            logging.error(\"Got a request that doesn't make sense: {}\".format(first_query))\n",
    "        logging.debug(\"Getting '{}' from '{}'\".format(remaining_query, parent))\n",
    "        return get_descendant(parent, remaining_query)\n",
    "        \n",
    "    "
   ]
  },
  {
   "cell_type": "code",
   "execution_count": 14,
   "metadata": {},
   "outputs": [
    {
     "name": "stderr",
     "output_type": "stream",
     "text": [
      "11:31:49 DEBUG:Parents are:  Carol Boal ( Dorothy Greenfield + Howard Greenfield ) + James Boal ( Velma Boal + Harold Boal )\n",
      "11:31:49 DEBUG:Query is: mother's\n",
      "11:31:49 DEBUG:Getting side 1 from ' Carol Boal ( Dorothy Greenfield + Howard Greenfield ) + James Boal ( Velma Boal + Harold Boal )'\n",
      "11:31:49 DEBUG:Getting 'father' from 'Carol Boal ( Dorothy Greenfield + Howard Greenfield )'\n",
      "11:31:49 DEBUG:Parents are:  Dorothy Greenfield + Howard Greenfield \n"
     ]
    },
    {
     "data": {
      "text/plain": [
       "'Howard Greenfield'"
      ]
     },
     "execution_count": 14,
     "metadata": {},
     "output_type": "execute_result"
    }
   ],
   "source": [
    "import logging\n",
    "import imp\n",
    "imp.reload(logging)\n",
    "logging.basicConfig(format='%(asctime)s %(levelname)s:%(message)s', level=logging.DEBUG, datefmt='%I:%M:%S')\n",
    "history = 'Paul Boal ( Carol Boal ( Dorothy Greenfield + Howard Greenfield ) + James Boal ( Velma Boal + Harold Boal ))'\n",
    "get_descendant(history, \"mother's father\")"
   ]
  },
  {
   "cell_type": "code",
   "execution_count": 15,
   "metadata": {},
   "outputs": [
    {
     "name": "stderr",
     "output_type": "stream",
     "text": [
      "11:31:49 DEBUG:Parents are:  Carol Boal + James Boal \n",
      "11:31:49 DEBUG:Parents are:  Carol Boal + James Boal \n",
      "11:31:49 DEBUG:Parents are:  Carol Boal ( Dorothy Greenfield + Howard Greenfield ) + James Boal ( Velma Boal + Harold Boal )\n",
      "11:31:49 DEBUG:Query is: mother's\n",
      "11:31:49 DEBUG:Getting side 1 from ' Carol Boal ( Dorothy Greenfield + Howard Greenfield ) + James Boal ( Velma Boal + Harold Boal )'\n",
      "11:31:49 DEBUG:Getting 'mother' from 'Carol Boal ( Dorothy Greenfield + Howard Greenfield )'\n",
      "11:31:49 DEBUG:Parents are:  Dorothy Greenfield + Howard Greenfield \n",
      "11:31:49 DEBUG:Parents are:  Carol Boal ( Dorothy Greenfield + Howard Greenfield ) + James Boal ( Velma Boal + Harold Boal )\n",
      "11:31:49 DEBUG:Query is: mother's\n",
      "11:31:49 DEBUG:Getting side 1 from ' Carol Boal ( Dorothy Greenfield + Howard Greenfield ) + James Boal ( Velma Boal + Harold Boal )'\n",
      "11:31:49 DEBUG:Getting 'father' from 'Carol Boal ( Dorothy Greenfield + Howard Greenfield )'\n",
      "11:31:49 DEBUG:Parents are:  Dorothy Greenfield + Howard Greenfield \n",
      "11:31:49 DEBUG:Parents are:  Carol Boal ( Dorothy Greenfield + Howard Greenfield ) + James Boal ( Velma Boal + Harold Boal )\n",
      "11:31:49 DEBUG:Query is: father's\n",
      "11:31:49 DEBUG:Getting side 2 from ' Carol Boal ( Dorothy Greenfield + Howard Greenfield ) + James Boal ( Velma Boal + Harold Boal )'\n",
      "11:31:49 DEBUG:Getting 'mother' from 'James Boal ( Velma Boal + Harold Boal )'\n",
      "11:31:49 DEBUG:Parents are:  Velma Boal + Harold Boal \n",
      "11:31:49 DEBUG:Parents are:  Carol Boal ( Dorothy Greenfield + Howard Greenfield ) + James Boal ( Velma Boal + Harold Boal )\n",
      "11:31:49 DEBUG:Query is: father's\n",
      "11:31:49 DEBUG:Getting side 2 from ' Carol Boal ( Dorothy Greenfield + Howard Greenfield ) + James Boal ( Velma Boal + Harold Boal )'\n",
      "11:31:49 DEBUG:Getting 'father' from 'James Boal ( Velma Boal + Harold Boal )'\n",
      "11:31:49 DEBUG:Parents are:  Velma Boal + Harold Boal \n"
     ]
    },
    {
     "name": "stdout",
     "output_type": "stream",
     "text": [
      "Finding tests in NoName\n",
      "Trying:\n",
      "    get_descendant('Paul Boal ( Carol Boal + James Boal )', 'mother')\n",
      "Expecting:\n",
      "    'Carol Boal'\n",
      "ok\n",
      "Trying:\n",
      "    get_descendant('Paul Boal ( Carol Boal + James Boal )', 'father')\n",
      "Expecting:\n",
      "    'James Boal'\n",
      "ok\n",
      "Trying:\n",
      "    history = 'Paul Boal ( Carol Boal ( Dorothy Greenfield + Howard Greenfield ) + James Boal ( Velma Boal + Harold Boal ))'\n",
      "Expecting nothing\n",
      "ok\n",
      "Trying:\n",
      "    get_descendant(history, \"mother's mother\")\n",
      "Expecting:\n",
      "    'Dorothy Greenfield'\n",
      "ok\n",
      "Trying:\n",
      "    get_descendant(history, \"mother's father\")\n",
      "Expecting:\n",
      "    'Howard Greenfield'\n",
      "ok\n",
      "Trying:\n",
      "    get_descendant(history, \"father's mother\")\n",
      "Expecting:\n",
      "    'Velma Boal'\n",
      "ok\n",
      "Trying:\n",
      "    get_descendant(history, \"father's father\")\n",
      "Expecting:\n",
      "    'Harold Boal'\n",
      "ok\n"
     ]
    }
   ],
   "source": [
    "import doctest\n",
    "doctest.run_docstring_examples(get_descendant,globals(),verbose=True)"
   ]
  },
  {
   "cell_type": "markdown",
   "metadata": {},
   "source": [
    "\n",
    "## If you need any help remembing how to commit your work, look here:\n",
    "\n",
    "```\n",
    "%%bash\n",
    "cd ~/hds5210/\n",
    "git add week03-paulboal.ipynb\n",
    "git commit -a -m \"Adding homework for week 3\"\n",
    "git push\n",
    "```"
   ]
  },
  {
   "cell_type": "code",
   "execution_count": null,
   "metadata": {},
   "outputs": [],
   "source": []
  }
 ],
 "metadata": {
  "kernelspec": {
   "display_name": "Python 3",
   "language": "python",
   "name": "python3"
  },
  "language_info": {
   "codemirror_mode": {
    "name": "ipython",
    "version": 3
   },
   "file_extension": ".py",
   "mimetype": "text/x-python",
   "name": "python",
   "nbconvert_exporter": "python",
   "pygments_lexer": "ipython3",
   "version": "3.5.2"
  }
 },
 "nbformat": 4,
 "nbformat_minor": 1
}
