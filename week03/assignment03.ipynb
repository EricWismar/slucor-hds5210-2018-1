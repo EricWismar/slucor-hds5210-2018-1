{
 "cells": [
  {
   "cell_type": "markdown",
   "metadata": {},
   "source": [
    "_SLUCOR HDS5210 - Programming for Health Data Science - 2018 Spring_\n",
    "\n",
    "Week 3 (February 5) Exercises\n",
    "===\n",
    "\n",
    "Before starting, be sure that you have completed the GitHub setup from week 2 and have your hds5210 repository setup from the homework last assignments.  You'll continue to use the same Git project / repository to submit your assignments."
   ]
  },
  {
   "cell_type": "markdown",
   "metadata": {},
   "source": [
    "#1 - Creating Functions\n",
    "---\n",
    "\n",
    "Write a function called `navy_bmi` like the BMI one we did in class, that uses the US Navy calculator for BMI for men.  You can find the formula below.  Note that the **formula assumes all measurements are in cm**.\n",
    "\n",
    "![navy_bmi](navy_bmi_formula.png \"Navy BMI\")\n",
    "\n",
    "Your function will need to take in parameters for `waist_inches`, `neck_inches`, and `height_inches`, **all in inches**.  Test your function using the following values to make sure you get the right answer.\n",
    "\n",
    "```\n",
    "navy_bmi(36.5, 16, 72)\n",
    "\n",
    "19.499313827566784\n",
    "```\n",
    "\n",
    "You'll need to import that **math** module first to be able to use the **log** function.  You may also want to review the help documentation on **log** to make sure you use it correctly."
   ]
  },
  {
   "cell_type": "markdown",
   "metadata": {},
   "source": [
    "#2 - Understanding Functions\n",
    "---\n",
    "\n",
    "Try to reason through this set of instruction and determine what the output will be.  Check your understanding by running the code in Jupyter.  Then explain why the output is what it is.\n",
    "\n",
    "```\n",
    "temp = 103\n",
    "\n",
    "def calculate_target (temp):\n",
    "    temp -= 4\n",
    "    return temp\n",
    "\n",
    "calculate_target (temp)\n",
    "\n",
    "print(\"The current value of temp is \" + str(temp))\n",
    "```\n"
   ]
  },
  {
   "cell_type": "markdown",
   "metadata": {},
   "source": [
    "#3 - Parsing Dosage Amounts and Units\n",
    "---\n",
    "\n",
    "Create a function that will take as input an infusion dosage value and unit in the format `# volume/time` such as `45 mg/hr` or `0.2 L/hr`, and return just the numeric part of the dosage.  It should return the numeric part as a floating point decimal number so that calculations can easily be done with the number.\n",
    "\n",
    "Demonstrate that your function works correctly using each of these tests:\n",
    "```\n",
    "1.0 L/hr\n",
    "10 mg/hr\n",
    "0.75 g/day\n",
    "```"
   ]
  },
  {
   "cell_type": "markdown",
   "metadata": {},
   "source": [
    "#4 - Parsing and Rewriting a String\n",
    "---\n",
    "\n",
    "Create another function or collection of functions that will take a string in the format `drug # volumne/time` such as `Asprin 20 mg/hr`, and return a string in the format `In one hr, the patient will have received 20 mg of Asprin.  Doubling the dosage to 40 mg would be dangerous!`. Be sure that you reuse the other functions you've created in this assignment if possible.\n",
    "\n",
    "Demonstrate that your function works correctly using these tests:\n",
    "\n",
    "```\n",
    "Asprin 20 mg/hr\n",
    "Amoxicillin 300 mg/day\n",
    "```"
   ]
  },
  {
   "cell_type": "markdown",
   "metadata": {},
   "source": [
    "#5 - (Stretch Assignment)\n",
    "---\n",
    "\n",
    "If you complete the other assignments above easily, I offer you this additional assignment for extra credit.  If you do not finish #5 it will not count against your grade on this assignment.  If you do complete it correctly, you'll be entered into a prize drawing for for something right before the end of the final.\n",
    "\n",
    "Imagine a family tree with the following general structure:\n",
    "\n",
    "```person ( mother + father )```\n",
    "\n",
    "An example would use actual names for the various roles:\n",
    "\n",
    "```Paul Boal ( Carol Boal + James Boal )```\n",
    "\n",
    "The structure can also include information about the mother and father embedded within the text, too.\n",
    "\n",
    "```person ( mother (mother's moth + mother's father) + father (father's mother + father's father))```\n",
    "\n",
    "An example would be:\n",
    "\n",
    "```Paul Boal ( Carol Boal ( Dorothy Greenfield + Howard Greenfield ) + James Boal ( Velma Boal + Harold Boal ))```\n",
    "\n",
    "This kind of structure can be arbitrarily deep.  The spaces don't matter. The only important punctuation are the parentheses to enclose `( mother + father )` and the plus sign to separate `mother + father`.  Note that mother always comes first, followed by the plus sign, and then the father.\n",
    "\n",
    "Write a recursive function that can find an arbitrarily deep request using a phrase like `mother's mother` or `father's mother's mother` to identify the person to lookup.  Your function should take the family tree and the request as parameters, and should return the name of the person in that position.\n",
    "\n",
    "In our example above: `father's father` would return `Harold Boal`\n"
   ]
  },
  {
   "cell_type": "markdown",
   "metadata": {},
   "source": [
    "\n",
    "## If you need any help remembing how to commit your work, look here:\n",
    "\n",
    "```\n",
    "%%bash\n",
    "cd ~/hds5210/\n",
    "git add week03-paulboal.ipynb\n",
    "git commit -a -m \"Adding homework for week 3\"\n",
    "git push\n",
    "```"
   ]
  },
  {
   "cell_type": "code",
   "execution_count": null,
   "metadata": {},
   "outputs": [],
   "source": []
  }
 ],
 "metadata": {
  "kernelspec": {
   "display_name": "Python 3",
   "language": "python",
   "name": "python3"
  },
  "language_info": {
   "codemirror_mode": {
    "name": "ipython",
    "version": 3
   },
   "file_extension": ".py",
   "mimetype": "text/x-python",
   "name": "python",
   "nbconvert_exporter": "python",
   "pygments_lexer": "ipython3",
   "version": "3.5.2"
  }
 },
 "nbformat": 4,
 "nbformat_minor": 1
}
