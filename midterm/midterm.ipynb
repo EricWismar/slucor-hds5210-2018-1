{
 "cells": [
  {
   "cell_type": "markdown",
   "metadata": {},
   "source": [
    "_HDS5210 Programming for Data Scientists_\n",
    "\n",
    "# MidTerm Exam\n",
    "\n",
    "You will have from 2018-03-03 through 2018-03-19 to work on this mid-term.  You're welcome to use your text, all previous class materials and notes, the Internet, and the Python documentation to help you. However, do your own work.\n",
    "\n",
    "Please try to be clear in writing your code.  "
   ]
  },
  {
   "cell_type": "markdown",
   "metadata": {},
   "source": [
    "The midterm exam is one extended problem with three parts that come together in the end.  Write solutions to each of the three parts using three separate modules as described in each part.  Show that the included tests work for each of those parts.  Then provide a solutions to the final question."
   ]
  },
  {
   "cell_type": "markdown",
   "metadata": {},
   "source": [
    "Part 1 - MAGGIC Heart Failure Risk\n",
    "---\n",
    "\n",
    "One formulat for computing the risk of heart failure is called MAGGIC. It won't magically prevent heart failure, but knowing the level of risk a person has can help them be more aware of the warning signs and get treatment quickly.  \n",
    "\n",
    "You can read more about this calculator here: https://www.mdcalc.com/maggic-risk-calculator-heart-failure#evidence, and if you click on the button that says `evidence` you'll find the scoring methodology - which ranges of values earn how many points in the scoring calculation. \n",
    "\n",
    "Create a module called `maggic` that has a single function inside of it called `score` that takes the following parameters:\n",
    "* `risk_factors` - a list of strings that includes any of those things listed under that section of the facts and figures (have your code ignore uppercase/lowercase)\n",
    "* `ejection_fraction` - an integer value\n",
    "* `nyha_class` - an integer between 1 and 4\n",
    "* `creatinine` - an integer value\n",
    "* `bmi` - an integer value\n",
    "* `systolic_bp` - an integer value\n",
    "* `age` - an integer value\n",
    "\n",
    "Take special not of the logic required for adding *extra* points based on `systolic_bp` and `age` when the `ejection_fraction` is in particular ranges.\n",
    "\n",
    "Your `score` function should return an integer value representing the total score.\n",
    "\n",
    "**NOTE** In structuring your module, **you must** use separate functions inside your module for each of the component scores rather than having one huge `score` function that does all of the calculations.  If you keep all of those calculations inside a single function you will lose points."
   ]
  },
  {
   "cell_type": "code",
   "execution_count": 1,
   "metadata": {},
   "outputs": [
    {
     "data": {
      "text/plain": [
       "11"
      ]
     },
     "execution_count": 1,
     "metadata": {},
     "output_type": "execute_result"
    }
   ],
   "source": [
    "# Run this test and others that you write on your own to ensure that\n",
    "# your MAGGIC score calculator is working correctly.\n",
    "\n",
    "import maggic\n",
    "\n",
    "maggic.score(\n",
    "    risk_factors = ['male', 'COPD'],\n",
    "    ejection_fraction = 42,\n",
    "    nyha_class = 2,\n",
    "    creatinine = 112,\n",
    "    bmi = 22,\n",
    "    systolic_bp = 123,\n",
    "    age = 45)"
   ]
  },
  {
   "cell_type": "code",
   "execution_count": 2,
   "metadata": {},
   "outputs": [
    {
     "name": "stdout",
     "output_type": "stream",
     "text": [
      "3\n",
      "0\n",
      "2\n",
      "2\n",
      "3\n",
      "1\n",
      "0\n"
     ]
    }
   ],
   "source": [
    "import maggic\n",
    "print(maggic.risk_factor_points(['male', 'COPD']))\n",
    "print(maggic.ejection_fraction_points(42))\n",
    "print(maggic.creatinine_points(112))\n",
    "print(maggic.nyha_class_points(2))\n",
    "print(maggic.bmi_points(22))\n",
    "print(maggic.systolic_bp_points(42, 123))\n",
    "print(maggic.age_points(42, 45))"
   ]
  },
  {
   "cell_type": "markdown",
   "metadata": {},
   "source": [
    "Part 2 - Risk Multipliers\n",
    "---\n",
    "\n",
    "The region of the country and type of community that you live in can also play a major factor in the risk of various medical conditions.  For this step, createa a module named `multipliers` that has a single functional called `region`.  The region function should take a single parameter called `description` that is freeform text.  You might see values such as:\n",
    "\n",
    "* 'large city in the Northwest United States'\n",
    "* 'rural Midwest America'\n",
    "* 'small town in the Western USA'\n",
    "\n",
    "Computing the risk multiplier based on that description follows these rules in this order:\n",
    "\n",
    "* Begin with a regional risk multiplier of `1.0`\n",
    "* If the description contains 'America', 'USA', or 'United States' add `0.05` to the regional risk multiplier\n",
    "* If the description contains 'Midwest' add `0.05` to the regional risk multiplier\n",
    "* If the description contains 'Northwest' or 'Northeast' subtract `0.05` from the regional risk multiplier\n",
    "* If the description contains 'small' or 'rural' multiply the regional risk multiplier by `1.1`"
   ]
  },
  {
   "cell_type": "code",
   "execution_count": 3,
   "metadata": {},
   "outputs": [
    {
     "data": {
      "text/plain": [
       "1.0"
      ]
     },
     "execution_count": 3,
     "metadata": {},
     "output_type": "execute_result"
    }
   ],
   "source": [
    "import multipliers\n",
    "\n",
    "multipliers.region('large city in the northwest United States')"
   ]
  },
  {
   "cell_type": "code",
   "execution_count": 4,
   "metadata": {},
   "outputs": [
    {
     "data": {
      "text/plain": [
       "1.2100000000000002"
      ]
     },
     "execution_count": 4,
     "metadata": {},
     "output_type": "execute_result"
    }
   ],
   "source": [
    "multipliers.region('rural Midwest America')"
   ]
  },
  {
   "cell_type": "code",
   "execution_count": 5,
   "metadata": {},
   "outputs": [
    {
     "data": {
      "text/plain": [
       "1.1550000000000002"
      ]
     },
     "execution_count": 5,
     "metadata": {},
     "output_type": "execute_result"
    }
   ],
   "source": [
    "multipliers.region('small town in the western USA')"
   ]
  },
  {
   "cell_type": "markdown",
   "metadata": {},
   "source": [
    "Part 3 - Person class\n",
    "---\n",
    "\n",
    "We're going to bundle together the concept of a Person in a new module called `person` with a class called `Person`.  This Person class will have the following methods.\n",
    "\n",
    "* A constructor (`__init__`)  that only takes a single parameter, `name`, because people only have to have a name.\n",
    "* Then it will need a **setter** function for each of the following variables or sets of variables:\n",
    " * `set_height_weight(height_cm, weight_kg)` - this method should store those parameters as attributes `self.height_cm` and `self.weight_kg` and also computer and store `self.bmi` using the first formula we learned.\n",
    " * `set_ejection_fraction(ejection_fraction)`\n",
    " * `set_nhya_class(nyha_class)`\n",
    " * `set_creatinine(creatinine)`\n",
    " * `set_bp(diastolic, systolic)`\n",
    " * `set_age(age)`\n",
    " * `set_region(description)`\n",
    "* `add_risk_factor(risk_factor)` - this method should add the provided risk factor to a list attribute `self.risk_factors`"
   ]
  },
  {
   "cell_type": "code",
   "execution_count": 6,
   "metadata": {},
   "outputs": [],
   "source": [
    "from person import Person\n",
    "\n",
    "guy = Person('Guy Parsons')"
   ]
  },
  {
   "cell_type": "code",
   "execution_count": 7,
   "metadata": {},
   "outputs": [
    {
     "data": {
      "text/plain": [
       "27.77442337881898"
      ]
     },
     "execution_count": 7,
     "metadata": {},
     "output_type": "execute_result"
    }
   ],
   "source": [
    "guy.set_height_weight(182, 92)\n",
    "guy.bmi"
   ]
  },
  {
   "cell_type": "code",
   "execution_count": 8,
   "metadata": {},
   "outputs": [],
   "source": [
    "guy.set_ejection_fraction(42)\n",
    "guy.set_nyha_class(2)\n",
    "guy.set_creatinine(112)\n",
    "guy.set_bp(82, 123)\n",
    "guy.set_age(45)\n",
    "guy.add_risk_factor('male')\n",
    "guy.add_risk_factor('copd')\n",
    "guy.set_region('small town midwest USA')"
   ]
  },
  {
   "cell_type": "markdown",
   "metadata": {},
   "source": [
    "Part 4 - Risk Calculator\n",
    "---\n",
    "\n"
   ]
  },
  {
   "cell_type": "markdown",
   "metadata": {},
   "source": [
    "Now we want our person class to be able to calculate the total risk based on all of the information about that person.  You can import modules inside of other modules.  So, import the `maggic` and `multipliers` modules into your `person` module, and add a new method to your `Person` class:\n",
    "\n",
    "* `risk()` - this should compute the final risk score for this person by computing the the MAGGIC score * regional risk multiplier"
   ]
  },
  {
   "cell_type": "code",
   "execution_count": 9,
   "metadata": {},
   "outputs": [
    {
     "data": {
      "text/plain": [
       "12.100000000000001"
      ]
     },
     "execution_count": 9,
     "metadata": {},
     "output_type": "execute_result"
    }
   ],
   "source": [
    "guy.risk()"
   ]
  },
  {
   "cell_type": "code",
   "execution_count": null,
   "metadata": {},
   "outputs": [],
   "source": []
  }
 ],
 "metadata": {
  "kernelspec": {
   "display_name": "Python 3",
   "language": "python",
   "name": "python3"
  },
  "language_info": {
   "codemirror_mode": {
    "name": "ipython",
    "version": 3
   },
   "file_extension": ".py",
   "mimetype": "text/x-python",
   "name": "python",
   "nbconvert_exporter": "python",
   "pygments_lexer": "ipython3",
   "version": "3.5.2"
  }
 },
 "nbformat": 4,
 "nbformat_minor": 2
}
