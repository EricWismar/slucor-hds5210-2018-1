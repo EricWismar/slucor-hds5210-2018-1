{
 "cells": [
  {
   "cell_type": "markdown",
   "metadata": {},
   "source": [
    "_HDS5210 - Python for Health Data Science_\n",
    "\n",
    "# Week 6 (Feb 26) Assignment\n",
    "\n",
    "This week, we're working on doing things with lists of values and looping over lists of items."
   ]
  },
  {
   "cell_type": "markdown",
   "metadata": {},
   "source": [
    "## 1 - Creating  a list from a string\n",
    "\n",
    "Take the single string exactly like this \"Amoxicillin, Digoxin, Metoprolol Tartrate, Motrin\" and create an array that has one item each, with the names in all lowercase and with no extra spaces at the beginning or end."
   ]
  },
  {
   "cell_type": "code",
   "execution_count": null,
   "metadata": {},
   "outputs": [],
   "source": [
    "drugs = \"Amoxicillin, Digoxin, Metoprolol Tartrate, Motrin\""
   ]
  },
  {
   "cell_type": "markdown",
   "metadata": {},
   "source": [
    "Desired output:\n",
    "```\n",
    "['amoxicillin', 'digoxin', 'metroprolol tartrate', 'motrin']\n",
    "```"
   ]
  },
  {
   "cell_type": "code",
   "execution_count": null,
   "metadata": {},
   "outputs": [],
   "source": [
    "drugs_list = drugs.lower().split(', ') \n",
    "drugs_list"
   ]
  },
  {
   "cell_type": "code",
   "execution_count": null,
   "metadata": {},
   "outputs": [],
   "source": [
    "help(str.split)"
   ]
  },
  {
   "cell_type": "code",
   "execution_count": null,
   "metadata": {},
   "outputs": [],
   "source": [
    "drug_list = drugs.split(', ')\n",
    "drug_list"
   ]
  },
  {
   "cell_type": "code",
   "execution_count": null,
   "metadata": {},
   "outputs": [],
   "source": [
    "for i in range(len(drug_list)):\n",
    "    drug_list[i] = drug_list[i].lower()\n",
    "    \n",
    "drug_list"
   ]
  },
  {
   "cell_type": "markdown",
   "metadata": {},
   "source": [
    "---\n",
    "\n",
    "---"
   ]
  },
  {
   "cell_type": "markdown",
   "metadata": {},
   "source": [
    "## 2 - Filtering a list\n",
    "\n",
    "The appropriate limit for Digoxin is 12 mcg/kg.  Starting with the list of dosages below, loop through and create a new list that contains on the dosages that are within the allowed amounts for a patient who weighs 50 kg."
   ]
  },
  {
   "cell_type": "code",
   "execution_count": null,
   "metadata": {},
   "outputs": [],
   "source": [
    "allow = []\n",
    "available = [['Digoxin',170,'mcg'],\n",
    "             ['Digoxin',280,'mcg'],\n",
    "             ['Digoxin',500,'mcg'],\n",
    "             ['Digoxin',680,'mcg'],\n",
    "             ['Digoxin',1000,'mcg']]"
   ]
  },
  {
   "cell_type": "markdown",
   "metadata": {},
   "source": [
    "Desired output for the value of `allow`\n",
    "\n",
    "```\n",
    "[['Digoxin', 170, 'mcg'], ['Digoxin', 280, 'mcg'], ['Digoxin', 500, 'mcg']]\n",
    "```"
   ]
  },
  {
   "cell_type": "code",
   "execution_count": null,
   "metadata": {},
   "outputs": [],
   "source": [
    "patient_weight = 50\n",
    "patient_max = patient_weight * 12"
   ]
  },
  {
   "cell_type": "code",
   "execution_count": null,
   "metadata": {},
   "outputs": [],
   "source": [
    "allow = []\n",
    "for item in available:\n",
    "    print(\"Item[1]: \" + str(item[1])) \n",
    "    dosage = item[1] \n",
    "    if dosage <= patient_max:\n",
    "        allow.append(item) \n",
    "        "
   ]
  },
  {
   "cell_type": "code",
   "execution_count": null,
   "metadata": {},
   "outputs": [],
   "source": [
    "allow"
   ]
  },
  {
   "cell_type": "markdown",
   "metadata": {},
   "source": [
    "---\n",
    "\n",
    "---"
   ]
  },
  {
   "cell_type": "markdown",
   "metadata": {},
   "source": [
    "## 3 - While \n",
    "\n",
    "Starting with this list `['amoxicillin','dignoxin','metroprolol tartrate','motrin']`, create a comma separated list that contains as many values as possible without being longer that 20 total characters in length.\n"
   ]
  },
  {
   "cell_type": "code",
   "execution_count": null,
   "metadata": {},
   "outputs": [],
   "source": [
    "druglist = ['amoxicillin','dignoxin','metroprolol tartrate','motrin']"
   ]
  },
  {
   "cell_type": "code",
   "execution_count": null,
   "metadata": {},
   "outputs": [],
   "source": [
    "drug_list = ['amoxicillin','dignoxin','metroprolol tartrate','motrin']\n",
    "string_20 = \"\"\n",
    "\n",
    "for x in drug_list:\n",
    "   # For the first item to be inserted into string_20, do not preceed it with a comma.\n",
    "   if string_20 == \"\" and len(x) <= 20:\n",
    "       string_20 = x\n",
    "   # Check to see if adding a comma and the current element of drug_list will\n",
    "   # exceed 20 chars.  \n",
    "   elif len(string_20) + len(x) + 1 <= 20:\n",
    "       string_20 = string_20 + \",\" + x\n",
    "   # Break out of the for loop when adding another element would exceed the length limit.\n",
    "   else:\n",
    "       break\n",
    "   \n",
    "print(string_20)"
   ]
  },
  {
   "cell_type": "markdown",
   "metadata": {},
   "source": [
    "Desired output:\n",
    "\n",
    "```\n",
    "'amoxicillin,dignoxin'\n",
    "```\n"
   ]
  },
  {
   "cell_type": "code",
   "execution_count": null,
   "metadata": {},
   "outputs": [],
   "source": [
    "#druglist = ['amoxicillin','dignoxin','metroprolol tartrate','motrin']\n",
    "druglist = []\n",
    "string_20 = \"\"\n",
    "idx = 0\n",
    "\n",
    "while (idx < len(druglist)) and ((len(string_20) + len(druglist[idx]) + 1) <= 20):\n",
    "    if string_20 == \"\":\n",
    "        string_20 = druglist[idx]\n",
    "    else:\n",
    "        string_20 = string_20 + \",\" + druglist[idx]\n",
    "    \n",
    "    idx += 1\n",
    "\n",
    "    \n",
    "string_20\n"
   ]
  },
  {
   "cell_type": "markdown",
   "metadata": {},
   "source": [
    "---\n",
    "\n",
    "---"
   ]
  },
  {
   "cell_type": "markdown",
   "metadata": {},
   "source": [
    "## 4 - Finding the right match\n",
    "\n",
    "Given the list of patients and their weights below, the list of available dosages, and the same limit of 12 mcg/kg, create a list of patients and the dosage they should receive."
   ]
  },
  {
   "cell_type": "code",
   "execution_count": 5,
   "metadata": {},
   "outputs": [],
   "source": [
    "patients = [['Paul',80],['Eric',55],['Teddy',5]]"
   ]
  },
  {
   "cell_type": "markdown",
   "metadata": {},
   "source": [
    "Desired output:\n",
    "```\n",
    "[[['Paul',80],['Digoxin',680,'mcg']],\n",
    " [['Eric',55],['Digoxin',500,'mcg']],\n",
    " [['Ada',22],['Digoxin',170,'mcg']]]\n",
    "```"
   ]
  },
  {
   "cell_type": "code",
   "execution_count": 10,
   "metadata": {},
   "outputs": [
    {
     "name": "stdout",
     "output_type": "stream",
     "text": [
      "For Paul : Is 170 <= 960, yes, I'll keep it.\n",
      "For Paul : Is 280 <= 960, yes, I'll keep it.\n",
      "For Paul : Is 500 <= 960, yes, I'll keep it.\n",
      "For Paul : Is 680 <= 960, yes, I'll keep it.\n",
      "For Paul : Is 1000 <= 960, no, I'll skip it.\n",
      "For Eric : Is 170 <= 660, yes, I'll keep it.\n",
      "For Eric : Is 280 <= 660, yes, I'll keep it.\n",
      "For Eric : Is 500 <= 660, yes, I'll keep it.\n",
      "For Eric : Is 680 <= 660, no, I'll skip it.\n",
      "For Eric : Is 1000 <= 660, no, I'll skip it.\n",
      "For Teddy : Is 170 <= 60, no, I'll skip it.\n",
      "For Teddy : Is 280 <= 60, no, I'll skip it.\n",
      "For Teddy : Is 500 <= 60, no, I'll skip it.\n",
      "For Teddy : Is 680 <= 60, no, I'll skip it.\n",
      "For Teddy : Is 1000 <= 60, no, I'll skip it.\n"
     ]
    },
    {
     "data": {
      "text/plain": [
       "[[['Paul', 80], ['Digoxin', 680, 'mcg']],\n",
       " [['Eric', 55], ['Digoxin', 500, 'mcg']],\n",
       " [['Teddy', 5], ['Not Available', -1, 'n/a']]]"
      ]
     },
     "execution_count": 10,
     "metadata": {},
     "output_type": "execute_result"
    }
   ],
   "source": [
    "available = [\n",
    "             ['Digoxin',500,'mcg'],\n",
    "             ['Digoxin',680,'mcg'],\n",
    "             ['Digoxin',280,'mcg'],\n",
    "             ['Digoxin',170,'mcg'],\n",
    "             ['Digoxin',1000,'mcg']]\n",
    "available.sort()\n",
    "patient_matches = []\n",
    "\n",
    "for p in patients:\n",
    "    max_dosage = p[1] * 12    \n",
    "    max_available = ['Not Available',-1,'n/a']\n",
    "    \n",
    "    for d in available:\n",
    "        if d[1] <= max_dosage:\n",
    "            print(\"For {} : Is {} <= {}, yes, I'll keep it.\".format(p[0], d[1], max_dosage))\n",
    "            max_available = d\n",
    "        else:\n",
    "            print(\"For {} : Is {} <= {}, no, I'll skip it.\".format(p[0], d[1], max_dosage))\n",
    "            \n",
    "    \n",
    "    patient_matches.append([p, max_available])\n",
    "\n",
    "patient_matches"
   ]
  },
  {
   "cell_type": "code",
   "execution_count": null,
   "metadata": {},
   "outputs": [],
   "source": [
    "available = [\n",
    "             ['Digoxin',500,'mcg'],\n",
    "             ['Digoxin',680,'mcg'],\n",
    "             ['Digoxin',280,'mcg'],\n",
    "             ['Digoxin',170,'mcg'],\n",
    "             ['Digoxin',1000,'mcg']]"
   ]
  },
  {
   "cell_type": "code",
   "execution_count": null,
   "metadata": {},
   "outputs": [],
   "source": [
    "available.sort()\n",
    "available"
   ]
  },
  {
   "cell_type": "code",
   "execution_count": null,
   "metadata": {},
   "outputs": [],
   "source": [
    "help(list.sort)"
   ]
  },
  {
   "cell_type": "code",
   "execution_count": null,
   "metadata": {},
   "outputs": [],
   "source": [
    "available = [\n",
    "             ['Digoxin',500,'mcg'],\n",
    "             ['Digoxin',680,'mcg'],\n",
    "             ['Digoxin',280,'mcg'],\n",
    "             ['Digoxin',170,'mcg'],\n",
    "             [90,1000,'mcg']]\n",
    "\n",
    "def comparer(item):\n",
    "    print(item)\n",
    "    return item[1]\n",
    "\n",
    "available.sort(key=comparer)\n",
    "available"
   ]
  },
  {
   "cell_type": "code",
   "execution_count": null,
   "metadata": {},
   "outputs": [],
   "source": []
  },
  {
   "cell_type": "code",
   "execution_count": 16,
   "metadata": {},
   "outputs": [
    {
     "name": "stdout",
     "output_type": "stream",
     "text": [
      "Current is a <class 'list'> with value ['Digoxin', 500, 'mcg']\n",
      "Current is a <class 'list'> with value ['Digoxin', 680, 'mcg']\n",
      "Current is a <class 'str'> with value I'm a string\n",
      "Current is a <class 'list'> with value ['Digoxin', 170, 'mcg']\n",
      "Current is a <class 'int'> with value 100\n"
     ]
    }
   ],
   "source": [
    "available = [\n",
    "             ['Digoxin',500,'mcg'],\n",
    "             ['Digoxin',680,'mcg'],\n",
    "             \"I'm a string\",\n",
    "             ['Digoxin',170,'mcg'],\n",
    "             100]\n",
    "\n",
    "for current in available:\n",
    "    \n",
    "    print(\"Current is a {} with value {}\".format(type(current), str(current)))"
   ]
  },
  {
   "cell_type": "code",
   "execution_count": null,
   "metadata": {},
   "outputs": [],
   "source": []
  }
 ],
 "metadata": {
  "kernelspec": {
   "display_name": "Python 3",
   "language": "python",
   "name": "python3"
  },
  "language_info": {
   "codemirror_mode": {
    "name": "ipython",
    "version": 3
   },
   "file_extension": ".py",
   "mimetype": "text/x-python",
   "name": "python",
   "nbconvert_exporter": "python",
   "pygments_lexer": "ipython3",
   "version": "3.5.2"
  }
 },
 "nbformat": 4,
 "nbformat_minor": 1
}
