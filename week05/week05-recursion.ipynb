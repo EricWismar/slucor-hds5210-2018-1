{
 "cells": [
  {
   "cell_type": "markdown",
   "metadata": {},
   "source": [
    "Recursion\n",
    "---\n",
    "\n",
    "Recursion is all about solving a problem by reducing it to smaller versions of itself until you reach some terminal condition where the problem can't be reduced further.\n",
    "\n",
    "Good examples include mathematic factorial and string reversal."
   ]
  },
  {
   "cell_type": "code",
   "execution_count": 1,
   "metadata": {},
   "outputs": [],
   "source": [
    "# Write a recursive function to calculate factorial.\n",
    "def fact(n):\n",
    "    return 1 if n <= 1 else n * fact(n-1)"
   ]
  },
  {
   "cell_type": "markdown",
   "metadata": {},
   "source": [
    "fact(x) = x * fact(x-1)\n",
    "if x == 1 then 1"
   ]
  },
  {
   "cell_type": "code",
   "execution_count": 3,
   "metadata": {},
   "outputs": [
    {
     "data": {
      "text/plain": [
       "6"
      ]
     },
     "execution_count": 3,
     "metadata": {},
     "output_type": "execute_result"
    }
   ],
   "source": [
    "3 * 2 * 1"
   ]
  },
  {
   "cell_type": "code",
   "execution_count": 5,
   "metadata": {},
   "outputs": [],
   "source": [
    "# Write a recursive function to reverse a string.\n",
    "def reverse(s):\n",
    "    return '' if s == '' else s[-1] + reverse(s[:-1])"
   ]
  },
  {
   "cell_type": "markdown",
   "metadata": {},
   "source": [
    "'hello' -> 'olleh'"
   ]
  },
  {
   "cell_type": "code",
   "execution_count": 6,
   "metadata": {},
   "outputs": [
    {
     "data": {
      "text/plain": [
       "'olleh'"
      ]
     },
     "execution_count": 6,
     "metadata": {},
     "output_type": "execute_result"
    }
   ],
   "source": [
    "reverse('hello')"
   ]
  },
  {
   "cell_type": "code",
   "execution_count": 11,
   "metadata": {},
   "outputs": [],
   "source": [
    "# Write a recursive function to reverse a string.\n",
    "def reverse(s):\n",
    "    if s == '':\n",
    "        print('s is blank')\n",
    "        return ''\n",
    "    else:\n",
    "        print('s[-1] = ' + s[-1] + ' and s[:-1] = ' + s[:-1])\n",
    "        return s[-1] + reverse(s[:-1])\n"
   ]
  },
  {
   "cell_type": "code",
   "execution_count": 12,
   "metadata": {},
   "outputs": [
    {
     "name": "stdout",
     "output_type": "stream",
     "text": [
      "s[-1] = o and s[:-1] = hell\n",
      "s[-1] = l and s[:-1] = hel\n",
      "s[-1] = l and s[:-1] = he\n",
      "s[-1] = e and s[:-1] = h\n",
      "s[-1] = h and s[:-1] = \n",
      "s is blank\n"
     ]
    },
    {
     "data": {
      "text/plain": [
       "'olleh'"
      ]
     },
     "execution_count": 12,
     "metadata": {},
     "output_type": "execute_result"
    }
   ],
   "source": [
    "reverse('hello')"
   ]
  },
  {
   "cell_type": "code",
   "execution_count": null,
   "metadata": {},
   "outputs": [],
   "source": []
  }
 ],
 "metadata": {
  "kernelspec": {
   "display_name": "Python 3",
   "language": "python",
   "name": "python3"
  },
  "language_info": {
   "codemirror_mode": {
    "name": "ipython",
    "version": 3
   },
   "file_extension": ".py",
   "mimetype": "text/x-python",
   "name": "python",
   "nbconvert_exporter": "python",
   "pygments_lexer": "ipython3",
   "version": "3.5.2"
  }
 },
 "nbformat": 4,
 "nbformat_minor": 2
}
