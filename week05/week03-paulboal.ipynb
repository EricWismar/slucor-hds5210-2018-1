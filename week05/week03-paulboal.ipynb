{
 "cells": [
  {
   "cell_type": "markdown",
   "metadata": {},
   "source": [
    "#5 - (Stretch Assignment)\n",
    "---\n",
    "\n",
    "If you complete the other assignments above easily, I offer you this additional assignment for extra credit.  If you do not finish #5 it will not count against your grade on this assignment.  If you do complete it correctly, you'll be entered into a prize drawing for for something right before the end of the final.\n",
    "\n",
    "Imagine a family tree with the following general structure:\n",
    "\n",
    "```person ( mother + father )```\n",
    "\n",
    "An example would use actual names for the various roles:\n",
    "\n",
    "```Paul Boal ( Carol Boal + James Boal )```\n",
    "\n",
    "The structure can also include information about the mother and father embedded within the text, too.\n",
    "\n",
    "```person ( mother (mother's mother + mother's father) + father (father's mother + father's father))```\n",
    "\n",
    "An example would be:\n",
    "\n",
    "```Paul Boal ( Carol Boal ( Dorothy Greenfield + Howard Greenfield ) + James Boal ( Velma Boal + Harold Boal ))```\n",
    "\n",
    "This kind of structure can be arbitrarily deep.  The spaces don't matter. The only important punctuation are the parentheses to enclose `( mother + father )` and the plus sign to separate `mother + father`.  Note that mother always comes first, followed by the plus sign, and then the father.\n",
    "\n",
    "Write a recursive function that can find an arbitrarily deep request using a phrase like `mother's mother` or `father's mother's mother` to identify the person to lookup.  Your function should take the family tree and the request as parameters, and should return the name of the person in that position.\n",
    "\n",
    "In our example above: `father's father` would return `Harold Boal`\n"
   ]
  },
  {
   "cell_type": "markdown",
   "metadata": {},
   "source": [
    "Solution Description\n",
    "---\n",
    "\n",
    "We're going to use a recursive function to do this."
   ]
  },
  {
   "cell_type": "code",
   "execution_count": 1,
   "metadata": {},
   "outputs": [],
   "source": [
    "import logging\n",
    "\n",
    "def get_side(whole, part):\n",
    "    \"\"\" (str, int) -> str\n",
    "    >>> get_side('a + b',1)\n",
    "    'a'\n",
    "    \n",
    "    >>> get_side('a + b',2)\n",
    "    'b'\n",
    "    \n",
    "    >>> get_side('( a + b ) + ( c + d )',1)\n",
    "    '( a + b )'\n",
    "\n",
    "    >>> get_side('junk ( a + b ) + ( c + d )',1)\n",
    "    'junk ( a + b )'\n",
    "    \n",
    "    >>> get_side(' Carol Boal ( Dorothy Greenfield + Howard Greenfield ) + James Boal ( Velma Boal + Harold Boal )',1)\n",
    "    'Carol Boal ( Dorothy Greenfield + Howard Greenfield )'\n",
    "    \"\"\"\n",
    "    \n",
    "    logging.debug(\"Getting side {} from '{}'\".format(part,whole))\n",
    "    \n",
    "    # The way this function works is by scanning through the whole string\n",
    "    # one character at a time.  If we see a left-parenthesis '(' we'll\n",
    "    # increment our counter 'depth'.  If we see a right-parenthesis ')' then\n",
    "    # we'll decrement our counter 'depth'.\n",
    "    #\n",
    "    # If we are a depth of 0, meaning that there aren't any unmatched\n",
    "    # parentheses, and we see a '+' sign, we'll record that as the position\n",
    "    # that we want to split on.\n",
    "    #\n",
    "    # This implementation splits on the last '+' sign found while\n",
    "    # the depth is 0.\n",
    "    \n",
    "    depth = 0\n",
    "    pos = -1\n",
    "    for i in range(0,len(whole)):\n",
    "        if whole[i] == '(':\n",
    "            depth += 1\n",
    "        if whole[i] == ')':\n",
    "            depth -= 1\n",
    "        if depth == 0 and whole[i] == '+':\n",
    "            pos = i\n",
    "\n",
    "    # 1 = return left part\n",
    "    # 2 = return right part\n",
    "    if part == 1:\n",
    "        return whole[:pos].strip()\n",
    "    else:\n",
    "        return whole[pos+1:].strip()"
   ]
  },
  {
   "cell_type": "code",
   "execution_count": 2,
   "metadata": {},
   "outputs": [
    {
     "name": "stdout",
     "output_type": "stream",
     "text": [
      "Finding tests in NoName\n",
      "Trying:\n",
      "    get_side('a + b',1)\n",
      "Expecting:\n",
      "    'a'\n",
      "ok\n",
      "Trying:\n",
      "    get_side('a + b',2)\n",
      "Expecting:\n",
      "    'b'\n",
      "ok\n",
      "Trying:\n",
      "    get_side('( a + b ) + ( c + d )',1)\n",
      "Expecting:\n",
      "    '( a + b )'\n",
      "ok\n",
      "Trying:\n",
      "    get_side('junk ( a + b ) + ( c + d )',1)\n",
      "Expecting:\n",
      "    'junk ( a + b )'\n",
      "ok\n",
      "Trying:\n",
      "    get_side(' Carol Boal ( Dorothy Greenfield + Howard Greenfield ) + James Boal ( Velma Boal + Harold Boal )',1)\n",
      "Expecting:\n",
      "    'Carol Boal ( Dorothy Greenfield + Howard Greenfield )'\n",
      "ok\n"
     ]
    }
   ],
   "source": [
    "import doctest\n",
    "doctest.run_docstring_examples(get_side,globals(),verbose=True)"
   ]
  },
  {
   "cell_type": "code",
   "execution_count": 3,
   "metadata": {},
   "outputs": [],
   "source": [
    "def get_descendant(geneology, query):\n",
    "    \"\"\"\n",
    "    >>> get_descendant('Paul Boal ( Carol Boal + James Boal )', 'mother')\n",
    "    'Carol Boal'\n",
    "\n",
    "    >>> get_descendant('Paul Boal ( Carol Boal + James Boal )', 'father')\n",
    "    'James Boal'\n",
    "    \n",
    "    >>> history = 'Paul Boal ( Carol Boal ( Dorothy Greenfield + Howard Greenfield ) + James Boal ( Velma Boal + Harold Boal ))'\n",
    "    >>> get_descendant(history, \"mother's mother\")\n",
    "    'Dorothy Greenfield'\n",
    "    \n",
    "    >>> get_descendant(history, \"mother's father\")\n",
    "    'Howard Greenfield'\n",
    "    \n",
    "    >>> get_descendant(history, \"father's mother\")\n",
    "    'Velma Boal'\n",
    "    \n",
    "    >>> get_descendant(history, \"father's father\")\n",
    "    'Harold Boal'\n",
    "    \n",
    "    \"\"\"\n",
    "    \n",
    "    parents_pos = geneology.find('(')\n",
    "    parents = geneology[parents_pos+1:-1]\n",
    "    logging.debug(\"Parents are: {}\".format(parents))\n",
    "    \n",
    "    # If we're asking for mother or father, we can just return that directly.\n",
    "    if query == 'mother':\n",
    "        return get_side(parents,1)\n",
    "    elif query == 'father':\n",
    "        return get_side(parents,2)\n",
    "    else:\n",
    "        # If we're asking for a deeper level of parent, then we'll figure out\n",
    "        # whose parent's anscestor we're looking for and recursively \n",
    "        # search for that anscestor of that parent's history.\n",
    "        query_pos = query.find(' ')\n",
    "        first_query = query[:query_pos]\n",
    "        remaining_query = query[query_pos+1:]\n",
    "        logging.debug(\"Query is: {}\".format(first_query))\n",
    "        if first_query == \"mother's\":\n",
    "            parent = get_side(parents, 1)\n",
    "        elif first_query == \"father's\":\n",
    "            parent = get_side(parents, 2)\n",
    "        else:\n",
    "            logging.error(\"Got a request that doesn't make sense: {}\".format(first_query))\n",
    "        logging.debug(\"Getting '{}' from '{}'\".format(remaining_query, parent))\n",
    "        \n",
    "        return get_descendant(parent, remaining_query)\n",
    "        \n",
    "    "
   ]
  },
  {
   "cell_type": "code",
   "execution_count": 4,
   "metadata": {},
   "outputs": [
    {
     "name": "stderr",
     "output_type": "stream",
     "text": [
      "09:28:20 DEBUG:Parents are:  Carol Boal ( Dorothy Greenfield + Howard Greenfield ) + James Boal ( Velma Boal + Harold Boal )\n",
      "09:28:20 DEBUG:Query is: mother's\n",
      "09:28:20 DEBUG:Getting side 1 from ' Carol Boal ( Dorothy Greenfield + Howard Greenfield ) + James Boal ( Velma Boal + Harold Boal )'\n",
      "09:28:20 DEBUG:Getting 'father' from 'Carol Boal ( Dorothy Greenfield + Howard Greenfield )'\n",
      "09:28:20 DEBUG:Parents are:  Dorothy Greenfield + Howard Greenfield \n",
      "09:28:20 DEBUG:Getting side 2 from ' Dorothy Greenfield + Howard Greenfield '\n"
     ]
    },
    {
     "data": {
      "text/plain": [
       "'Howard Greenfield'"
      ]
     },
     "execution_count": 4,
     "metadata": {},
     "output_type": "execute_result"
    }
   ],
   "source": [
    "import logging\n",
    "import imp\n",
    "imp.reload(logging)\n",
    "logging.basicConfig(format='%(asctime)s %(levelname)s:%(message)s', level=logging.DEBUG, datefmt='%I:%M:%S')\n",
    "history = 'Paul Boal ( Carol Boal ( Dorothy Greenfield + Howard Greenfield ) + James Boal ( Velma Boal + Harold Boal ))'\n",
    "get_descendant(history, \"mother's father\")"
   ]
  },
  {
   "cell_type": "code",
   "execution_count": 5,
   "metadata": {},
   "outputs": [
    {
     "name": "stderr",
     "output_type": "stream",
     "text": [
      "09:28:29 DEBUG:Parents are:  Carol Boal + James Boal \n",
      "09:28:29 DEBUG:Getting side 1 from ' Carol Boal + James Boal '\n",
      "09:28:29 DEBUG:Parents are:  Carol Boal + James Boal \n",
      "09:28:29 DEBUG:Getting side 2 from ' Carol Boal + James Boal '\n",
      "09:28:29 DEBUG:Parents are:  Carol Boal ( Dorothy Greenfield + Howard Greenfield ) + James Boal ( Velma Boal + Harold Boal )\n",
      "09:28:29 DEBUG:Query is: mother's\n",
      "09:28:29 DEBUG:Getting side 1 from ' Carol Boal ( Dorothy Greenfield + Howard Greenfield ) + James Boal ( Velma Boal + Harold Boal )'\n",
      "09:28:29 DEBUG:Getting 'mother' from 'Carol Boal ( Dorothy Greenfield + Howard Greenfield )'\n",
      "09:28:29 DEBUG:Parents are:  Dorothy Greenfield + Howard Greenfield \n",
      "09:28:29 DEBUG:Getting side 1 from ' Dorothy Greenfield + Howard Greenfield '\n",
      "09:28:29 DEBUG:Parents are:  Carol Boal ( Dorothy Greenfield + Howard Greenfield ) + James Boal ( Velma Boal + Harold Boal )\n",
      "09:28:29 DEBUG:Query is: mother's\n",
      "09:28:29 DEBUG:Getting side 1 from ' Carol Boal ( Dorothy Greenfield + Howard Greenfield ) + James Boal ( Velma Boal + Harold Boal )'\n",
      "09:28:29 DEBUG:Getting 'father' from 'Carol Boal ( Dorothy Greenfield + Howard Greenfield )'\n",
      "09:28:29 DEBUG:Parents are:  Dorothy Greenfield + Howard Greenfield \n",
      "09:28:29 DEBUG:Getting side 2 from ' Dorothy Greenfield + Howard Greenfield '\n",
      "09:28:29 DEBUG:Parents are:  Carol Boal ( Dorothy Greenfield + Howard Greenfield ) + James Boal ( Velma Boal + Harold Boal )\n",
      "09:28:29 DEBUG:Query is: father's\n",
      "09:28:29 DEBUG:Getting side 2 from ' Carol Boal ( Dorothy Greenfield + Howard Greenfield ) + James Boal ( Velma Boal + Harold Boal )'\n",
      "09:28:29 DEBUG:Getting 'mother' from 'James Boal ( Velma Boal + Harold Boal )'\n",
      "09:28:29 DEBUG:Parents are:  Velma Boal + Harold Boal \n",
      "09:28:29 DEBUG:Getting side 1 from ' Velma Boal + Harold Boal '\n",
      "09:28:29 DEBUG:Parents are:  Carol Boal ( Dorothy Greenfield + Howard Greenfield ) + James Boal ( Velma Boal + Harold Boal )\n",
      "09:28:29 DEBUG:Query is: father's\n",
      "09:28:29 DEBUG:Getting side 2 from ' Carol Boal ( Dorothy Greenfield + Howard Greenfield ) + James Boal ( Velma Boal + Harold Boal )'\n",
      "09:28:29 DEBUG:Getting 'father' from 'James Boal ( Velma Boal + Harold Boal )'\n",
      "09:28:29 DEBUG:Parents are:  Velma Boal + Harold Boal \n",
      "09:28:29 DEBUG:Getting side 2 from ' Velma Boal + Harold Boal '\n"
     ]
    },
    {
     "name": "stdout",
     "output_type": "stream",
     "text": [
      "Finding tests in NoName\n",
      "Trying:\n",
      "    get_descendant('Paul Boal ( Carol Boal + James Boal )', 'mother')\n",
      "Expecting:\n",
      "    'Carol Boal'\n",
      "ok\n",
      "Trying:\n",
      "    get_descendant('Paul Boal ( Carol Boal + James Boal )', 'father')\n",
      "Expecting:\n",
      "    'James Boal'\n",
      "ok\n",
      "Trying:\n",
      "    history = 'Paul Boal ( Carol Boal ( Dorothy Greenfield + Howard Greenfield ) + James Boal ( Velma Boal + Harold Boal ))'\n",
      "Expecting nothing\n",
      "ok\n",
      "Trying:\n",
      "    get_descendant(history, \"mother's mother\")\n",
      "Expecting:\n",
      "    'Dorothy Greenfield'\n",
      "ok\n",
      "Trying:\n",
      "    get_descendant(history, \"mother's father\")\n",
      "Expecting:\n",
      "    'Howard Greenfield'\n",
      "ok\n",
      "Trying:\n",
      "    get_descendant(history, \"father's mother\")\n",
      "Expecting:\n",
      "    'Velma Boal'\n",
      "ok\n",
      "Trying:\n",
      "    get_descendant(history, \"father's father\")\n",
      "Expecting:\n",
      "    'Harold Boal'\n",
      "ok\n"
     ]
    }
   ],
   "source": [
    "import doctest\n",
    "doctest.run_docstring_examples(get_descendant,globals(),verbose=True)"
   ]
  },
  {
   "cell_type": "code",
   "execution_count": null,
   "metadata": {},
   "outputs": [],
   "source": []
  }
 ],
 "metadata": {
  "kernelspec": {
   "display_name": "Python 3",
   "language": "python",
   "name": "python3"
  },
  "language_info": {
   "codemirror_mode": {
    "name": "ipython",
    "version": 3
   },
   "file_extension": ".py",
   "mimetype": "text/x-python",
   "name": "python",
   "nbconvert_exporter": "python",
   "pygments_lexer": "ipython3",
   "version": "3.5.2"
  }
 },
 "nbformat": 4,
 "nbformat_minor": 1
}
