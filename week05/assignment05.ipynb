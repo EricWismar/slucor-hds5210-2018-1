{
 "cells": [
  {
   "cell_type": "markdown",
   "metadata": {},
   "source": [
    "# Week 5 Assignment - Modules and Classes\n",
    "\n",
    "\n",
    "## 1 - Dose Class (15 pts)\n",
    "\n",
    "Take what we put together for the assignment in week 3 around parsing a string like \"Amoxicillin 10 mg/day\" and create a new class in a separate module that will help us manage that kind of information.\n",
    "\n",
    "Create a module file simply named \"dose\".  In that new file, create a class named Dose.  Your Dose class should have the following attributes and methods:\n",
    "\n",
    "```\n",
    "* __init__(self, text)\n",
    "* drug for the drug name as a string\n",
    "* amount for the the amount as a float\n",
    "* mass_unit for just the mass units part as a string\n",
    "* time_unit for just the time units part as a string\n",
    "```\n",
    "\n",
    "In your regular homework file (week05-username), demonstrate you code works using the procedure in the cell below:"
   ]
  },
  {
   "cell_type": "code",
   "execution_count": 1,
   "metadata": {},
   "outputs": [
    {
     "name": "stdout",
     "output_type": "stream",
     "text": [
      "importing Jupyter notebook from dose.ipynb\n",
      "Amoxicillin\n",
      "100.0\n",
      "mg\n",
      "hr\n"
     ]
    }
   ],
   "source": [
    "import jupyterimporter\n",
    "from dose import Dose\n",
    "d = Dose('Amoxicillin 100 mg/hr')\n",
    "print(d.drug)\n",
    "print(d.amount)\n",
    "print(d.mass_unit)\n",
    "print(d.time_unit)"
   ]
  },
  {
   "cell_type": "code",
   "execution_count": 2,
   "metadata": {},
   "outputs": [
    {
     "data": {
      "text/plain": [
       "'Amoxicillin'"
      ]
     },
     "execution_count": 2,
     "metadata": {},
     "output_type": "execute_result"
    }
   ],
   "source": [
    "d.drug"
   ]
  },
  {
   "cell_type": "code",
   "execution_count": 2,
   "metadata": {},
   "outputs": [
    {
     "data": {
      "text/plain": [
       "2"
      ]
     },
     "execution_count": 2,
     "metadata": {},
     "output_type": "execute_result"
    }
   ],
   "source": [
    "d.drug.find(\"o\")"
   ]
  },
  {
   "cell_type": "markdown",
   "metadata": {},
   "source": [
    "## 2 - Extending Dose\n",
    "\n",
    "Add another method to your Dose class like the following.\n",
    "\n",
    "```\n",
    "* is_overdose(self, reference) which compares this Dose with the reference Dose\n",
    "```\n",
    "\n",
    "For the sake of simplicity, don't worry about trying to convert units.  Just check to see if they are the same in both the Dose and the reference Dose.\n",
    "\n",
    "If the drug and units are the same, and the amount is less than or equal to the reference amount, return False.\n",
    "If the drug and units are not the same, then return None.\n",
    "Otherwise return True.\n",
    "\n",
    "Note, 'None' is a special kind of value that any variable can have.  It means that the value of this variable is undefined.  Verify your work with the examples below."
   ]
  },
  {
   "cell_type": "code",
   "execution_count": null,
   "metadata": {},
   "outputs": [],
   "source": [
    "ref = Dose('Amoxicillin 50 mg/hr')\n",
    "print (d.is_overdose(ref))\n",
    "# Should return True\n",
    "\n",
    "print (d.is_overdose(d))\n",
    "# Should return False\n",
    "\n",
    "print (d.is_overdose(Dose('Penicillin 100 mg/day')))\n",
    "# Should return None"
   ]
  },
  {
   "cell_type": "code",
   "execution_count": 1,
   "metadata": {},
   "outputs": [
    {
     "name": "stdout",
     "output_type": "stream",
     "text": [
      "importing Jupyter notebook from dose.ipynb\n"
     ]
    }
   ],
   "source": [
    "from dose import Dose\n",
    "d = Dose('MyDrug 10 g/hr')"
   ]
  },
  {
   "cell_type": "code",
   "execution_count": 2,
   "metadata": {},
   "outputs": [
    {
     "data": {
      "text/plain": [
       "'MyDrug'"
      ]
     },
     "execution_count": 2,
     "metadata": {},
     "output_type": "execute_result"
    }
   ],
   "source": [
    "d.drug()\n"
   ]
  },
  {
   "cell_type": "markdown",
   "metadata": {
    "collapsed": true
   },
   "source": [
    "Stretch - Ancestry\n",
    "---\n",
    "\n",
    "Create a new `Person` class that can represent the family history structor that we presented back in the stretch opporutnity during week 3.\n",
    "```\n",
    "Person\n",
    "|\n",
    "+---> Mother\n",
    "|     |\n",
    "|     +---> Mother's Mother\n",
    "|     |\n",
    "|     +---> Mother's Father\n",
    "|\n",
    "+---> Father\n",
    "      |\n",
    "      +---> Father's Mother\n",
    "      |\n",
    "      +---> Father's Father\n",
    "```\n",
    "\n",
    "Write a `loads(s)` method that will load up your parental structure from a string as described back in the solution to week 03.\n",
    "\n",
    "Write a recursive `find(s)` method that will take a string in the format \"parent's parent's parent\" and return that person."
   ]
  },
  {
   "cell_type": "code",
   "execution_count": null,
   "metadata": {},
   "outputs": [],
   "source": []
  }
 ],
 "metadata": {
  "kernelspec": {
   "display_name": "Python 3",
   "language": "python",
   "name": "python3"
  },
  "language_info": {
   "codemirror_mode": {
    "name": "ipython",
    "version": 3
   },
   "file_extension": ".py",
   "mimetype": "text/x-python",
   "name": "python",
   "nbconvert_exporter": "python",
   "pygments_lexer": "ipython3",
   "version": "3.5.2"
  }
 },
 "nbformat": 4,
 "nbformat_minor": 1
}
