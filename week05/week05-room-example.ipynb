{
 "cells": [
  {
   "cell_type": "code",
   "execution_count": 3,
   "metadata": {},
   "outputs": [
    {
     "name": "stdout",
     "output_type": "stream",
     "text": [
      "Salus\n",
      "Auditorium\n"
     ]
    }
   ],
   "source": [
    "# Note that this notebook depends on the file `room.py` to be in this \n",
    "# same directory.  You can see `room.py` here: \n",
    "# https://github.com/paulboal/slucor-hds5210-2018-1/blob/master/week05/room.py\n",
    "\n",
    "# Import the module, which includes a class called Room\n",
    "# You can also `from room import Room` and you can skip the `room.` when you \n",
    "# reference that class.\n",
    "import room\n",
    "\n",
    "# Now create a specific instance of a Room\n",
    "auditorium = room.Room('Salus Auditorium')\n",
    "\n",
    "# And we can print out various pieces of that room\n",
    "print(auditorium.building)\n",
    "print(auditorium.room_nbr)\n",
    "\n"
   ]
  },
  {
   "cell_type": "code",
   "execution_count": 4,
   "metadata": {},
   "outputs": [
    {
     "name": "stdout",
     "output_type": "stream",
     "text": [
      "Help on module room:\n",
      "\n",
      "NAME\n",
      "    room\n",
      "\n",
      "CLASSES\n",
      "    builtins.object\n",
      "        Room\n",
      "    \n",
      "    class Room(builtins.object)\n",
      "     |  A Room is a specific place identified by the building and room number that tells us where it can be found.\n",
      "     |  We can create new instances of a Room by passing in either the building name and room number as separate\n",
      "     |  parameters or by passing in a single string in the format \"<building> <number>\".  See the examples.\n",
      "     |  \n",
      "     |  attributes: building, room_nbr\n",
      "     |  \n",
      "     |  Methods defined here:\n",
      "     |  \n",
      "     |  __init__(self, label)\n",
      "     |      This initialization method will create a new Room object based on a string in the format \"<building> <number>\".\n",
      "     |      \n",
      "     |      >>> Room('Salus 1481')\n",
      "     |  \n",
      "     |  ----------------------------------------------------------------------\n",
      "     |  Data descriptors defined here:\n",
      "     |  \n",
      "     |  __dict__\n",
      "     |      dictionary for instance variables (if defined)\n",
      "     |  \n",
      "     |  __weakref__\n",
      "     |      list of weak references to the object (if defined)\n",
      "\n",
      "FILE\n",
      "    /home/paulboal/slucor-hds5210-2018-1/week05/room.py\n",
      "\n",
      "\n"
     ]
    }
   ],
   "source": [
    "# To see what kinds of stuff is in a Room (attribute) and what a Room can do (methods),\n",
    "# you can ask for help on the room module or room.Room class.\n",
    "\n",
    "help(room)"
   ]
  },
  {
   "cell_type": "code",
   "execution_count": null,
   "metadata": {},
   "outputs": [],
   "source": []
  }
 ],
 "metadata": {
  "kernelspec": {
   "display_name": "Python 3",
   "language": "python",
   "name": "python3"
  },
  "language_info": {
   "codemirror_mode": {
    "name": "ipython",
    "version": 3
   },
   "file_extension": ".py",
   "mimetype": "text/x-python",
   "name": "python",
   "nbconvert_exporter": "python",
   "pygments_lexer": "ipython3",
   "version": "3.5.2"
  }
 },
 "nbformat": 4,
 "nbformat_minor": 2
}
