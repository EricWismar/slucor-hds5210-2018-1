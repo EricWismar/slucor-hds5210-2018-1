{
 "cells": [
  {
   "cell_type": "markdown",
   "metadata": {},
   "source": [
    "## Week 5 - Custom Modules\n",
    "\n",
    "In this part of the lecture, we're going to write our own custom module.  To get this to work, create a separate new notebook in this same directory.  Name the notebook \"week05\"."
   ]
  },
  {
   "cell_type": "code",
   "execution_count": 1,
   "metadata": {},
   "outputs": [],
   "source": [
    "# Note that if you run the import again, it won't reimport any changes you've made to the week05.ipynb\n",
    "import converter\n",
    "\n",
    "# If you make changes to your week05 notebook, then you can reload it this way:\n",
    "#import imp\n",
    "#imp.reload(converter)"
   ]
  },
  {
   "cell_type": "code",
   "execution_count": 2,
   "metadata": {},
   "outputs": [
    {
     "name": "stdout",
     "output_type": "stream",
     "text": [
      "Help on module converter:\n",
      "\n",
      "NAME\n",
      "    converter - This module defines a series of useful unit conversion functions.\n",
      "\n",
      "FUNCTIONS\n",
      "    inches2ms(inches)\n",
      "        Convert inches to meters.\n",
      "    \n",
      "    lbs2kgs(lbs)\n",
      "        Convert pounds to kilograms.\n",
      "    \n",
      "    los_points(days)\n",
      "        Return the LOS points based on days\n",
      "    \n",
      "    mg_per_hour2g_per_day(mg_per_hour)\n",
      "        Convert milligrams per hour to grams per day\n",
      "    \n",
      "    tsp2ml(tsp)\n",
      "        Convert teaspoons to milliliters\n",
      "\n",
      "FILE\n",
      "    /home/paulboal/slucor-hds5210-2018-1/week05/converter.py\n",
      "\n",
      "\n"
     ]
    }
   ],
   "source": [
    "help(converter)"
   ]
  },
  {
   "cell_type": "code",
   "execution_count": 4,
   "metadata": {},
   "outputs": [
    {
     "data": {
      "text/plain": [
       "14.79"
      ]
     },
     "execution_count": 4,
     "metadata": {},
     "output_type": "execute_result"
    }
   ],
   "source": [
    "converter.tsp2ml(3)"
   ]
  },
  {
   "cell_type": "code",
   "execution_count": 5,
   "metadata": {},
   "outputs": [
    {
     "data": {
      "text/plain": [
       "45.4"
      ]
     },
     "execution_count": 5,
     "metadata": {},
     "output_type": "execute_result"
    }
   ],
   "source": [
    "converter.lbs2kgs(100)"
   ]
  },
  {
   "cell_type": "code",
   "execution_count": 6,
   "metadata": {},
   "outputs": [
    {
     "data": {
      "text/plain": [
       "1.8288"
      ]
     },
     "execution_count": 6,
     "metadata": {},
     "output_type": "execute_result"
    }
   ],
   "source": [
    "converter.inches2ms(72)"
   ]
  },
  {
   "cell_type": "code",
   "execution_count": 7,
   "metadata": {},
   "outputs": [],
   "source": [
    "import xml"
   ]
  },
  {
   "cell_type": "code",
   "execution_count": 8,
   "metadata": {},
   "outputs": [
    {
     "name": "stdout",
     "output_type": "stream",
     "text": [
      "Help on package xml:\n",
      "\n",
      "NAME\n",
      "    xml - Core XML support for Python.\n",
      "\n",
      "MODULE REFERENCE\n",
      "    https://docs.python.org/3.5/library/xml.html\n",
      "    \n",
      "    The following documentation is automatically generated from the Python\n",
      "    source files.  It may be incomplete, incorrect or include features that\n",
      "    are considered implementation detail and may vary between Python\n",
      "    implementations.  When in doubt, consult the module reference at the\n",
      "    location listed above.\n",
      "\n",
      "DESCRIPTION\n",
      "    This package contains four sub-packages:\n",
      "    \n",
      "    dom -- The W3C Document Object Model.  This supports DOM Level 1 +\n",
      "           Namespaces.\n",
      "    \n",
      "    parsers -- Python wrappers for XML parsers (currently only supports Expat).\n",
      "    \n",
      "    sax -- The Simple API for XML, developed by XML-Dev, led by David\n",
      "           Megginson and ported to Python by Lars Marius Garshol.  This\n",
      "           supports the SAX 2 API.\n",
      "    \n",
      "    etree -- The ElementTree XML library.  This is a subset of the full\n",
      "           ElementTree XML release.\n",
      "\n",
      "PACKAGE CONTENTS\n",
      "    dom (package)\n",
      "    etree (package)\n",
      "    parsers (package)\n",
      "    sax (package)\n",
      "\n",
      "DATA\n",
      "    __all__ = ['dom', 'parsers', 'sax', 'etree']\n",
      "\n",
      "FILE\n",
      "    /usr/lib/python3.5/xml/__init__.py\n",
      "\n",
      "\n"
     ]
    }
   ],
   "source": [
    "help(xml)"
   ]
  },
  {
   "cell_type": "code",
   "execution_count": null,
   "metadata": {},
   "outputs": [],
   "source": [
    "from xml.dom import minidom"
   ]
  },
  {
   "cell_type": "code",
   "execution_count": null,
   "metadata": {},
   "outputs": [],
   "source": [
    "help(xml.dom.minidom)"
   ]
  },
  {
   "cell_type": "code",
   "execution_count": null,
   "metadata": {},
   "outputs": [],
   "source": [
    "import random\n",
    "help(random)"
   ]
  },
  {
   "cell_type": "code",
   "execution_count": null,
   "metadata": {},
   "outputs": [],
   "source": [
    "import math\n",
    "dir(math)"
   ]
  },
  {
   "cell_type": "code",
   "execution_count": null,
   "metadata": {},
   "outputs": [],
   "source": [
    "math.factorial(4)"
   ]
  },
  {
   "cell_type": "code",
   "execution_count": null,
   "metadata": {},
   "outputs": [],
   "source": [
    "type(math)"
   ]
  },
  {
   "cell_type": "code",
   "execution_count": null,
   "metadata": {},
   "outputs": [],
   "source": [
    "type(math.factorial)"
   ]
  },
  {
   "cell_type": "code",
   "execution_count": null,
   "metadata": {},
   "outputs": [],
   "source": [
    "type(xml.dom)"
   ]
  },
  {
   "cell_type": "code",
   "execution_count": null,
   "metadata": {},
   "outputs": [],
   "source": [
    "import sys\n",
    "print(sys.path)"
   ]
  },
  {
   "cell_type": "code",
   "execution_count": 9,
   "metadata": {},
   "outputs": [
    {
     "ename": "ImportError",
     "evalue": "No module named 'MATH'",
     "output_type": "error",
     "traceback": [
      "\u001b[0;31m---------------------------------------------------------------------------\u001b[0m",
      "\u001b[0;31mImportError\u001b[0m                               Traceback (most recent call last)",
      "\u001b[0;32m<ipython-input-9-76290785630e>\u001b[0m in \u001b[0;36m<module>\u001b[0;34m()\u001b[0m\n\u001b[0;32m----> 1\u001b[0;31m \u001b[0;32mimport\u001b[0m \u001b[0mMATH\u001b[0m\u001b[0;34m\u001b[0m\u001b[0m\n\u001b[0m",
      "\u001b[0;31mImportError\u001b[0m: No module named 'MATH'"
     ]
    }
   ],
   "source": [
    "import MATH"
   ]
  },
  {
   "cell_type": "code",
   "execution_count": null,
   "metadata": {},
   "outputs": [],
   "source": []
  }
 ],
 "metadata": {
  "kernelspec": {
   "display_name": "Python 3",
   "language": "python",
   "name": "python3"
  },
  "language_info": {
   "codemirror_mode": {
    "name": "ipython",
    "version": 3
   },
   "file_extension": ".py",
   "mimetype": "text/x-python",
   "name": "python",
   "nbconvert_exporter": "python",
   "pygments_lexer": "ipython3",
   "version": "3.5.2"
  }
 },
 "nbformat": 4,
 "nbformat_minor": 1
}
