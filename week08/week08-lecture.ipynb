{
 "cells": [
  {
   "cell_type": "markdown",
   "metadata": {},
   "source": [
    "_HDS5210 Programming for Data Science_\n",
    "\n",
    "# Week 8 - Data Structures\n",
    "\n",
    "https://drive.google.com/drive/folders/12qaE8sNPWRMqcfeI9eSBxzUscz8KZDBf?usp=sharing\n",
    "\n",
    "At the beginning of the semester, we learned about some basic variables that were of types like `int`, `str`, `float`, and `bool`.  These \"single valued\" data types are referred to as **\"scalar\"** data types.  In this context **scalar** refers to a data type that just holds a single variable, as opposed to a **complex** data type that holds a more complicated data structure, like a `list` or `class`.\n",
    "\n",
    "In this lecture, we'll talk about **sets** and **tuples**, but primarily focus another complex data type called a **dictionary**.  https://docs.python.org/3/tutorial/datastructures.html#dictionaries\n",
    "\n",
    "Dictionaries are a collection of variable keys and values within a single variable.  In this example, we have a variable `v` that contains keys of `a` and `b` with corresponding values `'Three'` and `3`.\n",
    "```\n",
    "v = { \n",
    "  'a': 'Three', \n",
    "  'b': 3 \n",
    "}\n",
    "```"
   ]
  },
  {
   "cell_type": "code",
   "execution_count": 1,
   "metadata": {},
   "outputs": [],
   "source": [
    "# We create an empty dictionary using curly braces:\n",
    "d = {}"
   ]
  },
  {
   "cell_type": "code",
   "execution_count": 2,
   "metadata": {},
   "outputs": [
    {
     "data": {
      "text/plain": [
       "{}"
      ]
     },
     "execution_count": 2,
     "metadata": {},
     "output_type": "execute_result"
    }
   ],
   "source": [
    "d"
   ]
  },
  {
   "cell_type": "code",
   "execution_count": 5,
   "metadata": {},
   "outputs": [],
   "source": [
    "# Or we can initialize it with key / value pairs:\n",
    "v = { \n",
    "    'a': 'Three', \n",
    "    'b': 3 }"
   ]
  },
  {
   "cell_type": "code",
   "execution_count": 6,
   "metadata": {},
   "outputs": [
    {
     "data": {
      "text/plain": [
       "{'a': 'Three', 'b': 3}"
      ]
     },
     "execution_count": 6,
     "metadata": {},
     "output_type": "execute_result"
    }
   ],
   "source": [
    "v"
   ]
  },
  {
   "cell_type": "code",
   "execution_count": 7,
   "metadata": {},
   "outputs": [],
   "source": [
    "v = { 1: 'one', 2:'two'}"
   ]
  },
  {
   "cell_type": "code",
   "execution_count": 8,
   "metadata": {},
   "outputs": [
    {
     "data": {
      "text/plain": [
       "{1: 'one', 2: 'two'}"
      ]
     },
     "execution_count": 8,
     "metadata": {},
     "output_type": "execute_result"
    }
   ],
   "source": [
    "v"
   ]
  },
  {
   "cell_type": "code",
   "execution_count": 9,
   "metadata": {},
   "outputs": [
    {
     "ename": "NameError",
     "evalue": "name 'one' is not defined",
     "output_type": "error",
     "traceback": [
      "\u001b[0;31m---------------------------------------------------------------------------\u001b[0m",
      "\u001b[0;31mNameError\u001b[0m                                 Traceback (most recent call last)",
      "\u001b[0;32m<ipython-input-9-a8e2aa463c01>\u001b[0m in \u001b[0;36m<module>\u001b[0;34m()\u001b[0m\n\u001b[0;32m----> 1\u001b[0;31m \u001b[0mv\u001b[0m \u001b[0;34m=\u001b[0m \u001b[0;34m{\u001b[0m \u001b[0mone\u001b[0m\u001b[0;34m:\u001b[0m \u001b[0;36m1\u001b[0m\u001b[0;34m,\u001b[0m \u001b[0mtwo\u001b[0m\u001b[0;34m:\u001b[0m \u001b[0;36m2\u001b[0m\u001b[0;34m}\u001b[0m\u001b[0;34m\u001b[0m\u001b[0m\n\u001b[0m",
      "\u001b[0;31mNameError\u001b[0m: name 'one' is not defined"
     ]
    }
   ],
   "source": [
    "v = { one: 1, two: 2 }"
   ]
  },
  {
   "cell_type": "code",
   "execution_count": 10,
   "metadata": {},
   "outputs": [],
   "source": [
    "one  = 'one'\n",
    "two = 'two'\n",
    "v = {one: 1, two:2}"
   ]
  },
  {
   "cell_type": "code",
   "execution_count": 11,
   "metadata": {},
   "outputs": [
    {
     "data": {
      "text/plain": [
       "{'one': 1, 'two': 2}"
      ]
     },
     "execution_count": 11,
     "metadata": {},
     "output_type": "execute_result"
    }
   ],
   "source": [
    "v"
   ]
  },
  {
   "cell_type": "code",
   "execution_count": 12,
   "metadata": {},
   "outputs": [
    {
     "ename": "TypeError",
     "evalue": "unhashable type: 'list'",
     "output_type": "error",
     "traceback": [
      "\u001b[0;31m---------------------------------------------------------------------------\u001b[0m",
      "\u001b[0;31mTypeError\u001b[0m                                 Traceback (most recent call last)",
      "\u001b[0;32m<ipython-input-12-01b528690c4a>\u001b[0m in \u001b[0;36m<module>\u001b[0;34m()\u001b[0m\n\u001b[1;32m      1\u001b[0m v = {\n\u001b[0;32m----> 2\u001b[0;31m     \u001b[0;34m[\u001b[0m\u001b[0;36m1\u001b[0m\u001b[0;34m,\u001b[0m\u001b[0;36m2\u001b[0m\u001b[0;34m]\u001b[0m\u001b[0;34m:\u001b[0m \u001b[0;34m'one and two'\u001b[0m\u001b[0;34m\u001b[0m\u001b[0m\n\u001b[0m\u001b[1;32m      3\u001b[0m }\n",
      "\u001b[0;31mTypeError\u001b[0m: unhashable type: 'list'"
     ]
    }
   ],
   "source": [
    "v = {\n",
    "    [1,2]: 'one and two'\n",
    "}"
   ]
  },
  {
   "cell_type": "code",
   "execution_count": 38,
   "metadata": {},
   "outputs": [],
   "source": [
    "# The values within a dictionary can be of any type:\n",
    "elements = { \n",
    "    'H' : {\n",
    "        'name': 'Hydrogen',\n",
    "        'number': 1,\n",
    "        'isotopes': [1,2,3]\n",
    "    },\n",
    "    'He' : {\n",
    "        'name': 'Helium',\n",
    "        'number': 2,\n",
    "        'isotopes': [2,3,4]\n",
    "    }\n",
    "}"
   ]
  },
  {
   "cell_type": "code",
   "execution_count": 14,
   "metadata": {},
   "outputs": [
    {
     "data": {
      "text/plain": [
       "{'H': {'isotopes': [1, 2, 3], 'name': 'Hydrogen', 'number': 1},\n",
       " 'He': {'isotopes': [2, 3, 4], 'name': 'Helium', 'number': 2}}"
      ]
     },
     "execution_count": 14,
     "metadata": {},
     "output_type": "execute_result"
    }
   ],
   "source": [
    "elements"
   ]
  },
  {
   "cell_type": "code",
   "execution_count": 17,
   "metadata": {},
   "outputs": [
    {
     "data": {
      "text/plain": [
       "'Hydrogen'"
      ]
     },
     "execution_count": 17,
     "metadata": {},
     "output_type": "execute_result"
    }
   ],
   "source": [
    "elements['H']['name']"
   ]
  },
  {
   "cell_type": "code",
   "execution_count": 18,
   "metadata": {},
   "outputs": [],
   "source": [
    "# Note that the keys within a dictionary can only be used once.  \n",
    "# The following isn't illegal, but it may not do what you expect it to do.\n",
    "\n",
    "duplicate = {\n",
    "    'name': 'Paul Boal',\n",
    "    'name': 'Eric Westhus'\n",
    "}"
   ]
  },
  {
   "cell_type": "code",
   "execution_count": 19,
   "metadata": {},
   "outputs": [
    {
     "data": {
      "text/plain": [
       "{'name': 'Eric Westhus'}"
      ]
     },
     "execution_count": 19,
     "metadata": {},
     "output_type": "execute_result"
    }
   ],
   "source": [
    "duplicate"
   ]
  },
  {
   "cell_type": "code",
   "execution_count": 20,
   "metadata": {},
   "outputs": [],
   "source": [
    "duplicate = {}\n",
    "duplicate['name'] = 'Paul Boal'"
   ]
  },
  {
   "cell_type": "code",
   "execution_count": 21,
   "metadata": {},
   "outputs": [
    {
     "data": {
      "text/plain": [
       "{'name': 'Paul Boal'}"
      ]
     },
     "execution_count": 21,
     "metadata": {},
     "output_type": "execute_result"
    }
   ],
   "source": [
    "duplicate"
   ]
  },
  {
   "cell_type": "code",
   "execution_count": 22,
   "metadata": {},
   "outputs": [],
   "source": [
    "duplicate['name'] = 'Eric Westhus'"
   ]
  },
  {
   "cell_type": "code",
   "execution_count": 23,
   "metadata": {},
   "outputs": [
    {
     "data": {
      "text/plain": [
       "{'name': 'Eric Westhus'}"
      ]
     },
     "execution_count": 23,
     "metadata": {},
     "output_type": "execute_result"
    }
   ],
   "source": [
    "duplicate"
   ]
  },
  {
   "cell_type": "markdown",
   "metadata": {},
   "source": [
    "## Accessing Keys/Values of the Dictionary"
   ]
  },
  {
   "cell_type": "markdown",
   "metadata": {},
   "source": [
    "**Note that the ordering of keys is ARBITRARY, not necessarily how they are entered or alphabetically**"
   ]
  },
  {
   "cell_type": "code",
   "execution_count": null,
   "metadata": {},
   "outputs": [],
   "source": [
    "# __getitem__ == [] \n",
    "help(dict.__getitem__)"
   ]
  },
  {
   "cell_type": "code",
   "execution_count": 24,
   "metadata": {
    "scrolled": true
   },
   "outputs": [
    {
     "name": "stdout",
     "output_type": "stream",
     "text": [
      "H\n",
      "{'name': 'Hydrogen', 'number': 1, 'isotopes': [1, 2, 3]}\n",
      "H is short for Hydrogen\n",
      "He\n",
      "{'name': 'Helium', 'number': 2, 'isotopes': [2, 3, 4]}\n",
      "He is short for Helium\n"
     ]
    }
   ],
   "source": [
    "# for key in dictionary\n",
    "for e in elements:\n",
    "    print(e)\n",
    "    print(elements[e])\n",
    "    print(\"{:s} is short for {:s}\".format(e, elements[e]['name']))"
   ]
  },
  {
   "cell_type": "code",
   "execution_count": 25,
   "metadata": {},
   "outputs": [],
   "source": [
    "elements['H']['isotopes'].append(4)"
   ]
  },
  {
   "cell_type": "code",
   "execution_count": 26,
   "metadata": {},
   "outputs": [
    {
     "data": {
      "text/plain": [
       "{'isotopes': [1, 2, 3, 4], 'name': 'Hydrogen', 'number': 1}"
      ]
     },
     "execution_count": 26,
     "metadata": {},
     "output_type": "execute_result"
    }
   ],
   "source": [
    "elements['H']"
   ]
  },
  {
   "cell_type": "code",
   "execution_count": 27,
   "metadata": {},
   "outputs": [],
   "source": [
    "elements['H']['name'] = 'Hydrogen?'"
   ]
  },
  {
   "cell_type": "code",
   "execution_count": 28,
   "metadata": {},
   "outputs": [
    {
     "data": {
      "text/plain": [
       "{'isotopes': [1, 2, 3, 4], 'name': 'Hydrogen?', 'number': 1}"
      ]
     },
     "execution_count": 28,
     "metadata": {},
     "output_type": "execute_result"
    }
   ],
   "source": [
    "elements['H']\n"
   ]
  },
  {
   "cell_type": "code",
   "execution_count": null,
   "metadata": {},
   "outputs": [],
   "source": []
  },
  {
   "cell_type": "markdown",
   "metadata": {},
   "source": [
    "## Other ways of creating dictionaries"
   ]
  },
  {
   "cell_type": "code",
   "execution_count": 29,
   "metadata": {},
   "outputs": [],
   "source": [
    "keys = ['one', 'two', 'three']\n",
    "vals = [1,     2,     3      ]\n"
   ]
  },
  {
   "cell_type": "code",
   "execution_count": 30,
   "metadata": {},
   "outputs": [],
   "source": [
    "d = dict(zip(keys, vals))"
   ]
  },
  {
   "cell_type": "code",
   "execution_count": 31,
   "metadata": {},
   "outputs": [
    {
     "data": {
      "text/plain": [
       "{'one': 1, 'three': 3, 'two': 2}"
      ]
     },
     "execution_count": 31,
     "metadata": {},
     "output_type": "execute_result"
    }
   ],
   "source": [
    "d"
   ]
  },
  {
   "cell_type": "markdown",
   "metadata": {},
   "source": [
    "If key names are really simple, we can use a different syntax:"
   ]
  },
  {
   "cell_type": "code",
   "execution_count": 32,
   "metadata": {},
   "outputs": [],
   "source": [
    "d = dict(one=1, two=2, three=3)"
   ]
  },
  {
   "cell_type": "code",
   "execution_count": 33,
   "metadata": {},
   "outputs": [
    {
     "data": {
      "text/plain": [
       "{'one': 1, 'three': 3, 'two': 2}"
      ]
     },
     "execution_count": 33,
     "metadata": {},
     "output_type": "execute_result"
    }
   ],
   "source": [
    "d"
   ]
  },
  {
   "cell_type": "code",
   "execution_count": 34,
   "metadata": {},
   "outputs": [
    {
     "data": {
      "text/plain": [
       "{'one': 1, 'three': 3, 'two': 2}"
      ]
     },
     "execution_count": 34,
     "metadata": {},
     "output_type": "execute_result"
    }
   ],
   "source": [
    "keys = ['one', 'two', 'three']\n",
    "vals = [1,2,3]\n",
    "dict(zip(keys, vals))"
   ]
  },
  {
   "cell_type": "code",
   "execution_count": null,
   "metadata": {},
   "outputs": [],
   "source": [
    "d = {}"
   ]
  },
  {
   "cell_type": "code",
   "execution_count": null,
   "metadata": {},
   "outputs": [],
   "source": [
    "for index in range(len(keys)):\n",
    "    d[vals[index]] = keys[index]"
   ]
  },
  {
   "cell_type": "code",
   "execution_count": null,
   "metadata": {},
   "outputs": [],
   "source": [
    "d"
   ]
  },
  {
   "cell_type": "code",
   "execution_count": null,
   "metadata": {},
   "outputs": [],
   "source": [
    "d[1] "
   ]
  },
  {
   "cell_type": "code",
   "execution_count": null,
   "metadata": {},
   "outputs": [],
   "source": [
    "d[1] = 'Seven'\n",
    "d"
   ]
  },
  {
   "cell_type": "code",
   "execution_count": 35,
   "metadata": {},
   "outputs": [
    {
     "data": {
      "text/plain": [
       "{'H': {'isotopes': [1, 2, 3, 4], 'name': 'Hydrogen?', 'number': 1},\n",
       " 'He': {'isotopes': [2, 3, 4], 'name': 'Helium', 'number': 2}}"
      ]
     },
     "execution_count": 35,
     "metadata": {},
     "output_type": "execute_result"
    }
   ],
   "source": [
    "elements"
   ]
  },
  {
   "cell_type": "code",
   "execution_count": 36,
   "metadata": {},
   "outputs": [],
   "source": [
    "elements['H'] = 1"
   ]
  },
  {
   "cell_type": "code",
   "execution_count": 37,
   "metadata": {},
   "outputs": [
    {
     "data": {
      "text/plain": [
       "{'H': 1, 'He': {'isotopes': [2, 3, 4], 'name': 'Helium', 'number': 2}}"
      ]
     },
     "execution_count": 37,
     "metadata": {},
     "output_type": "execute_result"
    }
   ],
   "source": [
    "elements"
   ]
  },
  {
   "cell_type": "code",
   "execution_count": null,
   "metadata": {},
   "outputs": [],
   "source": [
    "d = dict(zip(keys, vals))"
   ]
  },
  {
   "cell_type": "code",
   "execution_count": null,
   "metadata": {},
   "outputs": [],
   "source": [
    "d[1] = 'Seven'"
   ]
  },
  {
   "cell_type": "code",
   "execution_count": null,
   "metadata": {},
   "outputs": [],
   "source": [
    "d"
   ]
  },
  {
   "cell_type": "code",
   "execution_count": null,
   "metadata": {},
   "outputs": [],
   "source": [
    "d = { 'one': 1, 'uno': 1 }\n",
    "d"
   ]
  },
  {
   "cell_type": "markdown",
   "metadata": {},
   "source": [
    "## Other ways of looping over dictionaries"
   ]
  },
  {
   "cell_type": "code",
   "execution_count": 39,
   "metadata": {},
   "outputs": [
    {
     "name": "stdout",
     "output_type": "stream",
     "text": [
      "H = {'name': 'Hydrogen', 'number': 1, 'isotopes': [1, 2, 3]}\n",
      "He = {'name': 'Helium', 'number': 2, 'isotopes': [2, 3, 4]}\n"
     ]
    }
   ],
   "source": [
    "for abbr, info in elements.items():\n",
    "    print(\"{:s} = {:s}\".format(str(abbr),str(info)))"
   ]
  },
  {
   "cell_type": "code",
   "execution_count": 45,
   "metadata": {},
   "outputs": [
    {
     "data": {
      "text/plain": [
       "{'a': 1, 'b': 2, 'c': 3, 'd': 4}"
      ]
     },
     "execution_count": 45,
     "metadata": {},
     "output_type": "execute_result"
    }
   ],
   "source": [
    "alpha = { 'a': 1, 'b': 2, 'd': 4, 'c': 3}\n",
    "alpha"
   ]
  },
  {
   "cell_type": "code",
   "execution_count": 46,
   "metadata": {},
   "outputs": [
    {
     "name": "stdout",
     "output_type": "stream",
     "text": [
      "c\n",
      "b\n",
      "a\n",
      "d\n"
     ]
    }
   ],
   "source": [
    "for letter in alpha:\n",
    "    print(letter)"
   ]
  },
  {
   "cell_type": "code",
   "execution_count": 47,
   "metadata": {},
   "outputs": [
    {
     "name": "stdout",
     "output_type": "stream",
     "text": [
      "a\n",
      "b\n",
      "c\n",
      "d\n"
     ]
    }
   ],
   "source": [
    "for letter in sorted(alpha):\n",
    "    print(letter)"
   ]
  },
  {
   "cell_type": "markdown",
   "metadata": {},
   "source": [
    "## Ways to use dictionaries"
   ]
  },
  {
   "cell_type": "code",
   "execution_count": 48,
   "metadata": {},
   "outputs": [
    {
     "data": {
      "text/plain": [
       "{'amount': 100, 'drug': 'Aspirin', 'mass_unit': 'mg', 'time_unit': 'hr'}"
      ]
     },
     "execution_count": 48,
     "metadata": {},
     "output_type": "execute_result"
    }
   ],
   "source": [
    "Asprin100 = dict( drug=\"Aspirin\", amount=100, mass_unit=\"mg\", time_unit=\"hr\")\n",
    "Asprin100"
   ]
  },
  {
   "cell_type": "code",
   "execution_count": 49,
   "metadata": {},
   "outputs": [],
   "source": [
    "dosages = [\n",
    "    dict( drug=\"Aspirin\", amount=100, mass_unit=\"mg\", time_unit=\"hr\"),\n",
    "    dict( drug=\"Digoxin\", amount=50,  mass_unit=\"mg\", time_unit=\"hr\")\n",
    "]"
   ]
  },
  {
   "cell_type": "code",
   "execution_count": 50,
   "metadata": {},
   "outputs": [
    {
     "data": {
      "text/plain": [
       "[{'amount': 100, 'drug': 'Aspirin', 'mass_unit': 'mg', 'time_unit': 'hr'},\n",
       " {'amount': 50, 'drug': 'Digoxin', 'mass_unit': 'mg', 'time_unit': 'hr'}]"
      ]
     },
     "execution_count": 50,
     "metadata": {},
     "output_type": "execute_result"
    }
   ],
   "source": [
    "dosages"
   ]
  },
  {
   "cell_type": "code",
   "execution_count": 51,
   "metadata": {},
   "outputs": [
    {
     "name": "stdout",
     "output_type": "stream",
     "text": [
      "Aspirin 100 mg/hr\n",
      "Digoxin 50 mg/hr\n"
     ]
    }
   ],
   "source": [
    "for d in dosages:\n",
    "    print(\"{:s} {:d} {:s}/{:s}\".format(d[\"drug\"],d[\"amount\"],d[\"mass_unit\"],d[\"time_unit\"]))"
   ]
  },
  {
   "cell_type": "code",
   "execution_count": 62,
   "metadata": {},
   "outputs": [
    {
     "data": {
      "text/plain": [
       "{'amount': 100, 'drug': 'Aspirin', 'mass_unit': 'mg', 'time_unit': 'hr'}"
      ]
     },
     "execution_count": 62,
     "metadata": {},
     "output_type": "execute_result"
    }
   ],
   "source": [
    "Asprin100 = dict( drug=\"Aspirin\", amount=100, mass_unit=\"mg\", time_unit=\"hr\")\n",
    "Asprin100"
   ]
  },
  {
   "cell_type": "code",
   "execution_count": 63,
   "metadata": {},
   "outputs": [
    {
     "data": {
      "text/plain": [
       "{'amount': 100, 'drug name': 'Aspirin', 'mass_unit': 'mg', 'time_unit': 'hr'}"
      ]
     },
     "execution_count": 63,
     "metadata": {},
     "output_type": "execute_result"
    }
   ],
   "source": [
    "Asprin100['drug name'] = Asprin100['drug']\n",
    "del(Asprin100['drug'])\n",
    "Asprin100"
   ]
  },
  {
   "cell_type": "code",
   "execution_count": 64,
   "metadata": {},
   "outputs": [
    {
     "data": {
      "text/plain": [
       "{'amount': 100, 'drug name': 'Asprin', 'mass_unit': 'mg', 'time_unit': 'hr'}"
      ]
     },
     "execution_count": 64,
     "metadata": {},
     "output_type": "execute_result"
    }
   ],
   "source": [
    "Asprin100 = {'drug name': 'Asprin', 'amount':100, 'mass_unit': 'mg', 'time_unit': 'hr'}\n",
    "Asprin100"
   ]
  },
  {
   "cell_type": "markdown",
   "metadata": {},
   "source": [
    "## Reading CSV as a dictionary\n",
    "\n",
    "The csv module has a DictReader class that will read the CSV file into a list of dictionaries with one row per input data row, and key/value pairs that use the column names from the header row as key names."
   ]
  },
  {
   "cell_type": "code",
   "execution_count": 65,
   "metadata": {},
   "outputs": [],
   "source": [
    "import csv\n",
    "f = open('/data/preexisting.csv')\n",
    "reader = csv.DictReader(f)\n",
    "    \n",
    "    "
   ]
  },
  {
   "cell_type": "code",
   "execution_count": 66,
   "metadata": {},
   "outputs": [],
   "source": [
    "row  = next(reader)"
   ]
  },
  {
   "cell_type": "code",
   "execution_count": 67,
   "metadata": {},
   "outputs": [
    {
     "data": {
      "text/plain": [
       "{'Enrolled Through April 30, 2011': '103',\n",
       " 'Enrolled Through April 30, 2012': '524',\n",
       " 'Enrolled Through April 30, 2013': '820',\n",
       " 'Enrolled Through August 31, 2011': '230',\n",
       " 'Enrolled Through August 31, 2012': '679',\n",
       " 'Enrolled Through August 31, 2013': '711',\n",
       " 'Enrolled Through Dec. 31, 2012': '911',\n",
       " 'Enrolled Through December 31, 2011': '389',\n",
       " 'Enrolled Through December 31, 2013': '123',\n",
       " 'Enrolled Through Feb. 28, 2013': '1006',\n",
       " 'Enrolled Through February 1, 2011': '77',\n",
       " 'Enrolled Through February 29, 2012': '429',\n",
       " 'Enrolled Through Jan. 31, 2013': '972',\n",
       " 'Enrolled Through January 31, 2014  ': '115',\n",
       " 'Enrolled Through July 31, 2011': '182',\n",
       " 'Enrolled Through July 31, 2012': '635',\n",
       " 'Enrolled Through July 31, 2013': '736',\n",
       " 'Enrolled Through June 30, 2011': '138',\n",
       " 'Enrolled Through June 30, 2012': '590',\n",
       " 'Enrolled Through June 30, 2013': '766',\n",
       " 'Enrolled Through Mar. 31, 2013': '821',\n",
       " 'Enrolled Through March 31, 2011': '91',\n",
       " 'Enrolled Through March 31, 2012': '466',\n",
       " 'Enrolled Through May 31, 2011': '118',\n",
       " 'Enrolled Through May 31, 2012': '559',\n",
       " 'Enrolled Through May 31, 2013': '795',\n",
       " 'Enrolled Through Nov. 30, 2012': '838',\n",
       " 'Enrolled Through November 1, 2011': '61',\n",
       " 'Enrolled Through November 30, 2011': '340',\n",
       " 'Enrolled Through November 30, 2013': '594',\n",
       " 'Enrolled Through October 31, 2011': '296',\n",
       " 'Enrolled Through October 31, 2012': '794',\n",
       " 'Enrolled Through October 31, 2013': '639',\n",
       " 'Enrolled Through September 30, 2011': '275',\n",
       " 'Enrolled Through September 30, 2012': '735',\n",
       " 'Enrolled Through September 30, 2013': '672',\n",
       " 'Federally/State Administered': 'Federal',\n",
       " 'State': 'Alabama'}"
      ]
     },
     "execution_count": 67,
     "metadata": {},
     "output_type": "execute_result"
    }
   ],
   "source": [
    "row"
   ]
  },
  {
   "cell_type": "code",
   "execution_count": null,
   "metadata": {},
   "outputs": [],
   "source": [
    "# State,POPESTIMATE2014,POPESTIMATE2015,POPESTIMATE2016\n",
    "# AL,3098123,3498234,3398475\n",
    "# AR,4587691,,\n",
    "# CO,,\n",
    "\n",
    "\n",
    "\n",
    "import csv\n",
    "\n",
    "years = [2014, 2015, 2016]\n",
    "with open(filename) as f:\n",
    "    reader = csv.DictReader(f)\n",
    "    for row in reader:\n",
    "        # avg = (row['POPESTIMATE2015'] + row['POPESTIMATE2016']) / 2\n",
    "        total = 0\n",
    "        count = 0\n",
    "        for yr in years:\n",
    "            total += row['POPESTIMATE' + str(yr)]\n",
    "        avg = total / len(years)\n",
    "        \n",
    "        print(avg)\n",
    "        "
   ]
  },
  {
   "cell_type": "code",
   "execution_count": null,
   "metadata": {},
   "outputs": [],
   "source": [
    "import csv\n",
    "with open('/midterm/census.csv') as f:\n",
    "    L = csv.DictReader(f)\n",
    "    row1 = next(L)\n",
    "    print(list(row1.keys()))"
   ]
  },
  {
   "cell_type": "markdown",
   "metadata": {},
   "source": [
    "# Inverting Dictionaries"
   ]
  },
  {
   "cell_type": "code",
   "execution_count": 68,
   "metadata": {},
   "outputs": [],
   "source": [
    "patient_ages = {\n",
    "    \"E143291\": 19,\n",
    "    \"E872839\": 32,\n",
    "    \"E878198\": 19,\n",
    "    \"E871111\": 21,\n",
    "    \"E143299\": 3,\n",
    "    \"E123332\": 21,\n",
    "    \"E989891\": 19\n",
    "} "
   ]
  },
  {
   "cell_type": "code",
   "execution_count": 69,
   "metadata": {},
   "outputs": [
    {
     "data": {
      "text/plain": [
       "{3: 1, 19: 3, 21: 2, 32: 1}"
      ]
     },
     "execution_count": 69,
     "metadata": {},
     "output_type": "execute_result"
    }
   ],
   "source": [
    "age_counts = {}\n",
    "for pat_id, age in patient_ages.items():\n",
    "    if age in age_counts:\n",
    "        age_counts[age] += 1\n",
    "    else:\n",
    "        age_counts[age] = 1\n",
    "        \n",
    "age_counts"
   ]
  },
  {
   "cell_type": "code",
   "execution_count": 70,
   "metadata": {},
   "outputs": [
    {
     "data": {
      "text/plain": [
       "{3: 1, 19: 3, 21: 2, 32: 1}"
      ]
     },
     "execution_count": 70,
     "metadata": {},
     "output_type": "execute_result"
    }
   ],
   "source": [
    "age_counts = {}\n",
    "for pat_id, age in patient_ages.items():\n",
    "    age_counts.setdefault(age, 0)\n",
    "    age_counts[age] += 1\n",
    "    \n",
    "age_counts"
   ]
  },
  {
   "cell_type": "code",
   "execution_count": null,
   "metadata": {},
   "outputs": [],
   "source": []
  },
  {
   "cell_type": "code",
   "execution_count": null,
   "metadata": {},
   "outputs": [],
   "source": []
  },
  {
   "cell_type": "code",
   "execution_count": null,
   "metadata": {},
   "outputs": [],
   "source": []
  },
  {
   "cell_type": "code",
   "execution_count": 71,
   "metadata": {},
   "outputs": [
    {
     "name": "stdout",
     "output_type": "stream",
     "text": [
      "E123332 21\n",
      "21 is not here\n",
      "E143299 3\n",
      "3 is not here\n",
      "E871111 21\n",
      "21 is already here\n",
      "E878198 19\n",
      "19 is not here\n",
      "E143291 19\n",
      "19 is already here\n",
      "E989891 19\n",
      "19 is already here\n",
      "E872839 32\n",
      "32 is not here\n"
     ]
    },
    {
     "data": {
      "text/plain": [
       "{3: ['E143299'],\n",
       " 19: ['E878198', 'E143291', 'E989891'],\n",
       " 21: ['E123332', 'E871111'],\n",
       " 32: ['E872839']}"
      ]
     },
     "execution_count": 71,
     "metadata": {},
     "output_type": "execute_result"
    }
   ],
   "source": [
    "age_patients = {}\n",
    "for pat_id, age in patient_ages.items():\n",
    "    print(pat_id, age)\n",
    "    \n",
    "    if age in age_patients:\n",
    "        print(age, \"is already here\")\n",
    "        age_patients[age].append(pat_id)\n",
    "    else:\n",
    "        print(age, \"is not here\")\n",
    "        age_patients[age] = [pat_id]\n",
    "\n",
    "age_patients"
   ]
  },
  {
   "cell_type": "code",
   "execution_count": 72,
   "metadata": {},
   "outputs": [
    {
     "name": "stdout",
     "output_type": "stream",
     "text": [
      "E123332 21\n",
      "E143299 3\n",
      "E871111 21\n",
      "E878198 19\n",
      "E143291 19\n",
      "E989891 19\n",
      "E872839 32\n"
     ]
    },
    {
     "data": {
      "text/plain": [
       "{3: ['E143299'],\n",
       " 19: ['E878198', 'E143291', 'E989891'],\n",
       " 21: ['E123332', 'E871111'],\n",
       " 32: ['E872839']}"
      ]
     },
     "execution_count": 72,
     "metadata": {},
     "output_type": "execute_result"
    }
   ],
   "source": [
    "age_patients = {}\n",
    "for pat_id, age in patient_ages.items():\n",
    "    print(pat_id, age)\n",
    "    \n",
    "    age_patients.setdefault(age,[])\n",
    "    age_patients[age].append(pat_id)\n",
    "\n",
    "age_patients"
   ]
  },
  {
   "cell_type": "code",
   "execution_count": null,
   "metadata": {},
   "outputs": [],
   "source": [
    "age_patients = {}\n",
    "for pat_id, age in patient_ages.items():\n",
    "    print(pat_id, age)\n",
    "\n",
    "    if age not in age_patients:\n",
    "        age_patients[age] = []\n",
    "    \n",
    "    age_patients[age].append(pat_id)\n",
    "    print(\"Age {:d} has {:d} patients\".format(age, len(age_patients[age])))\n",
    "\n",
    "age_patients\n",
    "\n",
    "for age, pat_list in age_patients.items():\n",
    "    print(\"-- Age {:d} has {:d} patients\".format(age, len(pat_list)))\n",
    "    "
   ]
  },
  {
   "cell_type": "markdown",
   "metadata": {},
   "source": [
    "# Sets\n",
    "\n",
    "Sets are a special kind of list that is always a unique set of values - there won't be any duplicates.\n",
    "\n",
    "You can also think about it as just a dictionary with only keys - remember that dictionaries can only have one entry for each key."
   ]
  },
  {
   "cell_type": "code",
   "execution_count": 73,
   "metadata": {},
   "outputs": [
    {
     "data": {
      "text/plain": [
       "{'F', 'M', 'O', 'U'}"
      ]
     },
     "execution_count": 73,
     "metadata": {},
     "output_type": "execute_result"
    }
   ],
   "source": [
    "sex = {'M', 'F', 'U', 'O'}\n",
    "sex"
   ]
  },
  {
   "cell_type": "code",
   "execution_count": 74,
   "metadata": {},
   "outputs": [
    {
     "data": {
      "text/plain": [
       "{'F', 'M', 'O', 'U'}"
      ]
     },
     "execution_count": 74,
     "metadata": {},
     "output_type": "execute_result"
    }
   ],
   "source": [
    "sex = {'M', 'F', 'U', 'M', 'F', 'O'}\n",
    "sex"
   ]
  },
  {
   "cell_type": "code",
   "execution_count": 75,
   "metadata": {},
   "outputs": [
    {
     "data": {
      "text/plain": [
       "{'F', 'M', 'O', 'T', 'U'}"
      ]
     },
     "execution_count": 75,
     "metadata": {},
     "output_type": "execute_result"
    }
   ],
   "source": [
    "sex.add('T')\n",
    "sex"
   ]
  },
  {
   "cell_type": "markdown",
   "metadata": {},
   "source": [
    "You can also do all kinds of other set operations: See Chapter 11, p202"
   ]
  },
  {
   "cell_type": "markdown",
   "metadata": {},
   "source": [
    "# Tuples\n",
    "\n",
    "There's another special kind of ordered list called a tuple.  What's special about tuples is that they can't be altered once they're created, even though the objects inside them can be.  Weird.\n",
    "\n",
    "One thing you can do with tuples, is assign to multiple variables at once."
   ]
  },
  {
   "cell_type": "code",
   "execution_count": 76,
   "metadata": {},
   "outputs": [
    {
     "data": {
      "text/plain": [
       "1"
      ]
     },
     "execution_count": 76,
     "metadata": {},
     "output_type": "execute_result"
    }
   ],
   "source": [
    "(a, b) = (1, 2) \n",
    "a"
   ]
  },
  {
   "cell_type": "code",
   "execution_count": 77,
   "metadata": {},
   "outputs": [
    {
     "data": {
      "text/plain": [
       "2"
      ]
     },
     "execution_count": 77,
     "metadata": {},
     "output_type": "execute_result"
    }
   ],
   "source": [
    "b"
   ]
  },
  {
   "cell_type": "code",
   "execution_count": null,
   "metadata": {},
   "outputs": [],
   "source": []
  }
 ],
 "metadata": {
  "kernelspec": {
   "display_name": "Python 3",
   "language": "python",
   "name": "python3"
  },
  "language_info": {
   "codemirror_mode": {
    "name": "ipython",
    "version": 3
   },
   "file_extension": ".py",
   "mimetype": "text/x-python",
   "name": "python",
   "nbconvert_exporter": "python",
   "pygments_lexer": "ipython3",
   "version": "3.5.2"
  }
 },
 "nbformat": 4,
 "nbformat_minor": 1
}
