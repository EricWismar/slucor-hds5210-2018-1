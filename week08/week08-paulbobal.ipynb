{
 "cells": [
  {
   "cell_type": "markdown",
   "metadata": {},
   "source": [
    "_HDS5210: Programming for Health Data Scientists_\n",
    "\n",
    "# Week 8 - Dictionaries and Other Data Types\n",
    "\n"
   ]
  },
  {
   "cell_type": "markdown",
   "metadata": {},
   "source": [
    "## Part 1 - Count up dictionary values\n",
    "\n",
    "Take the dictionary below and return a new dictionary that contains each of the values and a count of how many times they appear as values in the dictionary.\n",
    "\n",
    "I've provided some skeleton code.  Replace the comments with code that does the right thing.\n"
   ]
  },
  {
   "cell_type": "code",
   "execution_count": 1,
   "metadata": {},
   "outputs": [],
   "source": [
    "patient_ages = {\n",
    "    \"E143291\": 19,\n",
    "    \"E872839\": 32,\n",
    "    \"E878198\": 19,\n",
    "    \"E871111\": 21,\n",
    "    \"E143299\": 3,\n",
    "    \"E123332\": 21,\n",
    "    \"E989891\":19\n",
    "} "
   ]
  },
  {
   "cell_type": "code",
   "execution_count": 2,
   "metadata": {},
   "outputs": [
    {
     "name": "stdout",
     "output_type": "stream",
     "text": [
      "{19: 3, 32: 1, 3: 1, 21: 2}\n"
     ]
    }
   ],
   "source": [
    "results = {}\n",
    "for id, age in patient_ages.items():\n",
    "    # Set results[age] = 0 if it doesn't exist yet\n",
    "    # Increment results[age] by 1\n",
    "    results.setdefault(age,0)\n",
    "    results[age] += 1\n",
    "    \n",
    "print(results)"
   ]
  },
  {
   "cell_type": "markdown",
   "metadata": {},
   "source": [
    "The expected output here would be:\n",
    "```\n",
    "{3: 1, 19: 3, 21: 2, 32: 1}\n",
    "```"
   ]
  },
  {
   "cell_type": "markdown",
   "metadata": {},
   "source": [
    "Part 2 - Count by Gender\n",
    "---\n",
    "\n",
    "Now consider the more complex dictionary below.  This one is two levels of dictionary.  That is, the information about each patient is also a dictionary.  The *sub dictionaries* for each patient each contain two named values: *age* and *gender*.  Compute the average age for each gender.  Some skeleton code is provided.\n",
    "\n"
   ]
  },
  {
   "cell_type": "code",
   "execution_count": 3,
   "metadata": {},
   "outputs": [
    {
     "name": "stdout",
     "output_type": "stream",
     "text": [
      "{'F': {'count': 4, 'total': 91}, 'M': {'count': 3, 'total': 43}}\n"
     ]
    }
   ],
   "source": [
    "patients = {\n",
    "    \"E143291\": { \"age\": 19, \"gender\": \"M\" },\n",
    "    \"E872839\": { \"age\": 32, \"gender\": \"F\" },\n",
    "    \"E878198\": { \"age\": 19, \"gender\": \"F\" },\n",
    "    \"E871111\": { \"age\": 21, \"gender\": \"F\" },\n",
    "    \"E143299\": { \"age\": 3,  \"gender\": \"M\" },\n",
    "    \"E123332\": { \"age\": 21, \"gender\": \"M\" },\n",
    "    \"E989891\": { \"age\": 19, \"gender\": \"F\" }\n",
    "}\n",
    "\n",
    "gender_stats = {}\n",
    "for pid, info in patients.items():\n",
    "    age = info['age']\n",
    "    gender = info['gender']\n",
    "    gender_stats.setdefault(gender, { \"count\": 0, \"total\": 0 })\n",
    "    gender_stats[gender]['count'] += 1\n",
    "    gender_stats[gender]['total'] += age\n",
    "    \n",
    "print(gender_stats)\n",
    "    "
   ]
  },
  {
   "cell_type": "markdown",
   "metadata": {},
   "source": [
    "## Part 3 - Count up how many unique values are in the values\n",
    "\n",
    "Try to solve this one in one line if you can...\n",
    "\n",
    "Take the first dictionary from above and count the number of unique ages that appear in the dictionary values.\n"
   ]
  },
  {
   "cell_type": "code",
   "execution_count": 4,
   "metadata": {},
   "outputs": [
    {
     "data": {
      "text/plain": [
       "4"
      ]
     },
     "execution_count": 4,
     "metadata": {},
     "output_type": "execute_result"
    }
   ],
   "source": [
    "patient_ages = {\n",
    "    \"E143291\": 19,\n",
    "    \"E872839\": 32,\n",
    "    \"E878198\": 19,\n",
    "    \"E871111\": 21,\n",
    "    \"E143299\": 3,\n",
    "    \"E123332\": 21,\n",
    "    \"E989891\":19\n",
    "} \n",
    "\n",
    "# Get unique ages from the values above\n",
    "len(set(list(patient_ages.values())))\n"
   ]
  },
  {
   "cell_type": "markdown",
   "metadata": {},
   "source": [
    "The expected output here would be:\n",
    "```\n",
    "4\n",
    "```"
   ]
  },
  {
   "cell_type": "markdown",
   "metadata": {},
   "source": [
    "## Part 3 - Convert a list to a dictionary\n",
    "\n",
    "Take the list of lists below and convert it into a dictionary where the entries in the dictionary are keyed off of whatever values are in column 0, and the dictionary values are the list of all the values that appear with that key from the input list.  See the example below."
   ]
  },
  {
   "cell_type": "code",
   "execution_count": 5,
   "metadata": {},
   "outputs": [
    {
     "data": {
      "text/plain": [
       "{'Boal': ['Paul', 'Ada', 'Teddy'],\n",
       " 'Duck': ['Donald', 'Daisy'],\n",
       " 'Westhus': ['Eric']}"
      ]
     },
     "execution_count": 5,
     "metadata": {},
     "output_type": "execute_result"
    }
   ],
   "source": [
    "names = [['Boal', 'Paul'],\n",
    "         ['Duck', 'Donald'],\n",
    "         ['Duck', 'Daisy'],\n",
    "         ['Boal', 'Ada'],\n",
    "         ['Boal', 'Teddy'],\n",
    "         ['Westhus', 'Eric']]\n",
    "\n",
    "families = {}\n",
    "\n",
    "for name in names:\n",
    "    last = name[0]\n",
    "    first = name[1]\n",
    "    families.setdefault(last, [])\n",
    "    #1 Append the first name onto the list for that last name\n",
    "    families[last].append(first)\n",
    "    \n",
    "families"
   ]
  },
  {
   "cell_type": "markdown",
   "metadata": {},
   "source": [
    "Expected output is:\n",
    "```\n",
    "{\n",
    " 'Boal':    ['Paul', 'Ada', 'Teddy'],\n",
    " 'Duck':    ['Donald', 'Daisy'],\n",
    " 'Westhus': ['Eric']\n",
    "}\n",
    " ```"
   ]
  },
  {
   "cell_type": "markdown",
   "metadata": {},
   "source": [
    "## Part 4 - Join using a dictionary\n",
    "\n",
    "Not joining again!!!  Don't worry, it's easier to do with a dictionary.\n",
    "\n",
    "We have a list of patients, diagnosis, and length of stay.  We also have a dictionary that contains diagnosis and average length of stay.  Produce an output list that lists the patient and an indicator if the patient's stay was 'too long', 'too short', 'just right'"
   ]
  },
  {
   "cell_type": "code",
   "execution_count": 6,
   "metadata": {},
   "outputs": [],
   "source": [
    "avg_los = {\n",
    "    \"Hemolytic jaundice and perinatal jaundice\" : 2,\n",
    "    \"Medical examination/evaluation\" : 3.2,\n",
    "    \"Liveborn\" : 3.2,\n",
    "    \"Trauma to perineum and vulva\" : 2.1,\n",
    "    \"Normal pregnancy and/or delivery\" : 2,\n",
    "    \"Umbilical cord complication\" : 2.1,\n",
    "    \"Forceps delivery\" : 2.2,\n",
    "    \"Administrative/social admission\" : 4.2,\n",
    "    \"Prolonged pregnancy\" : 2.4,\n",
    "    \"Other complications of pregnancy\" : 2.5\n",
    "}\n",
    "\n",
    "patients = [\n",
    "    ['Boal', 'Medical examination/evaluation', 1.1],\n",
    "    ['Boal', 'Other complications of pregnancy', 3.3],\n",
    "    ['Jones', 'Liveborn', 3.2],\n",
    "    ['Ashbury', 'Forceps delivery', 2.0]\n",
    "]"
   ]
  },
  {
   "cell_type": "code",
   "execution_count": 7,
   "metadata": {},
   "outputs": [
    {
     "data": {
      "text/plain": [
       "[['Boal', 'too short'],\n",
       " ['Boal', 'too long'],\n",
       " ['Jones', 'just right'],\n",
       " ['Ashbury', 'too short']]"
      ]
     },
     "execution_count": 7,
     "metadata": {},
     "output_type": "execute_result"
    }
   ],
   "source": [
    "los = []\n",
    "\n",
    "for pat in patients:\n",
    "    last = pat[0]\n",
    "    code = pat[1]\n",
    "    days = pat[2]\n",
    "    target = avg_los[code]\n",
    "\n",
    "    if days < target:\n",
    "        status = 'too short'\n",
    "    elif days > target:\n",
    "        status = 'too long'\n",
    "    else:\n",
    "        status = 'just right'\n",
    "    \n",
    "    los.append([last,status])\n",
    "    \n",
    "los"
   ]
  },
  {
   "cell_type": "markdown",
   "metadata": {},
   "source": [
    "The output we expect to get is:\n",
    "```\n",
    "[['Boal', 'too short'],\n",
    " ['Boal', 'too long'],\n",
    " ['Jones', 'just right'],\n",
    " ['Ashbury', 'too short']]\n",
    "```"
   ]
  },
  {
   "cell_type": "markdown",
   "metadata": {},
   "source": [
    "Part 6 - CSV dictionary reader\n",
    "---\n",
    "\n",
    "Read in `/data/aco_year1.csv` using the DictReader function.  Then aggregate how many plans are availablbe in each state.  Note that the column, States Where Beneficiaries Reside, can have a comma separate list of values in it.\n"
   ]
  },
  {
   "cell_type": "code",
   "execution_count": 8,
   "metadata": {},
   "outputs": [
    {
     "data": {
      "text/plain": [
       "{'Alabama': 3,\n",
       " 'Arizona': 7,\n",
       " 'Arkansas': 2,\n",
       " 'California': 17,\n",
       " 'Colorado': 1,\n",
       " 'Connecticut': 11,\n",
       " 'Delaware': 1,\n",
       " 'District of Columbia': 3,\n",
       " 'Florida': 31,\n",
       " 'Georgia': 13,\n",
       " 'Idaho': 1,\n",
       " 'Illinois': 12,\n",
       " 'Indiana': 10,\n",
       " 'Iowa': 6,\n",
       " 'Kansas': 2,\n",
       " 'Kentucky': 7,\n",
       " 'Louisiana': 2,\n",
       " 'Maine': 3,\n",
       " 'Maryland': 10,\n",
       " 'Massachusetts': 14,\n",
       " 'Michigan': 8,\n",
       " 'Minnesota': 2,\n",
       " 'Mississippi': 3,\n",
       " 'Missouri': 5,\n",
       " 'Montana': 1,\n",
       " 'Nebraska': 2,\n",
       " 'Nevada': 3,\n",
       " 'New Hampshire': 6,\n",
       " 'New Jersey': 11,\n",
       " 'New Mexico': 2,\n",
       " 'New York': 18,\n",
       " 'North Carolina': 7,\n",
       " 'North Dakota': 1,\n",
       " 'Ohio': 8,\n",
       " 'Oklahoma': 1,\n",
       " 'Oregon': 2,\n",
       " 'Pennsylvania': 7,\n",
       " 'Puerto Rico': 2,\n",
       " 'Rhode Island': 2,\n",
       " 'South Carolina': 5,\n",
       " 'Tennessee': 8,\n",
       " 'Texas': 15,\n",
       " 'Utah': 1,\n",
       " 'Vermont': 3,\n",
       " 'Virginia': 7,\n",
       " 'Washington': 2,\n",
       " 'West Virginia': 1,\n",
       " 'Wisconsin': 7,\n",
       " 'Wyoming': 1}"
      ]
     },
     "execution_count": 8,
     "metadata": {},
     "output_type": "execute_result"
    }
   ],
   "source": [
    "import csv\n",
    "\n",
    "acos = {}\n",
    "\n",
    "with open('/data/aco_year1.csv') as file:\n",
    "    csv = csv.DictReader(file)\n",
    "    for r in csv:\n",
    "        states = r['States Where Beneficiaries Reside '].split(',')\n",
    "        for s in states:\n",
    "            state = s.strip()\n",
    "            acos.setdefault(state,0)\n",
    "            acos[state] += 1\n",
    "\n",
    "acos"
   ]
  },
  {
   "cell_type": "code",
   "execution_count": null,
   "metadata": {},
   "outputs": [],
   "source": []
  }
 ],
 "metadata": {
  "kernelspec": {
   "display_name": "Python 3",
   "language": "python",
   "name": "python3"
  },
  "language_info": {
   "codemirror_mode": {
    "name": "ipython",
    "version": 3
   },
   "file_extension": ".py",
   "mimetype": "text/x-python",
   "name": "python",
   "nbconvert_exporter": "python",
   "pygments_lexer": "ipython3",
   "version": "3.5.2"
  }
 },
 "nbformat": 4,
 "nbformat_minor": 1
}
