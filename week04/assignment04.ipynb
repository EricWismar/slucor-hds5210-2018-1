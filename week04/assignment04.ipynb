{
 "cells": [
  {
   "cell_type": "markdown",
   "metadata": {},
   "source": [
    "_SLUCOR HDS5210 - Programming for Health Data Science - 2018 Spring_\n",
    "\n",
    "## Week 4 (Feb 12) Exercises\n",
    "\n",
    "Before starting, be sure that you have completed the GitHub setup from week 2 and have your hds5210-week02 repository setup from the homework last assignments. You'll continue to use the same Git project / repository to submit your assignments.\n",
    "\n",
    "Note that the lecture notes for this week can be found here:\n",
    "https://drive.google.com/open?id=12qaE8sNPWRMqcfeI9eSBxzUscz8KZDBf"
   ]
  },
  {
   "cell_type": "markdown",
   "metadata": {},
   "source": [
    "---\n",
    "# 1 - NAND (5 pts)\n",
    "Inside of computer chips, it's often easier to do a logical operation called NAND (not and).  Write a function that takes two boolean parameters and returns the NAND of those values.  Here is the k-map for NAND:\n",
    "\n",
    "```\n",
    "NAND: \n",
    "\n",
    "        TRUE   FALSE\n",
    "TRUE    False  True\n",
    "FALSE   True   True\n",
    "```\n",
    "\n",
    "Include the four tests from the k-map in your docstring, and show the output of testing your function for correct operation using testmod() as demonstrated during class."
   ]
  },
  {
   "cell_type": "code",
   "execution_count": null,
   "metadata": {
    "collapsed": true
   },
   "outputs": [],
   "source": []
  },
  {
   "cell_type": "markdown",
   "metadata": {},
   "source": [
    "# 2 - LACE Score (10 pts)\n",
    "There is a simple readmission index called the LACE Score: https://www.hindawi.com/journals/bmri/2015/169870/tab1/\n",
    "\n",
    "Use this documentation to create a function that can compute LACE scores based on the 4 input parameters.  Below is the function signature and documentation that you start with. Include 3 test cases and demonstrate them using testmod()."
   ]
  },
  {
   "cell_type": "code",
   "execution_count": null,
   "metadata": {
    "collapsed": true
   },
   "outputs": [],
   "source": [
    "def LACE( length_of_stay, acute_flag, charlson, ed_visits):\n",
    "    \"\"\"(int, bool, int, int) -> int\n",
    "    This function uses the logic from https://www.hindawi.com/journals/bmri/2015/169870/tab1/\n",
    "    to compute the LACE score for this patient.\n",
    "    \n",
    "    >>> LACE(4, False, 1, 0)\n",
    "    5\n",
    "    \n",
    "    >>> LACE(4, True, 4, 7)\n",
    "    16\n",
    "    \n",
    "    \"\"\""
   ]
  },
  {
   "cell_type": "markdown",
   "metadata": {},
   "source": [
    "# 3 - Care Management Criteria (5 pts)\n",
    "Care managers use LACE as part of the criteria for assigning a care coodinator to a patient who has been recently discharged. If the score is above 10, then a care coordinator will be assigned. The other criteria they use is if the patient has been discharged with a diagnosis of CHF or COPD.  If the diagnosis field has CHF or COPD in it, then the patient will have a care coordinator assigned.\n",
    "\n",
    "For this exercise, write another function that takes the same inputs as LACE() plus another diagnosis parameter, and return True or False depending on if the paient needs a care coordinator.\n",
    "\n",
    "**NOTE** Pay attention to the fact that the order of parameters in this function definition are not the same as the order they were in the LACE score.  "
   ]
  },
  {
   "cell_type": "code",
   "execution_count": 1,
   "metadata": {
    "collapsed": true
   },
   "outputs": [],
   "source": [
    "def assign_care_coordinator(diagnosis_cd, ed_visit_count, length_of_stay, acute_flag, charlson):\n",
    "    \"\"\" (str, int, int, bool, int) -> bool\n",
    "    Care managers use LACE as part of the criteria for assigning a care coodinator to a \n",
    "    patient who has been recently discharged. If the score is above 10, then a care \n",
    "    coordinator will be assigned. The other criteria they use is if the patient has been \n",
    "    discharged with a diagnosis of CHF or COPD. If the diagnosis field has CHF or COPD in \n",
    "    it, then the patient will have a care coordinator assigned.\n",
    "    \n",
    "    >>> assign_care_coordinator('None', 0, 4, False, 1)\n",
    "    False\n",
    "\n",
    "    >>> assign_care_coordinator('CHF', 0, 4, False, 1)\n",
    "    True\n",
    "\n",
    "    >>> assign_care_coordinator('COPD', 0, 4, False, 1)\n",
    "    True\n",
    "\n",
    "    >>> assign_care_coordinator('None', 7, 4, True, 4)\n",
    "    True\n",
    "    \n",
    "    >>> assign_care_coordinator('CHF', 7, 4, True, 4)\n",
    "    True\n",
    "    \"\"\""
   ]
  },
  {
   "cell_type": "markdown",
   "metadata": {},
   "source": [
    "Stretch - PARR-30 Readmissions Model\n",
    "---\n",
    "\n",
    "As before, this question is optional, but if you submit a correct answer, you'll be eligible for a prize later in the semester.\n",
    "\n",
    "**A)** Create a function that implements the PARR-30 readmission risk score.  You can find documentation that explains this model here: https://www.nuffieldtrust.org.uk/research/how-to-implement-the-parr-30-model-required-data-and-algorithm#how-do-you-turn-that-into-a-risk-of-readmission\n",
    "\n",
    "There is a link in that document that has the necessary coefficients for the model.  http://bmjopen.bmj.com/content/2/4/e001667/suppl/DC1\n",
    "\n",
    "There are two parts of the algorithm that we haven't learned a good technique for, yet, so you can skip those factors in your implementation of the PARR-30 model:\n",
    "* The NHS organisation code\n",
    "* The patient's postcode\n",
    "\n",
    "**B)** Demonstrate the correct operation of your PARR-30 function by writing a short program that requests the user to interactively input the various parameters and then outputs a \"report\" that prints a listing of all of the inputs and the resulting risk score."
   ]
  },
  {
   "cell_type": "code",
   "execution_count": 1,
   "metadata": {},
   "outputs": [
    {
     "name": "stdout",
     "output_type": "stream",
     "text": [
      "enter a value10\n"
     ]
    }
   ],
   "source": [
    "a = input(\"enter a value\")"
   ]
  },
  {
   "cell_type": "code",
   "execution_count": 2,
   "metadata": {},
   "outputs": [
    {
     "data": {
      "text/plain": [
       "'10'"
      ]
     },
     "execution_count": 2,
     "metadata": {},
     "output_type": "execute_result"
    }
   ],
   "source": [
    "a"
   ]
  },
  {
   "cell_type": "code",
   "execution_count": null,
   "metadata": {},
   "outputs": [],
   "source": []
  }
 ],
 "metadata": {
  "kernelspec": {
   "display_name": "Python 3",
   "language": "python",
   "name": "python3"
  },
  "language_info": {
   "codemirror_mode": {
    "name": "ipython",
    "version": 3
   },
   "file_extension": ".py",
   "mimetype": "text/x-python",
   "name": "python",
   "nbconvert_exporter": "python",
   "pygments_lexer": "ipython3",
   "version": "3.5.2"
  }
 },
 "nbformat": 4,
 "nbformat_minor": 1
}
